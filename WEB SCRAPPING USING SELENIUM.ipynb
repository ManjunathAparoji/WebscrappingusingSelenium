{
 "cells": [
  {
   "cell_type": "markdown",
   "metadata": {},
   "source": [
    "### 1 python program to scrape data for “Data Analyst” Job position in  “Bangalore” location."
   ]
  },
  {
   "cell_type": "code",
   "execution_count": 94,
   "metadata": {},
   "outputs": [
    {
     "name": "stdout",
     "output_type": "stream",
     "text": [
      "Requirement already satisfied: selenium in c:\\users\\manjunath aparoji\\anaconda3\\lib\\site-packages (3.141.0)\n",
      "Requirement already satisfied: urllib3 in c:\\users\\manjunath aparoji\\anaconda3\\lib\\site-packages (from selenium) (1.25.11)\n"
     ]
    }
   ],
   "source": [
    "!pip install selenium"
   ]
  },
  {
   "cell_type": "code",
   "execution_count": 95,
   "metadata": {},
   "outputs": [],
   "source": [
    "import selenium\n",
    "import pandas as pd\n",
    "from selenium import webdriver"
   ]
  },
  {
   "cell_type": "code",
   "execution_count": 96,
   "metadata": {},
   "outputs": [],
   "source": [
    "driver = webdriver.Chrome(\"chromedriver.exe\")"
   ]
  },
  {
   "cell_type": "code",
   "execution_count": 17,
   "metadata": {},
   "outputs": [],
   "source": [
    "url = 'https://www.naukri.com/'\n",
    "driver.get(url)"
   ]
  },
  {
   "cell_type": "code",
   "execution_count": 19,
   "metadata": {},
   "outputs": [
    {
     "data": {
      "text/plain": [
       "<selenium.webdriver.remote.webelement.WebElement (session=\"ba0946e38280cb40f9a1000ef82ba47f\", element=\"eba3327d-7c79-4499-ba5e-dc121e58561d\")>"
      ]
     },
     "execution_count": 19,
     "metadata": {},
     "output_type": "execute_result"
    }
   ],
   "source": [
    "search_job = driver.find_element_by_id(\"qsb-keyword-sugg\")\n",
    "search_job"
   ]
  },
  {
   "cell_type": "code",
   "execution_count": 20,
   "metadata": {},
   "outputs": [],
   "source": [
    "search_job.send_keys(\"Data Analyst\")"
   ]
  },
  {
   "cell_type": "code",
   "execution_count": 24,
   "metadata": {},
   "outputs": [],
   "source": [
    "search_loc = driver.find_element_by_id(\"qsb-location-sugg\")\n",
    "search_loc.send_keys(\"Bangalore\")"
   ]
  },
  {
   "cell_type": "code",
   "execution_count": 25,
   "metadata": {},
   "outputs": [
    {
     "data": {
      "text/plain": [
       "<selenium.webdriver.remote.webelement.WebElement (session=\"ba0946e38280cb40f9a1000ef82ba47f\", element=\"d2f6e269-ce39-466c-9e04-6dc66da1c420\")>"
      ]
     },
     "execution_count": 25,
     "metadata": {},
     "output_type": "execute_result"
    }
   ],
   "source": [
    "search_btn = driver.find_element_by_xpath(\"//button[@class='btn']\")\n",
    "search_btn"
   ]
  },
  {
   "cell_type": "code",
   "execution_count": 26,
   "metadata": {},
   "outputs": [],
   "source": [
    "search_btn.click()"
   ]
  },
  {
   "cell_type": "code",
   "execution_count": 31,
   "metadata": {},
   "outputs": [
    {
     "data": {
      "text/plain": [
       "[<selenium.webdriver.remote.webelement.WebElement (session=\"ba0946e38280cb40f9a1000ef82ba47f\", element=\"3063a1eb-318e-4466-b621-f4df11eeb908\")>,\n",
       " <selenium.webdriver.remote.webelement.WebElement (session=\"ba0946e38280cb40f9a1000ef82ba47f\", element=\"97997890-6ec8-454e-9f1a-d384d8302f6d\")>,\n",
       " <selenium.webdriver.remote.webelement.WebElement (session=\"ba0946e38280cb40f9a1000ef82ba47f\", element=\"fc71819f-fab6-4c46-9866-b0b2f2d0fc69\")>,\n",
       " <selenium.webdriver.remote.webelement.WebElement (session=\"ba0946e38280cb40f9a1000ef82ba47f\", element=\"247e50c2-d743-432b-8d59-5b725926c8db\")>,\n",
       " <selenium.webdriver.remote.webelement.WebElement (session=\"ba0946e38280cb40f9a1000ef82ba47f\", element=\"c3973bc1-9e5e-4556-a7c1-c2c52fa6d1df\")>,\n",
       " <selenium.webdriver.remote.webelement.WebElement (session=\"ba0946e38280cb40f9a1000ef82ba47f\", element=\"5985c7d5-c22e-4cfd-98e3-7644cd20711b\")>,\n",
       " <selenium.webdriver.remote.webelement.WebElement (session=\"ba0946e38280cb40f9a1000ef82ba47f\", element=\"750f8404-5eae-4a26-89fe-7679d76cf87b\")>,\n",
       " <selenium.webdriver.remote.webelement.WebElement (session=\"ba0946e38280cb40f9a1000ef82ba47f\", element=\"910b7aba-7ed8-4aaa-8f01-3bc0ecd27249\")>,\n",
       " <selenium.webdriver.remote.webelement.WebElement (session=\"ba0946e38280cb40f9a1000ef82ba47f\", element=\"405dae03-d88f-4da7-bc53-31a721e93505\")>,\n",
       " <selenium.webdriver.remote.webelement.WebElement (session=\"ba0946e38280cb40f9a1000ef82ba47f\", element=\"db893232-3bf1-4b27-bd26-d94018876f08\")>,\n",
       " <selenium.webdriver.remote.webelement.WebElement (session=\"ba0946e38280cb40f9a1000ef82ba47f\", element=\"c08d53ba-3376-406e-a01b-2d4869f6d00a\")>,\n",
       " <selenium.webdriver.remote.webelement.WebElement (session=\"ba0946e38280cb40f9a1000ef82ba47f\", element=\"2e9162df-965e-465d-932b-f68e57e89bc9\")>,\n",
       " <selenium.webdriver.remote.webelement.WebElement (session=\"ba0946e38280cb40f9a1000ef82ba47f\", element=\"e298f790-7dd8-4015-b5c4-0927f264736c\")>,\n",
       " <selenium.webdriver.remote.webelement.WebElement (session=\"ba0946e38280cb40f9a1000ef82ba47f\", element=\"cd1e5103-a1d3-40bb-814a-62c927de0bd5\")>,\n",
       " <selenium.webdriver.remote.webelement.WebElement (session=\"ba0946e38280cb40f9a1000ef82ba47f\", element=\"73f3f143-7417-463e-8653-05f6d86e45dd\")>,\n",
       " <selenium.webdriver.remote.webelement.WebElement (session=\"ba0946e38280cb40f9a1000ef82ba47f\", element=\"0260eba8-5fe1-4f5b-9175-162d4ce22edc\")>,\n",
       " <selenium.webdriver.remote.webelement.WebElement (session=\"ba0946e38280cb40f9a1000ef82ba47f\", element=\"4829b04b-ba3b-4a7d-92d8-27b59a58c450\")>,\n",
       " <selenium.webdriver.remote.webelement.WebElement (session=\"ba0946e38280cb40f9a1000ef82ba47f\", element=\"71961f4b-10f0-43a1-bb8d-6372dc022ce8\")>,\n",
       " <selenium.webdriver.remote.webelement.WebElement (session=\"ba0946e38280cb40f9a1000ef82ba47f\", element=\"7916cd0d-3dc8-4a3e-a42f-f14ab27e16c9\")>,\n",
       " <selenium.webdriver.remote.webelement.WebElement (session=\"ba0946e38280cb40f9a1000ef82ba47f\", element=\"e8626cc1-bd15-4ef9-800a-aa67f84a3122\")>]"
      ]
     },
     "execution_count": 31,
     "metadata": {},
     "output_type": "execute_result"
    }
   ],
   "source": [
    "titles_tags=driver.find_elements_by_xpath(\"//a[@class='title fw500 ellipsis']\")\n",
    "titles_tags"
   ]
  },
  {
   "cell_type": "code",
   "execution_count": 36,
   "metadata": {},
   "outputs": [
    {
     "data": {
      "text/plain": [
       "['Business Data Analyst',\n",
       " 'Business Data Analyst',\n",
       " 'Data Analyst',\n",
       " 'Data Analyst/Business Analyst-Gurgaon/Bangalore/Mumbai (only Females)',\n",
       " 'Data Analyst',\n",
       " 'Data Analyst',\n",
       " 'Systems and Data Analyst, Safety and Provisioning',\n",
       " 'Data Analyst',\n",
       " 'Senior Data Analyst - SQL/Tableau/Redshift',\n",
       " 'Lead Data Analyst',\n",
       " 'Data Analyst _ 2-5 Years _ Bangalore',\n",
       " 'Data Analyst',\n",
       " 'Data Analyst',\n",
       " 'Lead Data Analyst',\n",
       " 'Data Analyst , Product',\n",
       " 'Data Annotator | Data Entry | Work From Home | Data analyst | Data QC',\n",
       " 'Senior Data Analyst',\n",
       " 'Senior Data Analyst',\n",
       " 'Data Analyst - Work from Home',\n",
       " 'Data Analyst']"
      ]
     },
     "execution_count": 36,
     "metadata": {},
     "output_type": "execute_result"
    }
   ],
   "source": [
    "job_titles=[]\n",
    "for i in titles_tags:\n",
    "    job_titles.append(i.text)\n",
    "job_titles"
   ]
  },
  {
   "cell_type": "code",
   "execution_count": 41,
   "metadata": {},
   "outputs": [
    {
     "data": {
      "text/plain": [
       "['Business Data Analyst',\n",
       " 'Business Data Analyst',\n",
       " 'Data Analyst',\n",
       " 'Data Analyst/Business Analyst-Gurgaon/Bangalore/Mumbai (only Females)',\n",
       " 'Data Analyst',\n",
       " 'Data Analyst',\n",
       " 'Systems and Data Analyst, Safety and Provisioning',\n",
       " 'Data Analyst',\n",
       " 'Senior Data Analyst - SQL/Tableau/Redshift',\n",
       " 'Lead Data Analyst']"
      ]
     },
     "execution_count": 41,
     "metadata": {},
     "output_type": "execute_result"
    }
   ],
   "source": [
    "job_titles_list=job_titles[:10]\n",
    "job_titles_list"
   ]
  },
  {
   "cell_type": "code",
   "execution_count": 43,
   "metadata": {},
   "outputs": [
    {
     "data": {
      "text/plain": [
       "[<selenium.webdriver.remote.webelement.WebElement (session=\"ba0946e38280cb40f9a1000ef82ba47f\", element=\"d7b95fd8-6cd4-470d-9e98-410edb3bf003\")>,\n",
       " <selenium.webdriver.remote.webelement.WebElement (session=\"ba0946e38280cb40f9a1000ef82ba47f\", element=\"e2d54e4f-2e91-4914-b580-fa22ff434c01\")>,\n",
       " <selenium.webdriver.remote.webelement.WebElement (session=\"ba0946e38280cb40f9a1000ef82ba47f\", element=\"f315001e-bd0e-471c-87a6-1f4cc466d007\")>,\n",
       " <selenium.webdriver.remote.webelement.WebElement (session=\"ba0946e38280cb40f9a1000ef82ba47f\", element=\"a311554c-9184-4b6e-95e2-58269a5320e2\")>,\n",
       " <selenium.webdriver.remote.webelement.WebElement (session=\"ba0946e38280cb40f9a1000ef82ba47f\", element=\"3d9e20a4-4e14-4e28-9b7c-f187d116bca6\")>,\n",
       " <selenium.webdriver.remote.webelement.WebElement (session=\"ba0946e38280cb40f9a1000ef82ba47f\", element=\"ff084fbb-f4c2-4ded-8db8-38da709c80da\")>,\n",
       " <selenium.webdriver.remote.webelement.WebElement (session=\"ba0946e38280cb40f9a1000ef82ba47f\", element=\"39c3ce2d-56e4-41ec-8f05-20171779391b\")>,\n",
       " <selenium.webdriver.remote.webelement.WebElement (session=\"ba0946e38280cb40f9a1000ef82ba47f\", element=\"bb8d4ac9-df93-46bd-9b8f-5ba2db10c7f0\")>,\n",
       " <selenium.webdriver.remote.webelement.WebElement (session=\"ba0946e38280cb40f9a1000ef82ba47f\", element=\"3f833d32-a738-432c-b99b-aae8bb18619c\")>,\n",
       " <selenium.webdriver.remote.webelement.WebElement (session=\"ba0946e38280cb40f9a1000ef82ba47f\", element=\"08acfcb8-9a37-4afe-861e-4d35f1ec5c6b\")>,\n",
       " <selenium.webdriver.remote.webelement.WebElement (session=\"ba0946e38280cb40f9a1000ef82ba47f\", element=\"9ca67acb-643f-4e10-a0ef-b30c6f4134d3\")>,\n",
       " <selenium.webdriver.remote.webelement.WebElement (session=\"ba0946e38280cb40f9a1000ef82ba47f\", element=\"20d5d06c-a5e4-4776-91bc-7a92ac4a683c\")>,\n",
       " <selenium.webdriver.remote.webelement.WebElement (session=\"ba0946e38280cb40f9a1000ef82ba47f\", element=\"1c5e26aa-5687-430b-9bc1-16c63378213f\")>,\n",
       " <selenium.webdriver.remote.webelement.WebElement (session=\"ba0946e38280cb40f9a1000ef82ba47f\", element=\"14b972ef-57f7-41a3-afbb-200ed3ea2dcd\")>,\n",
       " <selenium.webdriver.remote.webelement.WebElement (session=\"ba0946e38280cb40f9a1000ef82ba47f\", element=\"820c2183-76e5-458d-97e8-fe997996d8b0\")>,\n",
       " <selenium.webdriver.remote.webelement.WebElement (session=\"ba0946e38280cb40f9a1000ef82ba47f\", element=\"87e01d6f-3880-47c2-99c3-ca4c93d3c44e\")>,\n",
       " <selenium.webdriver.remote.webelement.WebElement (session=\"ba0946e38280cb40f9a1000ef82ba47f\", element=\"0788440f-1106-4c24-91ef-668e30b3b042\")>,\n",
       " <selenium.webdriver.remote.webelement.WebElement (session=\"ba0946e38280cb40f9a1000ef82ba47f\", element=\"9931dbe9-d7aa-4a1b-942c-37f6bc279a48\")>,\n",
       " <selenium.webdriver.remote.webelement.WebElement (session=\"ba0946e38280cb40f9a1000ef82ba47f\", element=\"d9a305b2-99cd-494d-aad1-ae4641f93b76\")>,\n",
       " <selenium.webdriver.remote.webelement.WebElement (session=\"ba0946e38280cb40f9a1000ef82ba47f\", element=\"c5344c2b-e73e-4183-bff2-02e963640753\")>]"
      ]
     },
     "execution_count": 43,
     "metadata": {},
     "output_type": "execute_result"
    }
   ],
   "source": [
    "companies_tags=driver.find_elements_by_xpath(\"//a[@class='subTitle ellipsis fleft']\")\n",
    "companies_tags"
   ]
  },
  {
   "cell_type": "code",
   "execution_count": 49,
   "metadata": {},
   "outputs": [
    {
     "data": {
      "text/plain": [
       "['Trigent Software',\n",
       " 'Trigent Software',\n",
       " 'Chaitanya India Fin Credit P',\n",
       " 'India Medtronic Pvt. Ltd,.',\n",
       " 'WEIWO Communication Pvt. Ltd.',\n",
       " 'GCC SERVICES INDIA PRIVATE LIMITED',\n",
       " 'AECOM India Private Limited',\n",
       " 'Enzen Global Solutions Pvt. Ltd',\n",
       " 'Pronto Consulting Services',\n",
       " 'Bidgely Technologies Private Limited']"
      ]
     },
     "execution_count": 49,
     "metadata": {},
     "output_type": "execute_result"
    }
   ],
   "source": [
    "company_names=[]\n",
    "for i in companies_tags:\n",
    "    company_names.append(i.text)\n",
    "company_names[:10]"
   ]
  },
  {
   "cell_type": "code",
   "execution_count": 50,
   "metadata": {},
   "outputs": [
    {
     "data": {
      "text/plain": [
       "['Trigent Software',\n",
       " 'Trigent Software',\n",
       " 'Chaitanya India Fin Credit P',\n",
       " 'India Medtronic Pvt. Ltd,.',\n",
       " 'WEIWO Communication Pvt. Ltd.',\n",
       " 'GCC SERVICES INDIA PRIVATE LIMITED',\n",
       " 'AECOM India Private Limited',\n",
       " 'Enzen Global Solutions Pvt. Ltd',\n",
       " 'Pronto Consulting Services',\n",
       " 'Bidgely Technologies Private Limited']"
      ]
     },
     "execution_count": 50,
     "metadata": {},
     "output_type": "execute_result"
    }
   ],
   "source": [
    "company_names_list=company_names[:10]\n",
    "company_names_list"
   ]
  },
  {
   "cell_type": "code",
   "execution_count": 53,
   "metadata": {},
   "outputs": [
    {
     "data": {
      "text/plain": [
       "[<selenium.webdriver.remote.webelement.WebElement (session=\"ba0946e38280cb40f9a1000ef82ba47f\", element=\"16126322-5b4b-470f-addd-d1ddc852a5ef\")>,\n",
       " <selenium.webdriver.remote.webelement.WebElement (session=\"ba0946e38280cb40f9a1000ef82ba47f\", element=\"23a67ff8-35ca-4426-94b9-216760746826\")>,\n",
       " <selenium.webdriver.remote.webelement.WebElement (session=\"ba0946e38280cb40f9a1000ef82ba47f\", element=\"c2fa2d88-61f9-4d9b-8984-c48ed2a7342a\")>,\n",
       " <selenium.webdriver.remote.webelement.WebElement (session=\"ba0946e38280cb40f9a1000ef82ba47f\", element=\"dc33bc2f-d8cd-4d6f-b41c-c1eabe4968b1\")>,\n",
       " <selenium.webdriver.remote.webelement.WebElement (session=\"ba0946e38280cb40f9a1000ef82ba47f\", element=\"fed1d5b0-a606-4c5f-899f-493f9886f6c1\")>,\n",
       " <selenium.webdriver.remote.webelement.WebElement (session=\"ba0946e38280cb40f9a1000ef82ba47f\", element=\"9030f293-aebb-4d3a-9ee4-d114242d74be\")>,\n",
       " <selenium.webdriver.remote.webelement.WebElement (session=\"ba0946e38280cb40f9a1000ef82ba47f\", element=\"693f957d-aa3a-4429-9688-8fba15ce5230\")>,\n",
       " <selenium.webdriver.remote.webelement.WebElement (session=\"ba0946e38280cb40f9a1000ef82ba47f\", element=\"22faeef6-7128-40e5-99d8-ac3da478a2f9\")>,\n",
       " <selenium.webdriver.remote.webelement.WebElement (session=\"ba0946e38280cb40f9a1000ef82ba47f\", element=\"275efde0-8440-44e1-8575-0f6da3bd7fd8\")>,\n",
       " <selenium.webdriver.remote.webelement.WebElement (session=\"ba0946e38280cb40f9a1000ef82ba47f\", element=\"9eaf5b05-b379-462f-ad64-24a5f23e9c39\")>,\n",
       " <selenium.webdriver.remote.webelement.WebElement (session=\"ba0946e38280cb40f9a1000ef82ba47f\", element=\"430178fa-8e25-4693-b94a-af8b8011e959\")>,\n",
       " <selenium.webdriver.remote.webelement.WebElement (session=\"ba0946e38280cb40f9a1000ef82ba47f\", element=\"47f1b8ce-89f2-4c6f-aa5d-18d14a1f9969\")>,\n",
       " <selenium.webdriver.remote.webelement.WebElement (session=\"ba0946e38280cb40f9a1000ef82ba47f\", element=\"f3dba343-7f74-4788-8c59-5718bdf2bddd\")>,\n",
       " <selenium.webdriver.remote.webelement.WebElement (session=\"ba0946e38280cb40f9a1000ef82ba47f\", element=\"3ba5a06b-d68c-4424-b45d-82cebda39370\")>,\n",
       " <selenium.webdriver.remote.webelement.WebElement (session=\"ba0946e38280cb40f9a1000ef82ba47f\", element=\"8d449049-80e4-42cb-8c70-18d0c7491ba4\")>,\n",
       " <selenium.webdriver.remote.webelement.WebElement (session=\"ba0946e38280cb40f9a1000ef82ba47f\", element=\"49203e69-1ee6-4c83-aa03-ef2bee84c7bb\")>,\n",
       " <selenium.webdriver.remote.webelement.WebElement (session=\"ba0946e38280cb40f9a1000ef82ba47f\", element=\"b2c9f05b-fb25-4bb6-974d-a94ab8b3ff92\")>,\n",
       " <selenium.webdriver.remote.webelement.WebElement (session=\"ba0946e38280cb40f9a1000ef82ba47f\", element=\"e2300121-982f-4275-b34c-2c1d04b281b3\")>,\n",
       " <selenium.webdriver.remote.webelement.WebElement (session=\"ba0946e38280cb40f9a1000ef82ba47f\", element=\"e48dd6be-50a2-4260-9f32-a7566c57e8ed\")>,\n",
       " <selenium.webdriver.remote.webelement.WebElement (session=\"ba0946e38280cb40f9a1000ef82ba47f\", element=\"0cf612e6-d543-45d8-a50f-c1725592bc38\")>]"
      ]
     },
     "execution_count": 53,
     "metadata": {},
     "output_type": "execute_result"
    }
   ],
   "source": [
    "location_tags=driver.find_elements_by_xpath(\"//li[@class='fleft grey-text br2 placeHolderLi location']//span[1]\")\n",
    "location_tags"
   ]
  },
  {
   "cell_type": "code",
   "execution_count": 54,
   "metadata": {},
   "outputs": [
    {
     "data": {
      "text/plain": [
       "['Bangalore/Bengaluru',\n",
       " 'Bangalore/Bengaluru',\n",
       " 'Bangalore/Bengaluru',\n",
       " 'Gurgaon/Gurugram, Bangalore/Bengaluru, Mumbai (All Areas)',\n",
       " 'Bangalore/Bengaluru(Ulsoor)',\n",
       " 'Bangalore/Bengaluru',\n",
       " 'Bangalore/Bengaluru',\n",
       " 'Bangalore/Bengaluru',\n",
       " 'Noida, Mumbai, Indore, Hyderabad/Secunderabad, Pune, Chennai, Bangalore/Bengaluru',\n",
       " 'United States (USA), Bangalore/Bengaluru']"
      ]
     },
     "execution_count": 54,
     "metadata": {},
     "output_type": "execute_result"
    }
   ],
   "source": [
    "job_location=[]\n",
    "for i in location_tags:\n",
    "    job_location.append(i.text)\n",
    "job_location[:10]"
   ]
  },
  {
   "cell_type": "code",
   "execution_count": 57,
   "metadata": {},
   "outputs": [
    {
     "data": {
      "text/plain": [
       "['Bangalore/Bengaluru',\n",
       " 'Bangalore/Bengaluru',\n",
       " 'Bangalore/Bengaluru',\n",
       " 'Gurgaon/Gurugram, Bangalore/Bengaluru, Mumbai (All Areas)',\n",
       " 'Bangalore/Bengaluru(Ulsoor)',\n",
       " 'Bangalore/Bengaluru',\n",
       " 'Bangalore/Bengaluru',\n",
       " 'Bangalore/Bengaluru',\n",
       " 'Noida, Mumbai, Indore, Hyderabad/Secunderabad, Pune, Chennai, Bangalore/Bengaluru',\n",
       " 'United States (USA), Bangalore/Bengaluru']"
      ]
     },
     "execution_count": 57,
     "metadata": {},
     "output_type": "execute_result"
    }
   ],
   "source": [
    "job_location=job_location[:10]\n",
    "job_location"
   ]
  },
  {
   "cell_type": "code",
   "execution_count": 55,
   "metadata": {},
   "outputs": [
    {
     "data": {
      "text/plain": [
       "[<selenium.webdriver.remote.webelement.WebElement (session=\"ba0946e38280cb40f9a1000ef82ba47f\", element=\"5154c70b-cacc-407a-a0b2-2cea71749c48\")>,\n",
       " <selenium.webdriver.remote.webelement.WebElement (session=\"ba0946e38280cb40f9a1000ef82ba47f\", element=\"9ee143e4-01b5-4e3a-9c81-50c856783b24\")>,\n",
       " <selenium.webdriver.remote.webelement.WebElement (session=\"ba0946e38280cb40f9a1000ef82ba47f\", element=\"b8a16921-751b-4b8b-a20d-880fa943ed2b\")>,\n",
       " <selenium.webdriver.remote.webelement.WebElement (session=\"ba0946e38280cb40f9a1000ef82ba47f\", element=\"b7e5ba1e-96ab-4c64-9789-5b967e79faa9\")>,\n",
       " <selenium.webdriver.remote.webelement.WebElement (session=\"ba0946e38280cb40f9a1000ef82ba47f\", element=\"50ff70b8-d3f1-4c1b-ae75-b87c68db492e\")>,\n",
       " <selenium.webdriver.remote.webelement.WebElement (session=\"ba0946e38280cb40f9a1000ef82ba47f\", element=\"f2fbdd06-6bfa-4813-ba8b-e6e590b32bc7\")>,\n",
       " <selenium.webdriver.remote.webelement.WebElement (session=\"ba0946e38280cb40f9a1000ef82ba47f\", element=\"7db625a0-e603-462b-a6a6-64619dd7d2ad\")>,\n",
       " <selenium.webdriver.remote.webelement.WebElement (session=\"ba0946e38280cb40f9a1000ef82ba47f\", element=\"ce96b7a9-53e3-4fa2-b83c-722a21a069f1\")>,\n",
       " <selenium.webdriver.remote.webelement.WebElement (session=\"ba0946e38280cb40f9a1000ef82ba47f\", element=\"5c97d2d8-d912-4f00-81fb-b6a7d1e6ddbb\")>,\n",
       " <selenium.webdriver.remote.webelement.WebElement (session=\"ba0946e38280cb40f9a1000ef82ba47f\", element=\"16ac5bcf-c6c5-4848-b023-7ce9ddb25aa9\")>,\n",
       " <selenium.webdriver.remote.webelement.WebElement (session=\"ba0946e38280cb40f9a1000ef82ba47f\", element=\"dfcdb03a-689c-4ef1-890d-f06b0791a04e\")>,\n",
       " <selenium.webdriver.remote.webelement.WebElement (session=\"ba0946e38280cb40f9a1000ef82ba47f\", element=\"5a023b4e-09a5-49ef-902c-3e7ce3a22469\")>,\n",
       " <selenium.webdriver.remote.webelement.WebElement (session=\"ba0946e38280cb40f9a1000ef82ba47f\", element=\"517d73da-de83-4502-812d-fe4b4b85c31a\")>,\n",
       " <selenium.webdriver.remote.webelement.WebElement (session=\"ba0946e38280cb40f9a1000ef82ba47f\", element=\"68d5d0ee-0270-46cc-aeb6-c0cd20793c37\")>,\n",
       " <selenium.webdriver.remote.webelement.WebElement (session=\"ba0946e38280cb40f9a1000ef82ba47f\", element=\"dfee7038-2be8-4360-92a6-d8a2aa5ecbd2\")>,\n",
       " <selenium.webdriver.remote.webelement.WebElement (session=\"ba0946e38280cb40f9a1000ef82ba47f\", element=\"56c539e7-7fd8-41b6-abb8-36e3aa802a1a\")>,\n",
       " <selenium.webdriver.remote.webelement.WebElement (session=\"ba0946e38280cb40f9a1000ef82ba47f\", element=\"b1a2b02e-f996-4722-9013-e6439b76c203\")>,\n",
       " <selenium.webdriver.remote.webelement.WebElement (session=\"ba0946e38280cb40f9a1000ef82ba47f\", element=\"a94f6042-a0b7-4b10-8254-d1757178f19c\")>,\n",
       " <selenium.webdriver.remote.webelement.WebElement (session=\"ba0946e38280cb40f9a1000ef82ba47f\", element=\"595daa1e-116d-4bc1-ac59-ad5839b3afe8\")>,\n",
       " <selenium.webdriver.remote.webelement.WebElement (session=\"ba0946e38280cb40f9a1000ef82ba47f\", element=\"a3acc0d0-c1ae-43c9-ae4a-b9541d506ed0\")>]"
      ]
     },
     "execution_count": 55,
     "metadata": {},
     "output_type": "execute_result"
    }
   ],
   "source": [
    "experience_tags=driver.find_elements_by_xpath(\"//li[@class='fleft grey-text br2 placeHolderLi experience']//span[1]\")\n",
    "experience_tags"
   ]
  },
  {
   "cell_type": "code",
   "execution_count": 74,
   "metadata": {},
   "outputs": [
    {
     "data": {
      "text/plain": [
       "['3-5 Yrs',\n",
       " '3-5 Yrs',\n",
       " '0-0 Yrs',\n",
       " '1-4 Yrs',\n",
       " '4-8 Yrs',\n",
       " '5-9 Yrs',\n",
       " '3-5 Yrs',\n",
       " '6-8 Yrs',\n",
       " '6-10 Yrs',\n",
       " '5-10 Yrs']"
      ]
     },
     "execution_count": 74,
     "metadata": {},
     "output_type": "execute_result"
    }
   ],
   "source": [
    "job_experience=[]\n",
    "for i in experience_tags:\n",
    "    job_experience.append(i.text)\n",
    "job_experience[:10]"
   ]
  },
  {
   "cell_type": "code",
   "execution_count": 75,
   "metadata": {},
   "outputs": [
    {
     "data": {
      "text/plain": [
       "['3-5 Yrs',\n",
       " '3-5 Yrs',\n",
       " '0-0 Yrs',\n",
       " '1-4 Yrs',\n",
       " '4-8 Yrs',\n",
       " '5-9 Yrs',\n",
       " '3-5 Yrs',\n",
       " '6-8 Yrs',\n",
       " '6-10 Yrs',\n",
       " '5-10 Yrs']"
      ]
     },
     "execution_count": 75,
     "metadata": {},
     "output_type": "execute_result"
    }
   ],
   "source": [
    "job_experience=job_experience[:10]\n",
    "job_experience"
   ]
  },
  {
   "cell_type": "code",
   "execution_count": 77,
   "metadata": {},
   "outputs": [
    {
     "name": "stdout",
     "output_type": "stream",
     "text": [
      "10 10 10 10\n"
     ]
    }
   ],
   "source": [
    "print(len(job_titles_list), len(company_names_list), len(job_location),len(job_experience))"
   ]
  },
  {
   "cell_type": "code",
   "execution_count": 78,
   "metadata": {},
   "outputs": [
    {
     "data": {
      "text/html": [
       "<div>\n",
       "<style scoped>\n",
       "    .dataframe tbody tr th:only-of-type {\n",
       "        vertical-align: middle;\n",
       "    }\n",
       "\n",
       "    .dataframe tbody tr th {\n",
       "        vertical-align: top;\n",
       "    }\n",
       "\n",
       "    .dataframe thead th {\n",
       "        text-align: right;\n",
       "    }\n",
       "</style>\n",
       "<table border=\"1\" class=\"dataframe\">\n",
       "  <thead>\n",
       "    <tr style=\"text-align: right;\">\n",
       "      <th></th>\n",
       "      <th>titles</th>\n",
       "      <th>names</th>\n",
       "      <th>location</th>\n",
       "      <th>experience</th>\n",
       "    </tr>\n",
       "  </thead>\n",
       "  <tbody>\n",
       "    <tr>\n",
       "      <th>0</th>\n",
       "      <td>Business Data Analyst</td>\n",
       "      <td>Trigent Software</td>\n",
       "      <td>Bangalore/Bengaluru</td>\n",
       "      <td>3-5 Yrs</td>\n",
       "    </tr>\n",
       "    <tr>\n",
       "      <th>1</th>\n",
       "      <td>Business Data Analyst</td>\n",
       "      <td>Trigent Software</td>\n",
       "      <td>Bangalore/Bengaluru</td>\n",
       "      <td>3-5 Yrs</td>\n",
       "    </tr>\n",
       "    <tr>\n",
       "      <th>2</th>\n",
       "      <td>Data Analyst</td>\n",
       "      <td>Chaitanya India Fin Credit P</td>\n",
       "      <td>Bangalore/Bengaluru</td>\n",
       "      <td>0-0 Yrs</td>\n",
       "    </tr>\n",
       "    <tr>\n",
       "      <th>3</th>\n",
       "      <td>Data Analyst/Business Analyst-Gurgaon/Bangalor...</td>\n",
       "      <td>India Medtronic Pvt. Ltd,.</td>\n",
       "      <td>Gurgaon/Gurugram, Bangalore/Bengaluru, Mumbai ...</td>\n",
       "      <td>1-4 Yrs</td>\n",
       "    </tr>\n",
       "    <tr>\n",
       "      <th>4</th>\n",
       "      <td>Data Analyst</td>\n",
       "      <td>WEIWO Communication Pvt. Ltd.</td>\n",
       "      <td>Bangalore/Bengaluru(Ulsoor)</td>\n",
       "      <td>4-8 Yrs</td>\n",
       "    </tr>\n",
       "    <tr>\n",
       "      <th>5</th>\n",
       "      <td>Data Analyst</td>\n",
       "      <td>GCC SERVICES INDIA PRIVATE LIMITED</td>\n",
       "      <td>Bangalore/Bengaluru</td>\n",
       "      <td>5-9 Yrs</td>\n",
       "    </tr>\n",
       "    <tr>\n",
       "      <th>6</th>\n",
       "      <td>Systems and Data Analyst, Safety and Provisioning</td>\n",
       "      <td>AECOM India Private Limited</td>\n",
       "      <td>Bangalore/Bengaluru</td>\n",
       "      <td>3-5 Yrs</td>\n",
       "    </tr>\n",
       "    <tr>\n",
       "      <th>7</th>\n",
       "      <td>Data Analyst</td>\n",
       "      <td>Enzen Global Solutions Pvt. Ltd</td>\n",
       "      <td>Bangalore/Bengaluru</td>\n",
       "      <td>6-8 Yrs</td>\n",
       "    </tr>\n",
       "    <tr>\n",
       "      <th>8</th>\n",
       "      <td>Senior Data Analyst - SQL/Tableau/Redshift</td>\n",
       "      <td>Pronto Consulting Services</td>\n",
       "      <td>Noida, Mumbai, Indore, Hyderabad/Secunderabad,...</td>\n",
       "      <td>6-10 Yrs</td>\n",
       "    </tr>\n",
       "    <tr>\n",
       "      <th>9</th>\n",
       "      <td>Lead Data Analyst</td>\n",
       "      <td>Bidgely Technologies Private Limited</td>\n",
       "      <td>United States (USA), Bangalore/Bengaluru</td>\n",
       "      <td>5-10 Yrs</td>\n",
       "    </tr>\n",
       "  </tbody>\n",
       "</table>\n",
       "</div>"
      ],
      "text/plain": [
       "                                              titles  \\\n",
       "0                              Business Data Analyst   \n",
       "1                              Business Data Analyst   \n",
       "2                                       Data Analyst   \n",
       "3  Data Analyst/Business Analyst-Gurgaon/Bangalor...   \n",
       "4                                       Data Analyst   \n",
       "5                                       Data Analyst   \n",
       "6  Systems and Data Analyst, Safety and Provisioning   \n",
       "7                                       Data Analyst   \n",
       "8         Senior Data Analyst - SQL/Tableau/Redshift   \n",
       "9                                  Lead Data Analyst   \n",
       "\n",
       "                                  names  \\\n",
       "0                      Trigent Software   \n",
       "1                      Trigent Software   \n",
       "2          Chaitanya India Fin Credit P   \n",
       "3            India Medtronic Pvt. Ltd,.   \n",
       "4         WEIWO Communication Pvt. Ltd.   \n",
       "5    GCC SERVICES INDIA PRIVATE LIMITED   \n",
       "6           AECOM India Private Limited   \n",
       "7       Enzen Global Solutions Pvt. Ltd   \n",
       "8            Pronto Consulting Services   \n",
       "9  Bidgely Technologies Private Limited   \n",
       "\n",
       "                                            location experience  \n",
       "0                                Bangalore/Bengaluru    3-5 Yrs  \n",
       "1                                Bangalore/Bengaluru    3-5 Yrs  \n",
       "2                                Bangalore/Bengaluru    0-0 Yrs  \n",
       "3  Gurgaon/Gurugram, Bangalore/Bengaluru, Mumbai ...    1-4 Yrs  \n",
       "4                        Bangalore/Bengaluru(Ulsoor)    4-8 Yrs  \n",
       "5                                Bangalore/Bengaluru    5-9 Yrs  \n",
       "6                                Bangalore/Bengaluru    3-5 Yrs  \n",
       "7                                Bangalore/Bengaluru    6-8 Yrs  \n",
       "8  Noida, Mumbai, Indore, Hyderabad/Secunderabad,...   6-10 Yrs  \n",
       "9           United States (USA), Bangalore/Bengaluru   5-10 Yrs  "
      ]
     },
     "execution_count": 78,
     "metadata": {},
     "output_type": "execute_result"
    }
   ],
   "source": [
    "jobs=pd.DataFrame({})\n",
    "jobs['titles']=job_titles_list\n",
    "jobs['names']=company_names_list\n",
    "jobs['location']=job_location\n",
    "jobs['experience']=job_experience   \n",
    "jobs"
   ]
  },
  {
   "cell_type": "markdown",
   "metadata": {},
   "source": [
    "### python program to scrape data for “Data Scientist”"
   ]
  },
  {
   "cell_type": "markdown",
   "metadata": {},
   "source": [
    "***"
   ]
  },
  {
   "cell_type": "code",
   "execution_count": 81,
   "metadata": {},
   "outputs": [],
   "source": [
    "url = 'https://www.naukri.com/'\n",
    "driver.get(url)"
   ]
  },
  {
   "cell_type": "code",
   "execution_count": 82,
   "metadata": {},
   "outputs": [
    {
     "data": {
      "text/plain": [
       "<selenium.webdriver.remote.webelement.WebElement (session=\"ba0946e38280cb40f9a1000ef82ba47f\", element=\"2092886d-e3ca-4c17-844d-8952aff5280f\")>"
      ]
     },
     "execution_count": 82,
     "metadata": {},
     "output_type": "execute_result"
    }
   ],
   "source": [
    "search_job = driver.find_element_by_id(\"qsb-keyword-sugg\")\n",
    "search_job"
   ]
  },
  {
   "cell_type": "code",
   "execution_count": 83,
   "metadata": {},
   "outputs": [],
   "source": [
    "search_job.send_keys(\"Data Scientist\")"
   ]
  },
  {
   "cell_type": "code",
   "execution_count": 84,
   "metadata": {},
   "outputs": [],
   "source": [
    "search_loc = driver.find_element_by_id(\"qsb-location-sugg\")\n",
    "search_loc.send_keys(\"Bangalore\")"
   ]
  },
  {
   "cell_type": "code",
   "execution_count": 85,
   "metadata": {},
   "outputs": [
    {
     "data": {
      "text/plain": [
       "<selenium.webdriver.remote.webelement.WebElement (session=\"ba0946e38280cb40f9a1000ef82ba47f\", element=\"fc0ce4f7-c8e0-4017-919a-d5ed31b0aa9d\")>"
      ]
     },
     "execution_count": 85,
     "metadata": {},
     "output_type": "execute_result"
    }
   ],
   "source": [
    "search_btn = driver.find_element_by_xpath(\"//button[@class='btn']\")\n",
    "search_btn"
   ]
  },
  {
   "cell_type": "code",
   "execution_count": 86,
   "metadata": {},
   "outputs": [],
   "source": [
    "search_btn.click()"
   ]
  },
  {
   "cell_type": "code",
   "execution_count": 87,
   "metadata": {},
   "outputs": [
    {
     "data": {
      "text/plain": [
       "[<selenium.webdriver.remote.webelement.WebElement (session=\"ba0946e38280cb40f9a1000ef82ba47f\", element=\"9dba2702-3abc-47bc-b285-016817c744d6\")>,\n",
       " <selenium.webdriver.remote.webelement.WebElement (session=\"ba0946e38280cb40f9a1000ef82ba47f\", element=\"7b851385-7d38-4fc0-9a96-d127a2e6feb5\")>,\n",
       " <selenium.webdriver.remote.webelement.WebElement (session=\"ba0946e38280cb40f9a1000ef82ba47f\", element=\"7cb69f9a-85f2-4ee0-9950-19103b23cc43\")>,\n",
       " <selenium.webdriver.remote.webelement.WebElement (session=\"ba0946e38280cb40f9a1000ef82ba47f\", element=\"17a332e6-2ebc-42dc-ac23-eedc53090af1\")>,\n",
       " <selenium.webdriver.remote.webelement.WebElement (session=\"ba0946e38280cb40f9a1000ef82ba47f\", element=\"25fcbeaa-8962-4663-9d23-a9012d609d3a\")>,\n",
       " <selenium.webdriver.remote.webelement.WebElement (session=\"ba0946e38280cb40f9a1000ef82ba47f\", element=\"3f05ae81-821f-4ead-9c5a-ebf684477e5b\")>,\n",
       " <selenium.webdriver.remote.webelement.WebElement (session=\"ba0946e38280cb40f9a1000ef82ba47f\", element=\"fe160702-25a1-4fb2-8ead-4b3a322869bc\")>,\n",
       " <selenium.webdriver.remote.webelement.WebElement (session=\"ba0946e38280cb40f9a1000ef82ba47f\", element=\"4cd4f2dd-a4c5-4015-b8d6-25dfaac9a89d\")>,\n",
       " <selenium.webdriver.remote.webelement.WebElement (session=\"ba0946e38280cb40f9a1000ef82ba47f\", element=\"c83c3266-a476-4230-b463-146ebb5d9dc6\")>,\n",
       " <selenium.webdriver.remote.webelement.WebElement (session=\"ba0946e38280cb40f9a1000ef82ba47f\", element=\"9990d634-594c-4c86-a360-90a59b8b1e5f\")>,\n",
       " <selenium.webdriver.remote.webelement.WebElement (session=\"ba0946e38280cb40f9a1000ef82ba47f\", element=\"39185737-77bc-4482-a4c4-2f97b30d82e4\")>,\n",
       " <selenium.webdriver.remote.webelement.WebElement (session=\"ba0946e38280cb40f9a1000ef82ba47f\", element=\"7395014b-e264-44da-8fdf-646338f0f57b\")>,\n",
       " <selenium.webdriver.remote.webelement.WebElement (session=\"ba0946e38280cb40f9a1000ef82ba47f\", element=\"fb207cfd-c0c2-4d20-a70d-887067a5d816\")>,\n",
       " <selenium.webdriver.remote.webelement.WebElement (session=\"ba0946e38280cb40f9a1000ef82ba47f\", element=\"82d29317-f292-4f70-bbfc-943727ba6c96\")>,\n",
       " <selenium.webdriver.remote.webelement.WebElement (session=\"ba0946e38280cb40f9a1000ef82ba47f\", element=\"a4925aff-ff6b-485b-8820-e13b2a6a52e0\")>,\n",
       " <selenium.webdriver.remote.webelement.WebElement (session=\"ba0946e38280cb40f9a1000ef82ba47f\", element=\"9864b50c-6020-4345-bb46-b3f27d8dfa97\")>,\n",
       " <selenium.webdriver.remote.webelement.WebElement (session=\"ba0946e38280cb40f9a1000ef82ba47f\", element=\"eb877b1a-3309-4d06-a962-e54b85675ed1\")>,\n",
       " <selenium.webdriver.remote.webelement.WebElement (session=\"ba0946e38280cb40f9a1000ef82ba47f\", element=\"5256c0c0-4750-4da4-ae70-cbfdad8ce81e\")>,\n",
       " <selenium.webdriver.remote.webelement.WebElement (session=\"ba0946e38280cb40f9a1000ef82ba47f\", element=\"b54fab17-98b9-4218-9f06-7e9df744b870\")>,\n",
       " <selenium.webdriver.remote.webelement.WebElement (session=\"ba0946e38280cb40f9a1000ef82ba47f\", element=\"16801091-8eae-4669-8142-0385c9253cd7\")>]"
      ]
     },
     "execution_count": 87,
     "metadata": {},
     "output_type": "execute_result"
    }
   ],
   "source": [
    "titles_tags=driver.find_elements_by_xpath(\"//a[@class='title fw500 ellipsis']\")\n",
    "titles_tags"
   ]
  },
  {
   "cell_type": "code",
   "execution_count": 89,
   "metadata": {},
   "outputs": [
    {
     "data": {
      "text/plain": [
       "['Senior Data Scientist',\n",
       " 'Lead Data Scientist',\n",
       " 'Senior Data Scientist',\n",
       " 'Senior Data Scientist',\n",
       " 'Senior Data Scientist',\n",
       " 'DATA SCIENTIST',\n",
       " 'Data Scientist - Permanent Role',\n",
       " 'Data Engineers , Data Scientist and SAP',\n",
       " 'Python - Data Scientist',\n",
       " 'Western Digital Data Scientist 3',\n",
       " 'Western Digital Data Scientist',\n",
       " 'Data Scientist 4',\n",
       " 'Data Scientist /Sr.Data Scientist',\n",
       " 'Senior Software Engineer - Data Scientist',\n",
       " 'Senior Associate - Data Scientist',\n",
       " 'Senior Data Scientist',\n",
       " 'Senior Data Scientist',\n",
       " 'Senior Data Scientist',\n",
       " 'Sr Data Scientist',\n",
       " 'Sr . Data Scientist']"
      ]
     },
     "execution_count": 89,
     "metadata": {},
     "output_type": "execute_result"
    }
   ],
   "source": [
    "job_titles = []\n",
    "for i in titles_tags:\n",
    "    job_titles.append(i.text)\n",
    "job_titles    "
   ]
  },
  {
   "cell_type": "code",
   "execution_count": 90,
   "metadata": {},
   "outputs": [
    {
     "data": {
      "text/plain": [
       "['Senior Data Scientist',\n",
       " 'Lead Data Scientist',\n",
       " 'Senior Data Scientist',\n",
       " 'Senior Data Scientist',\n",
       " 'Senior Data Scientist',\n",
       " 'DATA SCIENTIST',\n",
       " 'Data Scientist - Permanent Role',\n",
       " 'Data Engineers , Data Scientist and SAP',\n",
       " 'Python - Data Scientist',\n",
       " 'Western Digital Data Scientist 3']"
      ]
     },
     "execution_count": 90,
     "metadata": {},
     "output_type": "execute_result"
    }
   ],
   "source": [
    "job_titles=job_titles [:10]\n",
    "job_titles "
   ]
  },
  {
   "cell_type": "code",
   "execution_count": 91,
   "metadata": {},
   "outputs": [
    {
     "data": {
      "text/plain": [
       "[<selenium.webdriver.remote.webelement.WebElement (session=\"ba0946e38280cb40f9a1000ef82ba47f\", element=\"0db60c6d-aae9-470a-ad16-eb275f2b79b4\")>,\n",
       " <selenium.webdriver.remote.webelement.WebElement (session=\"ba0946e38280cb40f9a1000ef82ba47f\", element=\"54c8e15c-02ce-41d5-9cbb-6bbe6d90483b\")>,\n",
       " <selenium.webdriver.remote.webelement.WebElement (session=\"ba0946e38280cb40f9a1000ef82ba47f\", element=\"f4f87f07-0dbe-4e43-bd6e-b8e6ef9d0b4c\")>,\n",
       " <selenium.webdriver.remote.webelement.WebElement (session=\"ba0946e38280cb40f9a1000ef82ba47f\", element=\"4453ed8a-98a8-4174-8929-e654da184f9f\")>,\n",
       " <selenium.webdriver.remote.webelement.WebElement (session=\"ba0946e38280cb40f9a1000ef82ba47f\", element=\"4482da37-6134-4945-8beb-dd1d54cfb0b6\")>,\n",
       " <selenium.webdriver.remote.webelement.WebElement (session=\"ba0946e38280cb40f9a1000ef82ba47f\", element=\"f3751a15-4e37-4823-8494-6f5ce5adb741\")>,\n",
       " <selenium.webdriver.remote.webelement.WebElement (session=\"ba0946e38280cb40f9a1000ef82ba47f\", element=\"4f051583-f49f-4d9d-ab34-c384e2bb3243\")>,\n",
       " <selenium.webdriver.remote.webelement.WebElement (session=\"ba0946e38280cb40f9a1000ef82ba47f\", element=\"140c172d-d333-4f2f-acfe-ce4e89f0581b\")>,\n",
       " <selenium.webdriver.remote.webelement.WebElement (session=\"ba0946e38280cb40f9a1000ef82ba47f\", element=\"1e975b48-f9ed-4192-a9db-047f06c74874\")>,\n",
       " <selenium.webdriver.remote.webelement.WebElement (session=\"ba0946e38280cb40f9a1000ef82ba47f\", element=\"a5c083cb-5d5e-459e-a447-2a948e74df29\")>,\n",
       " <selenium.webdriver.remote.webelement.WebElement (session=\"ba0946e38280cb40f9a1000ef82ba47f\", element=\"e5a26353-326c-407d-b870-b76120f2c02d\")>,\n",
       " <selenium.webdriver.remote.webelement.WebElement (session=\"ba0946e38280cb40f9a1000ef82ba47f\", element=\"74f02097-a6c6-4d6a-947f-33fc982e3baf\")>,\n",
       " <selenium.webdriver.remote.webelement.WebElement (session=\"ba0946e38280cb40f9a1000ef82ba47f\", element=\"5d842cae-003d-4100-8254-185fcd02ec3b\")>,\n",
       " <selenium.webdriver.remote.webelement.WebElement (session=\"ba0946e38280cb40f9a1000ef82ba47f\", element=\"d995955e-7a41-468d-acc2-63ba4a618cbb\")>,\n",
       " <selenium.webdriver.remote.webelement.WebElement (session=\"ba0946e38280cb40f9a1000ef82ba47f\", element=\"b8415ac4-b0d1-44d8-be04-22ab7631fcb5\")>,\n",
       " <selenium.webdriver.remote.webelement.WebElement (session=\"ba0946e38280cb40f9a1000ef82ba47f\", element=\"4a57652d-a787-4b98-a077-98fb6c7188a6\")>,\n",
       " <selenium.webdriver.remote.webelement.WebElement (session=\"ba0946e38280cb40f9a1000ef82ba47f\", element=\"10cdba92-8823-4819-a156-dc6f5e632676\")>,\n",
       " <selenium.webdriver.remote.webelement.WebElement (session=\"ba0946e38280cb40f9a1000ef82ba47f\", element=\"597c3e18-6bf1-49c6-9b67-8a4b6269c5ef\")>,\n",
       " <selenium.webdriver.remote.webelement.WebElement (session=\"ba0946e38280cb40f9a1000ef82ba47f\", element=\"ff7a2e76-0b7c-4985-b3cd-f2e7d1279f4d\")>,\n",
       " <selenium.webdriver.remote.webelement.WebElement (session=\"ba0946e38280cb40f9a1000ef82ba47f\", element=\"e20e5e1a-e189-413c-9511-6187ebf61516\")>,\n",
       " <selenium.webdriver.remote.webelement.WebElement (session=\"ba0946e38280cb40f9a1000ef82ba47f\", element=\"5d586ec6-5af7-481c-b7f7-affd9a2e4a1d\")>]"
      ]
     },
     "execution_count": 91,
     "metadata": {},
     "output_type": "execute_result"
    }
   ],
   "source": [
    "location_tags=driver.find_elements_by_xpath(\"//li[@class='fleft grey-text br2 placeHolderLi location']//span\")\n",
    "location_tags"
   ]
  },
  {
   "cell_type": "code",
   "execution_count": 92,
   "metadata": {},
   "outputs": [
    {
     "data": {
      "text/plain": [
       "['Bangalore/Bengaluru',\n",
       " 'Bangalore/Bengaluru(Dairy Circle)',\n",
       " 'Bangalore/Bengaluru',\n",
       " 'Bangalore/Bengaluru',\n",
       " 'New Delhi, Bangalore/Bengaluru, Delhi / NCR',\n",
       " '(WFH during Covid)',\n",
       " 'Bangalore/Bengaluru',\n",
       " 'Hyderabad/Secunderabad, Chennai, Bangalore/Bengaluru',\n",
       " 'Bangalore/Bengaluru',\n",
       " 'Bangalore/Bengaluru',\n",
       " 'Bangalore/Bengaluru',\n",
       " 'Bangalore/Bengaluru',\n",
       " 'Bangalore/Bengaluru',\n",
       " 'Bangalore/Bengaluru',\n",
       " 'Bangalore/Bengaluru',\n",
       " 'Bangalore/Bengaluru',\n",
       " 'Bangalore/Bengaluru',\n",
       " 'Bangalore/Bengaluru',\n",
       " 'Bangalore/Bengaluru',\n",
       " 'Bangalore/Bengaluru',\n",
       " 'Bangalore/Bengaluru']"
      ]
     },
     "execution_count": 92,
     "metadata": {},
     "output_type": "execute_result"
    }
   ],
   "source": [
    "job_location=[]\n",
    "for i in location_tags:\n",
    "    job_location.append(i.text)\n",
    "job_location    "
   ]
  },
  {
   "cell_type": "code",
   "execution_count": 93,
   "metadata": {},
   "outputs": [
    {
     "data": {
      "text/plain": [
       "['Bangalore/Bengaluru',\n",
       " 'Bangalore/Bengaluru(Dairy Circle)',\n",
       " 'Bangalore/Bengaluru',\n",
       " 'Bangalore/Bengaluru',\n",
       " 'New Delhi, Bangalore/Bengaluru, Delhi / NCR',\n",
       " '(WFH during Covid)',\n",
       " 'Bangalore/Bengaluru',\n",
       " 'Hyderabad/Secunderabad, Chennai, Bangalore/Bengaluru',\n",
       " 'Bangalore/Bengaluru',\n",
       " 'Bangalore/Bengaluru']"
      ]
     },
     "execution_count": 93,
     "metadata": {},
     "output_type": "execute_result"
    }
   ],
   "source": [
    "job_location=job_location[:10]\n",
    "job_location"
   ]
  },
  {
   "cell_type": "code",
   "execution_count": 94,
   "metadata": {},
   "outputs": [
    {
     "data": {
      "text/plain": [
       "[<selenium.webdriver.remote.webelement.WebElement (session=\"ba0946e38280cb40f9a1000ef82ba47f\", element=\"a994978a-c408-4ffe-b1a0-b7884b1c1394\")>,\n",
       " <selenium.webdriver.remote.webelement.WebElement (session=\"ba0946e38280cb40f9a1000ef82ba47f\", element=\"3fd2ece4-2247-4b05-a1d4-9a6b3a4735fe\")>,\n",
       " <selenium.webdriver.remote.webelement.WebElement (session=\"ba0946e38280cb40f9a1000ef82ba47f\", element=\"50d052db-cd7b-445b-83a2-b8c1b430006b\")>,\n",
       " <selenium.webdriver.remote.webelement.WebElement (session=\"ba0946e38280cb40f9a1000ef82ba47f\", element=\"5270973c-16eb-41c9-ba0e-939aa2adb9cb\")>,\n",
       " <selenium.webdriver.remote.webelement.WebElement (session=\"ba0946e38280cb40f9a1000ef82ba47f\", element=\"016f0784-5103-428a-a75d-c81414e4d0ed\")>,\n",
       " <selenium.webdriver.remote.webelement.WebElement (session=\"ba0946e38280cb40f9a1000ef82ba47f\", element=\"348a7427-28a0-46c4-a6cd-537b6e1d371f\")>,\n",
       " <selenium.webdriver.remote.webelement.WebElement (session=\"ba0946e38280cb40f9a1000ef82ba47f\", element=\"824543f8-6f49-4550-98a6-c1ff853642e0\")>,\n",
       " <selenium.webdriver.remote.webelement.WebElement (session=\"ba0946e38280cb40f9a1000ef82ba47f\", element=\"2034495e-6208-465c-b9d3-fe5392e517eb\")>,\n",
       " <selenium.webdriver.remote.webelement.WebElement (session=\"ba0946e38280cb40f9a1000ef82ba47f\", element=\"70291d15-82e8-4aec-9187-bf41ceb2e398\")>,\n",
       " <selenium.webdriver.remote.webelement.WebElement (session=\"ba0946e38280cb40f9a1000ef82ba47f\", element=\"e492db08-74d7-4829-822d-ed40dccba135\")>,\n",
       " <selenium.webdriver.remote.webelement.WebElement (session=\"ba0946e38280cb40f9a1000ef82ba47f\", element=\"a9241778-2510-463a-a39a-b6d23ea8505d\")>,\n",
       " <selenium.webdriver.remote.webelement.WebElement (session=\"ba0946e38280cb40f9a1000ef82ba47f\", element=\"b5e29ed3-e196-4da4-af3d-f1d049d48fd4\")>,\n",
       " <selenium.webdriver.remote.webelement.WebElement (session=\"ba0946e38280cb40f9a1000ef82ba47f\", element=\"0f8eda03-d6bf-4447-85e9-579288b59dab\")>,\n",
       " <selenium.webdriver.remote.webelement.WebElement (session=\"ba0946e38280cb40f9a1000ef82ba47f\", element=\"fc876017-a3a7-4375-af8f-aee5e42ece11\")>,\n",
       " <selenium.webdriver.remote.webelement.WebElement (session=\"ba0946e38280cb40f9a1000ef82ba47f\", element=\"a3a742e9-ed60-4cb8-91cb-2355454cdfda\")>,\n",
       " <selenium.webdriver.remote.webelement.WebElement (session=\"ba0946e38280cb40f9a1000ef82ba47f\", element=\"4e689658-8309-45d9-b86d-3a1a9d9acca6\")>,\n",
       " <selenium.webdriver.remote.webelement.WebElement (session=\"ba0946e38280cb40f9a1000ef82ba47f\", element=\"230e8783-ac4e-4948-9692-f28fcb637d22\")>,\n",
       " <selenium.webdriver.remote.webelement.WebElement (session=\"ba0946e38280cb40f9a1000ef82ba47f\", element=\"9f0006bb-c798-491e-8ced-df93b605d431\")>,\n",
       " <selenium.webdriver.remote.webelement.WebElement (session=\"ba0946e38280cb40f9a1000ef82ba47f\", element=\"76b77a0f-f49a-469d-a9fd-5be014cea1fd\")>,\n",
       " <selenium.webdriver.remote.webelement.WebElement (session=\"ba0946e38280cb40f9a1000ef82ba47f\", element=\"44d50d32-9bcc-42db-9079-2271ad5bcf03\")>]"
      ]
     },
     "execution_count": 94,
     "metadata": {},
     "output_type": "execute_result"
    }
   ],
   "source": [
    "company_tags=driver.find_elements_by_xpath(\"//a[@class='subTitle ellipsis fleft']\")\n",
    "company_tags"
   ]
  },
  {
   "cell_type": "code",
   "execution_count": 95,
   "metadata": {},
   "outputs": [
    {
     "data": {
      "text/plain": [
       "['Datamatics Global Services Ltd',\n",
       " 'ALTEN CALSOFT LABS (INDIA) PRIVATE LIMITED',\n",
       " 'Publicis Groupe',\n",
       " 'Bidgely Technologies Private Limited',\n",
       " 'Goals 101 Data Solutions Pvt. Ltd.',\n",
       " 'McAfee Software (India) Pvt. Ltd',\n",
       " 'Onward Technologies Limited',\n",
       " 'Teamware Solutions',\n",
       " 'Mindtree Limited',\n",
       " 'Western Digital',\n",
       " 'Western Digital',\n",
       " 'Western Digital',\n",
       " 'PERSOLKELLY INDIA PRIVATE LIMITED',\n",
       " 'Ara Resources',\n",
       " 'Novotree Minds Consulting Pvt Limited',\n",
       " 'Gojek Tech',\n",
       " 'GO-JEK India',\n",
       " 'IBM India Pvt. Limited',\n",
       " 'IBM India Pvt. Limited',\n",
       " 'Perform Group']"
      ]
     },
     "execution_count": 95,
     "metadata": {},
     "output_type": "execute_result"
    }
   ],
   "source": [
    "company_name=[]\n",
    "for i in company_tags:\n",
    "    company_name.append(i.text)\n",
    "company_name    "
   ]
  },
  {
   "cell_type": "code",
   "execution_count": 96,
   "metadata": {},
   "outputs": [
    {
     "data": {
      "text/plain": [
       "['Datamatics Global Services Ltd',\n",
       " 'ALTEN CALSOFT LABS (INDIA) PRIVATE LIMITED',\n",
       " 'Publicis Groupe',\n",
       " 'Bidgely Technologies Private Limited',\n",
       " 'Goals 101 Data Solutions Pvt. Ltd.',\n",
       " 'McAfee Software (India) Pvt. Ltd',\n",
       " 'Onward Technologies Limited',\n",
       " 'Teamware Solutions',\n",
       " 'Mindtree Limited',\n",
       " 'Western Digital']"
      ]
     },
     "execution_count": 96,
     "metadata": {},
     "output_type": "execute_result"
    }
   ],
   "source": [
    "company_name=company_name[:10]\n",
    "company_name"
   ]
  },
  {
   "cell_type": "code",
   "execution_count": 127,
   "metadata": {},
   "outputs": [
    {
     "data": {
      "text/plain": [
       "[<selenium.webdriver.remote.webelement.WebElement (session=\"ba0946e38280cb40f9a1000ef82ba47f\", element=\"84467d0d-2cc5-40c8-8d7c-e1e7e389879f\")>,\n",
       " <selenium.webdriver.remote.webelement.WebElement (session=\"ba0946e38280cb40f9a1000ef82ba47f\", element=\"c3058d24-a115-4632-89c5-00bc25af4cba\")>,\n",
       " <selenium.webdriver.remote.webelement.WebElement (session=\"ba0946e38280cb40f9a1000ef82ba47f\", element=\"541840f6-e38f-4bd4-8a2a-f2f3d517d523\")>,\n",
       " <selenium.webdriver.remote.webelement.WebElement (session=\"ba0946e38280cb40f9a1000ef82ba47f\", element=\"f61ea379-5a19-4b54-9d26-8acd6660c4c3\")>,\n",
       " <selenium.webdriver.remote.webelement.WebElement (session=\"ba0946e38280cb40f9a1000ef82ba47f\", element=\"4891ddab-aee1-4c94-86e8-f96f19eb7d3a\")>,\n",
       " <selenium.webdriver.remote.webelement.WebElement (session=\"ba0946e38280cb40f9a1000ef82ba47f\", element=\"17e78fbb-4c13-4094-aa49-61e2a838d6d8\")>,\n",
       " <selenium.webdriver.remote.webelement.WebElement (session=\"ba0946e38280cb40f9a1000ef82ba47f\", element=\"d280a07b-ddbd-4c07-a67d-822abe9ae839\")>,\n",
       " <selenium.webdriver.remote.webelement.WebElement (session=\"ba0946e38280cb40f9a1000ef82ba47f\", element=\"53a22ac2-99e8-4f47-adac-8f1aa04ed8c9\")>,\n",
       " <selenium.webdriver.remote.webelement.WebElement (session=\"ba0946e38280cb40f9a1000ef82ba47f\", element=\"a6bb4e80-6a08-4682-a9bb-283f2b5bfc73\")>,\n",
       " <selenium.webdriver.remote.webelement.WebElement (session=\"ba0946e38280cb40f9a1000ef82ba47f\", element=\"01d945b3-50f3-470e-a96f-932bd84f9a2e\")>,\n",
       " <selenium.webdriver.remote.webelement.WebElement (session=\"ba0946e38280cb40f9a1000ef82ba47f\", element=\"56fda2f6-4967-4cef-9e19-2f103b30e51d\")>,\n",
       " <selenium.webdriver.remote.webelement.WebElement (session=\"ba0946e38280cb40f9a1000ef82ba47f\", element=\"c34b91ba-a4e2-4608-a61a-85103e2acee3\")>,\n",
       " <selenium.webdriver.remote.webelement.WebElement (session=\"ba0946e38280cb40f9a1000ef82ba47f\", element=\"c5e18a4d-0f4f-43c6-8b5d-dee154b94d1e\")>,\n",
       " <selenium.webdriver.remote.webelement.WebElement (session=\"ba0946e38280cb40f9a1000ef82ba47f\", element=\"f5b493c6-f307-4aee-819d-f222ef85ce97\")>,\n",
       " <selenium.webdriver.remote.webelement.WebElement (session=\"ba0946e38280cb40f9a1000ef82ba47f\", element=\"8151eacb-709d-4e52-b2c3-986fe41b1fc6\")>,\n",
       " <selenium.webdriver.remote.webelement.WebElement (session=\"ba0946e38280cb40f9a1000ef82ba47f\", element=\"cf461001-c77c-49a1-b453-456669493847\")>,\n",
       " <selenium.webdriver.remote.webelement.WebElement (session=\"ba0946e38280cb40f9a1000ef82ba47f\", element=\"fc8d0537-07d4-4066-92c6-0106c733f1e7\")>,\n",
       " <selenium.webdriver.remote.webelement.WebElement (session=\"ba0946e38280cb40f9a1000ef82ba47f\", element=\"bd528a0b-e064-4684-9bc6-ae6da9359c41\")>,\n",
       " <selenium.webdriver.remote.webelement.WebElement (session=\"ba0946e38280cb40f9a1000ef82ba47f\", element=\"7f4a7f38-58b3-435e-a5a3-00f7be14bc32\")>,\n",
       " <selenium.webdriver.remote.webelement.WebElement (session=\"ba0946e38280cb40f9a1000ef82ba47f\", element=\"0502c116-b52a-4e45-91bf-bc1237f10cf9\")>]"
      ]
     },
     "execution_count": 127,
     "metadata": {},
     "output_type": "execute_result"
    }
   ],
   "source": [
    "description_tags=driver.find_elements_by_xpath(\"//div[@class='job-description fs12 grey-text']\")\n",
    "description_tags"
   ]
  },
  {
   "cell_type": "code",
   "execution_count": 128,
   "metadata": {},
   "outputs": [
    {
     "data": {
      "text/plain": [
       "['Roles and Responsibilities Details in lined for Hiring Team to focus:The hiring is for ...',\n",
       " 'Masters degree in Statistics, Applied Math, Operations Research, Economics, or a relate...',\n",
       " 'Shift timing: 12PM to 9PM Bachelor s or Master s degree in a quantitative discipline (e...',\n",
       " 'You must have delivered advanced statistical and machine learning models as part of com...',\n",
       " 'Roles and Responsibilities: Work as part of a product team in defining, prototyping and...',\n",
       " 'Role Overview: Data scientist will be doing research on innovative projects in platform...',\n",
       " 'Greetings from Onward Technologies!We are Hiring for Data scientist for one of our pres...',\n",
       " 'Dynamic recruiting professional with 7 - 10 years of high-performance tech recruiting e...',\n",
       " 'Experience in business, program and / or strategy planning Experience in business, prog...',\n",
       " 'Experience with both batch and streaming models in productionPreferred Qualifications: ...',\n",
       " '3 or more years of experience in Data Science and scaling AI in areas like personalizat...',\n",
       " 'Experience with both batch and streaming models in productionMinimum Qualification: 3 o...',\n",
       " 'We have an urget opppourtunity leading organizationLocation- BangalorePosition-Data Sci...',\n",
       " 'Masters (With 5 years of experience) or PhD degree (2 years of experience) in computer ...',\n",
       " 'Experience or certifications with visualization tools (Tableau / Qlik/PowerBI etc.)Well...',\n",
       " 'What You Will Do Build models (or ML models) that generate or lead to the answer to som...',\n",
       " 'What You Will Do Build models (or ML models) that generate or lead to the answer to som...',\n",
       " 'Experience in end-to-end ML engineering / MLOpsDemonstrated experience in understanding...',\n",
       " 'Demonstrated extensive experience in building and deploying production quality models i...',\n",
       " 'Understanding of deep learning fundamentals including network architectures, training a...']"
      ]
     },
     "execution_count": 128,
     "metadata": {},
     "output_type": "execute_result"
    }
   ],
   "source": [
    "job_description=[]\n",
    "for i in description_tags:\n",
    "    job_description.append(i.text)\n",
    "job_description    "
   ]
  },
  {
   "cell_type": "code",
   "execution_count": 129,
   "metadata": {},
   "outputs": [
    {
     "data": {
      "text/plain": [
       "['Roles and Responsibilities Details in lined for Hiring Team to focus:The hiring is for ...',\n",
       " 'Masters degree in Statistics, Applied Math, Operations Research, Economics, or a relate...',\n",
       " 'Shift timing: 12PM to 9PM Bachelor s or Master s degree in a quantitative discipline (e...',\n",
       " 'You must have delivered advanced statistical and machine learning models as part of com...',\n",
       " 'Roles and Responsibilities: Work as part of a product team in defining, prototyping and...',\n",
       " 'Role Overview: Data scientist will be doing research on innovative projects in platform...',\n",
       " 'Greetings from Onward Technologies!We are Hiring for Data scientist for one of our pres...',\n",
       " 'Dynamic recruiting professional with 7 - 10 years of high-performance tech recruiting e...',\n",
       " 'Experience in business, program and / or strategy planning Experience in business, prog...',\n",
       " 'Experience with both batch and streaming models in productionPreferred Qualifications: ...']"
      ]
     },
     "execution_count": 129,
     "metadata": {},
     "output_type": "execute_result"
    }
   ],
   "source": [
    "job_description=job_description[:10]\n",
    "job_description"
   ]
  },
  {
   "cell_type": "code",
   "execution_count": 131,
   "metadata": {},
   "outputs": [
    {
     "name": "stdout",
     "output_type": "stream",
     "text": [
      "10 10 10 10\n"
     ]
    }
   ],
   "source": [
    "print(len(job_titles),len(job_location),len(company_name),len(job_description))"
   ]
  },
  {
   "cell_type": "code",
   "execution_count": 132,
   "metadata": {},
   "outputs": [
    {
     "data": {
      "text/html": [
       "<div>\n",
       "<style scoped>\n",
       "    .dataframe tbody tr th:only-of-type {\n",
       "        vertical-align: middle;\n",
       "    }\n",
       "\n",
       "    .dataframe tbody tr th {\n",
       "        vertical-align: top;\n",
       "    }\n",
       "\n",
       "    .dataframe thead th {\n",
       "        text-align: right;\n",
       "    }\n",
       "</style>\n",
       "<table border=\"1\" class=\"dataframe\">\n",
       "  <thead>\n",
       "    <tr style=\"text-align: right;\">\n",
       "      <th></th>\n",
       "      <th>titles</th>\n",
       "      <th>names</th>\n",
       "      <th>location</th>\n",
       "      <th>description</th>\n",
       "    </tr>\n",
       "  </thead>\n",
       "  <tbody>\n",
       "    <tr>\n",
       "      <th>0</th>\n",
       "      <td>Senior Data Scientist</td>\n",
       "      <td>Datamatics Global Services Ltd</td>\n",
       "      <td>Bangalore/Bengaluru</td>\n",
       "      <td>Roles and Responsibilities Details in lined fo...</td>\n",
       "    </tr>\n",
       "    <tr>\n",
       "      <th>1</th>\n",
       "      <td>Lead Data Scientist</td>\n",
       "      <td>ALTEN CALSOFT LABS (INDIA) PRIVATE LIMITED</td>\n",
       "      <td>Bangalore/Bengaluru(Dairy Circle)</td>\n",
       "      <td>Masters degree in Statistics, Applied Math, Op...</td>\n",
       "    </tr>\n",
       "    <tr>\n",
       "      <th>2</th>\n",
       "      <td>Senior Data Scientist</td>\n",
       "      <td>Publicis Groupe</td>\n",
       "      <td>Bangalore/Bengaluru</td>\n",
       "      <td>Shift timing: 12PM to 9PM Bachelor s or Master...</td>\n",
       "    </tr>\n",
       "    <tr>\n",
       "      <th>3</th>\n",
       "      <td>Senior Data Scientist</td>\n",
       "      <td>Bidgely Technologies Private Limited</td>\n",
       "      <td>Bangalore/Bengaluru</td>\n",
       "      <td>You must have delivered advanced statistical a...</td>\n",
       "    </tr>\n",
       "    <tr>\n",
       "      <th>4</th>\n",
       "      <td>Senior Data Scientist</td>\n",
       "      <td>Goals 101 Data Solutions Pvt. Ltd.</td>\n",
       "      <td>New Delhi, Bangalore/Bengaluru, Delhi / NCR</td>\n",
       "      <td>Roles and Responsibilities: Work as part of a ...</td>\n",
       "    </tr>\n",
       "    <tr>\n",
       "      <th>5</th>\n",
       "      <td>DATA SCIENTIST</td>\n",
       "      <td>McAfee Software (India) Pvt. Ltd</td>\n",
       "      <td>(WFH during Covid)</td>\n",
       "      <td>Role Overview: Data scientist will be doing re...</td>\n",
       "    </tr>\n",
       "    <tr>\n",
       "      <th>6</th>\n",
       "      <td>Data Scientist - Permanent Role</td>\n",
       "      <td>Onward Technologies Limited</td>\n",
       "      <td>Bangalore/Bengaluru</td>\n",
       "      <td>Greetings from Onward Technologies!We are Hiri...</td>\n",
       "    </tr>\n",
       "    <tr>\n",
       "      <th>7</th>\n",
       "      <td>Data Engineers , Data Scientist and SAP</td>\n",
       "      <td>Teamware Solutions</td>\n",
       "      <td>Hyderabad/Secunderabad, Chennai, Bangalore/Ben...</td>\n",
       "      <td>Dynamic recruiting professional with 7 - 10 ye...</td>\n",
       "    </tr>\n",
       "    <tr>\n",
       "      <th>8</th>\n",
       "      <td>Python - Data Scientist</td>\n",
       "      <td>Mindtree Limited</td>\n",
       "      <td>Bangalore/Bengaluru</td>\n",
       "      <td>Experience in business, program and / or strat...</td>\n",
       "    </tr>\n",
       "    <tr>\n",
       "      <th>9</th>\n",
       "      <td>Western Digital Data Scientist 3</td>\n",
       "      <td>Western Digital</td>\n",
       "      <td>Bangalore/Bengaluru</td>\n",
       "      <td>Experience with both batch and streaming model...</td>\n",
       "    </tr>\n",
       "  </tbody>\n",
       "</table>\n",
       "</div>"
      ],
      "text/plain": [
       "                                    titles  \\\n",
       "0                    Senior Data Scientist   \n",
       "1                      Lead Data Scientist   \n",
       "2                    Senior Data Scientist   \n",
       "3                    Senior Data Scientist   \n",
       "4                    Senior Data Scientist   \n",
       "5                           DATA SCIENTIST   \n",
       "6          Data Scientist - Permanent Role   \n",
       "7  Data Engineers , Data Scientist and SAP   \n",
       "8                  Python - Data Scientist   \n",
       "9         Western Digital Data Scientist 3   \n",
       "\n",
       "                                        names  \\\n",
       "0              Datamatics Global Services Ltd   \n",
       "1  ALTEN CALSOFT LABS (INDIA) PRIVATE LIMITED   \n",
       "2                             Publicis Groupe   \n",
       "3        Bidgely Technologies Private Limited   \n",
       "4          Goals 101 Data Solutions Pvt. Ltd.   \n",
       "5            McAfee Software (India) Pvt. Ltd   \n",
       "6                 Onward Technologies Limited   \n",
       "7                          Teamware Solutions   \n",
       "8                            Mindtree Limited   \n",
       "9                             Western Digital   \n",
       "\n",
       "                                            location  \\\n",
       "0                                Bangalore/Bengaluru   \n",
       "1                  Bangalore/Bengaluru(Dairy Circle)   \n",
       "2                                Bangalore/Bengaluru   \n",
       "3                                Bangalore/Bengaluru   \n",
       "4        New Delhi, Bangalore/Bengaluru, Delhi / NCR   \n",
       "5                                 (WFH during Covid)   \n",
       "6                                Bangalore/Bengaluru   \n",
       "7  Hyderabad/Secunderabad, Chennai, Bangalore/Ben...   \n",
       "8                                Bangalore/Bengaluru   \n",
       "9                                Bangalore/Bengaluru   \n",
       "\n",
       "                                         description  \n",
       "0  Roles and Responsibilities Details in lined fo...  \n",
       "1  Masters degree in Statistics, Applied Math, Op...  \n",
       "2  Shift timing: 12PM to 9PM Bachelor s or Master...  \n",
       "3  You must have delivered advanced statistical a...  \n",
       "4  Roles and Responsibilities: Work as part of a ...  \n",
       "5  Role Overview: Data scientist will be doing re...  \n",
       "6  Greetings from Onward Technologies!We are Hiri...  \n",
       "7  Dynamic recruiting professional with 7 - 10 ye...  \n",
       "8  Experience in business, program and / or strat...  \n",
       "9  Experience with both batch and streaming model...  "
      ]
     },
     "execution_count": 132,
     "metadata": {},
     "output_type": "execute_result"
    }
   ],
   "source": [
    "jobs=pd.DataFrame({})\n",
    "jobs['titles']=job_titles\n",
    "jobs['names']=company_name\n",
    "jobs['location']=job_location\n",
    "jobs['description']=job_description   \n",
    "jobs"
   ]
  },
  {
   "cell_type": "markdown",
   "metadata": {},
   "source": [
    "### 3 Python program scrape data using the filters available on the webpage"
   ]
  },
  {
   "cell_type": "markdown",
   "metadata": {},
   "source": [
    "***"
   ]
  },
  {
   "cell_type": "code",
   "execution_count": 135,
   "metadata": {},
   "outputs": [],
   "source": [
    "url = 'https://www.naukri.com/'\n",
    "driver.get(url)"
   ]
  },
  {
   "cell_type": "code",
   "execution_count": 136,
   "metadata": {},
   "outputs": [
    {
     "data": {
      "text/plain": [
       "<selenium.webdriver.remote.webelement.WebElement (session=\"ba0946e38280cb40f9a1000ef82ba47f\", element=\"50450668-1db6-4435-bbd1-a9aac166f5cc\")>"
      ]
     },
     "execution_count": 136,
     "metadata": {},
     "output_type": "execute_result"
    }
   ],
   "source": [
    "search_job = driver.find_element_by_id(\"qsb-keyword-sugg\")\n",
    "search_job"
   ]
  },
  {
   "cell_type": "code",
   "execution_count": 137,
   "metadata": {},
   "outputs": [],
   "source": [
    "search_job.send_keys(\"Data Scientist\")"
   ]
  },
  {
   "cell_type": "code",
   "execution_count": 139,
   "metadata": {},
   "outputs": [
    {
     "data": {
      "text/plain": [
       "[<selenium.webdriver.remote.webelement.WebElement (session=\"ba0946e38280cb40f9a1000ef82ba47f\", element=\"8dd9dc57-75a2-40ef-a409-3cad874d1ff0\")>,\n",
       " <selenium.webdriver.remote.webelement.WebElement (session=\"ba0946e38280cb40f9a1000ef82ba47f\", element=\"2fac85f6-700a-4826-b9d5-929a9b23ef82\")>,\n",
       " <selenium.webdriver.remote.webelement.WebElement (session=\"ba0946e38280cb40f9a1000ef82ba47f\", element=\"00a2eb41-65a9-4b76-b459-a2dbd90e4dc4\")>,\n",
       " <selenium.webdriver.remote.webelement.WebElement (session=\"ba0946e38280cb40f9a1000ef82ba47f\", element=\"20802b79-0836-4470-b1f2-a09a21004af7\")>,\n",
       " <selenium.webdriver.remote.webelement.WebElement (session=\"ba0946e38280cb40f9a1000ef82ba47f\", element=\"32456022-a089-458a-9221-1fb2d8cbcec4\")>,\n",
       " <selenium.webdriver.remote.webelement.WebElement (session=\"ba0946e38280cb40f9a1000ef82ba47f\", element=\"3f903907-c73d-4b92-8987-954d9bdc424d\")>,\n",
       " <selenium.webdriver.remote.webelement.WebElement (session=\"ba0946e38280cb40f9a1000ef82ba47f\", element=\"d53fc8fe-39ff-40b7-ac93-276cc7da7401\")>,\n",
       " <selenium.webdriver.remote.webelement.WebElement (session=\"ba0946e38280cb40f9a1000ef82ba47f\", element=\"63c773a1-955b-4be7-b349-31f3b0e6617e\")>,\n",
       " <selenium.webdriver.remote.webelement.WebElement (session=\"ba0946e38280cb40f9a1000ef82ba47f\", element=\"9f7a5cea-e0f8-4c05-bb55-5354d797d96b\")>,\n",
       " <selenium.webdriver.remote.webelement.WebElement (session=\"ba0946e38280cb40f9a1000ef82ba47f\", element=\"2070cd71-c40a-4160-8e70-499823740a7a\")>,\n",
       " <selenium.webdriver.remote.webelement.WebElement (session=\"ba0946e38280cb40f9a1000ef82ba47f\", element=\"97d91089-641e-4e6b-abbd-ce4532b0c251\")>,\n",
       " <selenium.webdriver.remote.webelement.WebElement (session=\"ba0946e38280cb40f9a1000ef82ba47f\", element=\"c166c76f-b68a-44ea-809f-bfa036caa30e\")>,\n",
       " <selenium.webdriver.remote.webelement.WebElement (session=\"ba0946e38280cb40f9a1000ef82ba47f\", element=\"51352e29-176a-43b9-92b3-225afd0dc525\")>,\n",
       " <selenium.webdriver.remote.webelement.WebElement (session=\"ba0946e38280cb40f9a1000ef82ba47f\", element=\"ba8967aa-f64b-4e8a-bbf9-43839f807c5a\")>,\n",
       " <selenium.webdriver.remote.webelement.WebElement (session=\"ba0946e38280cb40f9a1000ef82ba47f\", element=\"b8b7f5dd-fb0c-482a-b478-b3871a0d68cb\")>,\n",
       " <selenium.webdriver.remote.webelement.WebElement (session=\"ba0946e38280cb40f9a1000ef82ba47f\", element=\"8eae71e6-f081-4c6d-ae9f-28b5b052d44f\")>,\n",
       " <selenium.webdriver.remote.webelement.WebElement (session=\"ba0946e38280cb40f9a1000ef82ba47f\", element=\"f593dd7f-76fd-42b7-a912-95153edad5a0\")>,\n",
       " <selenium.webdriver.remote.webelement.WebElement (session=\"ba0946e38280cb40f9a1000ef82ba47f\", element=\"ebff6051-3c7a-44a3-8c23-5b8c26663b80\")>,\n",
       " <selenium.webdriver.remote.webelement.WebElement (session=\"ba0946e38280cb40f9a1000ef82ba47f\", element=\"418e8ef2-3f42-40bd-bce8-7bbeb5558bd0\")>,\n",
       " <selenium.webdriver.remote.webelement.WebElement (session=\"ba0946e38280cb40f9a1000ef82ba47f\", element=\"3b099c93-15e6-411c-b53b-f72182986d7e\")>]"
      ]
     },
     "execution_count": 139,
     "metadata": {},
     "output_type": "execute_result"
    }
   ],
   "source": [
    "titles_tags=driver.find_elements_by_xpath(\"//a[@class='title fw500 ellipsis']\")\n",
    "titles_tags"
   ]
  },
  {
   "cell_type": "code",
   "execution_count": 141,
   "metadata": {},
   "outputs": [
    {
     "data": {
      "text/plain": [
       "['Immediate Openings For DATA Scientist with 6 To 7 yrs of Experience',\n",
       " 'Senior Data Scientist',\n",
       " 'Hiring Data Scientist Develope || IDS Infotech LTD || (Permanent WFH)',\n",
       " 'Hiring Data Scientist Develope || IDS Infotech LTD || (Permanent WFH)',\n",
       " 'Senior Data Scientist - Noida',\n",
       " 'Data Scientist / Data Analyst',\n",
       " 'Only Fresher / Data Scientist / Data Analyst / Analytics - MNC Jobs',\n",
       " 'Data Scientist',\n",
       " 'Data Scientist/Data Analyst /Business Analyst',\n",
       " 'Data Scientist',\n",
       " 'Data Scientist - Machine Learning/NLP',\n",
       " 'Data Scientist - Machine Learning/NLP',\n",
       " 'Data Scientist',\n",
       " 'Data Scientist',\n",
       " 'Data Scientist',\n",
       " 'Data Scientist',\n",
       " 'Data Scientist',\n",
       " 'Data Scientist ( Machine Learning , Pyspark, Cloud , DevOps)',\n",
       " 'Data Scientist ( Machine Learning , Pyspark, Cloud , DevOps)',\n",
       " 'Data Scientist']"
      ]
     },
     "execution_count": 141,
     "metadata": {},
     "output_type": "execute_result"
    }
   ],
   "source": [
    "job_title=[]\n",
    "for i in titles_tags:\n",
    "    job_title.append(i.text)\n",
    "job_title    "
   ]
  },
  {
   "cell_type": "code",
   "execution_count": 142,
   "metadata": {},
   "outputs": [
    {
     "data": {
      "text/plain": [
       "['Immediate Openings For DATA Scientist with 6 To 7 yrs of Experience',\n",
       " 'Senior Data Scientist',\n",
       " 'Hiring Data Scientist Develope || IDS Infotech LTD || (Permanent WFH)',\n",
       " 'Hiring Data Scientist Develope || IDS Infotech LTD || (Permanent WFH)',\n",
       " 'Senior Data Scientist - Noida',\n",
       " 'Data Scientist / Data Analyst',\n",
       " 'Only Fresher / Data Scientist / Data Analyst / Analytics - MNC Jobs',\n",
       " 'Data Scientist',\n",
       " 'Data Scientist/Data Analyst /Business Analyst',\n",
       " 'Data Scientist']"
      ]
     },
     "execution_count": 142,
     "metadata": {},
     "output_type": "execute_result"
    }
   ],
   "source": [
    "job_title=job_title[:10]\n",
    "job_title"
   ]
  },
  {
   "cell_type": "code",
   "execution_count": 145,
   "metadata": {},
   "outputs": [
    {
     "data": {
      "text/plain": [
       "[<selenium.webdriver.remote.webelement.WebElement (session=\"ba0946e38280cb40f9a1000ef82ba47f\", element=\"bbf6aec5-ca99-496a-892d-73eb2ffb25c0\")>,\n",
       " <selenium.webdriver.remote.webelement.WebElement (session=\"ba0946e38280cb40f9a1000ef82ba47f\", element=\"08ef1023-9714-4693-975e-cd8e8e1469a4\")>,\n",
       " <selenium.webdriver.remote.webelement.WebElement (session=\"ba0946e38280cb40f9a1000ef82ba47f\", element=\"b602a58b-eeb1-4dd2-8ced-0e6139dc772c\")>,\n",
       " <selenium.webdriver.remote.webelement.WebElement (session=\"ba0946e38280cb40f9a1000ef82ba47f\", element=\"e6db34ab-6916-4a11-b463-c5951dba09f6\")>,\n",
       " <selenium.webdriver.remote.webelement.WebElement (session=\"ba0946e38280cb40f9a1000ef82ba47f\", element=\"030a10be-523b-4beb-a7da-2f366289cb25\")>,\n",
       " <selenium.webdriver.remote.webelement.WebElement (session=\"ba0946e38280cb40f9a1000ef82ba47f\", element=\"5f59a235-6ebd-4c9c-b74f-4168e42a0065\")>,\n",
       " <selenium.webdriver.remote.webelement.WebElement (session=\"ba0946e38280cb40f9a1000ef82ba47f\", element=\"4a72be6c-d954-421c-83c7-0164a4257038\")>,\n",
       " <selenium.webdriver.remote.webelement.WebElement (session=\"ba0946e38280cb40f9a1000ef82ba47f\", element=\"7ba89bb9-2b97-41be-bcbd-92b6fb3172fc\")>,\n",
       " <selenium.webdriver.remote.webelement.WebElement (session=\"ba0946e38280cb40f9a1000ef82ba47f\", element=\"0a1a2422-fc18-4766-b4fa-9130603e2e6c\")>,\n",
       " <selenium.webdriver.remote.webelement.WebElement (session=\"ba0946e38280cb40f9a1000ef82ba47f\", element=\"f59ce959-e056-4d0c-bc1b-d5f2d05b9fe7\")>,\n",
       " <selenium.webdriver.remote.webelement.WebElement (session=\"ba0946e38280cb40f9a1000ef82ba47f\", element=\"05103b03-4557-43f2-ac0c-c96223365f0e\")>,\n",
       " <selenium.webdriver.remote.webelement.WebElement (session=\"ba0946e38280cb40f9a1000ef82ba47f\", element=\"1d15f708-b222-453f-bd2f-49d1dc0c5bf0\")>,\n",
       " <selenium.webdriver.remote.webelement.WebElement (session=\"ba0946e38280cb40f9a1000ef82ba47f\", element=\"36b3cbd7-d131-4b07-8b66-8885eeb761b8\")>,\n",
       " <selenium.webdriver.remote.webelement.WebElement (session=\"ba0946e38280cb40f9a1000ef82ba47f\", element=\"2ef6bbe5-82ef-4478-ace7-a063753bf866\")>,\n",
       " <selenium.webdriver.remote.webelement.WebElement (session=\"ba0946e38280cb40f9a1000ef82ba47f\", element=\"f8f9eef3-ca84-469e-a7b7-9863a91a4cfb\")>,\n",
       " <selenium.webdriver.remote.webelement.WebElement (session=\"ba0946e38280cb40f9a1000ef82ba47f\", element=\"d59b2532-b2b9-43fa-841c-dfa1a3bb6812\")>,\n",
       " <selenium.webdriver.remote.webelement.WebElement (session=\"ba0946e38280cb40f9a1000ef82ba47f\", element=\"fde9ed3c-c0af-4b0a-8dea-8f66de7212aa\")>,\n",
       " <selenium.webdriver.remote.webelement.WebElement (session=\"ba0946e38280cb40f9a1000ef82ba47f\", element=\"fd5cdb7c-c624-4446-a065-f87f7e5e0bec\")>,\n",
       " <selenium.webdriver.remote.webelement.WebElement (session=\"ba0946e38280cb40f9a1000ef82ba47f\", element=\"203b943b-64ac-4cc2-bcd9-5dd40ead8112\")>,\n",
       " <selenium.webdriver.remote.webelement.WebElement (session=\"ba0946e38280cb40f9a1000ef82ba47f\", element=\"a6841142-3100-4cd2-8761-040cf19028e2\")>]"
      ]
     },
     "execution_count": 145,
     "metadata": {},
     "output_type": "execute_result"
    }
   ],
   "source": [
    "location_tags=driver.find_elements_by_xpath(\"//li[@class='fleft grey-text br2 placeHolderLi location']//span[1]\")\n",
    "location_tags"
   ]
  },
  {
   "cell_type": "code",
   "execution_count": 146,
   "metadata": {},
   "outputs": [
    {
     "data": {
      "text/plain": [
       "['Kolkata, Hyderabad/Secunderabad, Pune, Ahmedabad, Chennai, Bangalore/Bengaluru, Delhi / NCR, Mumbai (All Areas)',\n",
       " 'Hyderabad/Secunderabad, Gurgaon/Gurugram, Bangalore/Bengaluru',\n",
       " 'Chandigarh, Hyderabad/Secunderabad, Chennai, Bangalore/Bengaluru, Delhi / NCR',\n",
       " 'Chandigarh, Hyderabad/Secunderabad, Chennai, Bangalore/Bengaluru, Delhi / NCR',\n",
       " 'Noida',\n",
       " 'Gurgaon/Gurugram',\n",
       " 'Noida, Gurgaon/Gurugram, Delhi / NCR',\n",
       " 'Gurgaon/Gurugram',\n",
       " 'Pune, Delhi / NCR, Mumbai (All Areas)',\n",
       " 'Noida(Sector-59 Noida)',\n",
       " 'Gurgaon/Gurugram',\n",
       " 'Gurgaon/Gurugram',\n",
       " 'Noida(Sector-62 Noida)',\n",
       " 'Mumbai, Gurgaon/Gurugram, Bangalore/Bengaluru',\n",
       " 'Noida',\n",
       " 'Gurgaon, Bengaluru',\n",
       " 'Bharuch, Jaipur, Bhopal, Mumbai, Jhansi, Nagpur, Ghaziabad, Jaunpur, Kanpur, Delhi, Lucknow, Agra, Gurgaon, Rajkot, Bengaluru',\n",
       " 'Remote',\n",
       " 'Remote',\n",
       " 'Gurgaon/Gurugram, Bangalore/Bengaluru']"
      ]
     },
     "execution_count": 146,
     "metadata": {},
     "output_type": "execute_result"
    }
   ],
   "source": [
    "location_name=[]\n",
    "for i in location_tags:\n",
    "    location_name.append(i.text)\n",
    "location_name    "
   ]
  },
  {
   "cell_type": "code",
   "execution_count": 147,
   "metadata": {},
   "outputs": [
    {
     "data": {
      "text/plain": [
       "['Kolkata, Hyderabad/Secunderabad, Pune, Ahmedabad, Chennai, Bangalore/Bengaluru, Delhi / NCR, Mumbai (All Areas)',\n",
       " 'Hyderabad/Secunderabad, Gurgaon/Gurugram, Bangalore/Bengaluru',\n",
       " 'Chandigarh, Hyderabad/Secunderabad, Chennai, Bangalore/Bengaluru, Delhi / NCR',\n",
       " 'Chandigarh, Hyderabad/Secunderabad, Chennai, Bangalore/Bengaluru, Delhi / NCR',\n",
       " 'Noida',\n",
       " 'Gurgaon/Gurugram',\n",
       " 'Noida, Gurgaon/Gurugram, Delhi / NCR',\n",
       " 'Gurgaon/Gurugram',\n",
       " 'Pune, Delhi / NCR, Mumbai (All Areas)',\n",
       " 'Noida(Sector-59 Noida)']"
      ]
     },
     "execution_count": 147,
     "metadata": {},
     "output_type": "execute_result"
    }
   ],
   "source": [
    "location_name=location_name[:10]\n",
    "location_name"
   ]
  },
  {
   "cell_type": "code",
   "execution_count": 148,
   "metadata": {},
   "outputs": [
    {
     "data": {
      "text/plain": [
       "[<selenium.webdriver.remote.webelement.WebElement (session=\"ba0946e38280cb40f9a1000ef82ba47f\", element=\"2922b676-f5e2-4e63-a131-a8b4c22e8e90\")>,\n",
       " <selenium.webdriver.remote.webelement.WebElement (session=\"ba0946e38280cb40f9a1000ef82ba47f\", element=\"57e2017f-cab5-4ce7-a286-51bda3a34e44\")>,\n",
       " <selenium.webdriver.remote.webelement.WebElement (session=\"ba0946e38280cb40f9a1000ef82ba47f\", element=\"4e160d19-f6e5-4fa8-b73e-a15838c9b2e4\")>,\n",
       " <selenium.webdriver.remote.webelement.WebElement (session=\"ba0946e38280cb40f9a1000ef82ba47f\", element=\"3b3b27c2-1499-422d-9bad-e11abe2ec4fb\")>,\n",
       " <selenium.webdriver.remote.webelement.WebElement (session=\"ba0946e38280cb40f9a1000ef82ba47f\", element=\"7cc1ce15-7b2c-463d-b7a1-a9019cda22c9\")>,\n",
       " <selenium.webdriver.remote.webelement.WebElement (session=\"ba0946e38280cb40f9a1000ef82ba47f\", element=\"b964119c-cbd6-4c18-9608-310b898e3b1d\")>,\n",
       " <selenium.webdriver.remote.webelement.WebElement (session=\"ba0946e38280cb40f9a1000ef82ba47f\", element=\"c88f1dfc-145b-4c2a-a6a7-75d13d1eb5f3\")>,\n",
       " <selenium.webdriver.remote.webelement.WebElement (session=\"ba0946e38280cb40f9a1000ef82ba47f\", element=\"d3840950-359b-4a2d-9e0f-10252aad46d2\")>,\n",
       " <selenium.webdriver.remote.webelement.WebElement (session=\"ba0946e38280cb40f9a1000ef82ba47f\", element=\"97f60436-9fe6-4fe5-a527-febeee1c7df7\")>,\n",
       " <selenium.webdriver.remote.webelement.WebElement (session=\"ba0946e38280cb40f9a1000ef82ba47f\", element=\"9096051d-fc43-46a7-8cf8-11e82bd412e8\")>,\n",
       " <selenium.webdriver.remote.webelement.WebElement (session=\"ba0946e38280cb40f9a1000ef82ba47f\", element=\"1cda2930-7314-4dad-957f-862d828a8a65\")>,\n",
       " <selenium.webdriver.remote.webelement.WebElement (session=\"ba0946e38280cb40f9a1000ef82ba47f\", element=\"6b10bf42-a1c8-4ba8-b386-60a65a26fdb4\")>,\n",
       " <selenium.webdriver.remote.webelement.WebElement (session=\"ba0946e38280cb40f9a1000ef82ba47f\", element=\"545183ee-5356-4950-8396-e5d1d18560d3\")>,\n",
       " <selenium.webdriver.remote.webelement.WebElement (session=\"ba0946e38280cb40f9a1000ef82ba47f\", element=\"488a5048-0301-4a97-9695-8e847163175b\")>,\n",
       " <selenium.webdriver.remote.webelement.WebElement (session=\"ba0946e38280cb40f9a1000ef82ba47f\", element=\"73bad2ee-7ed0-4d81-a44a-9861032881fd\")>,\n",
       " <selenium.webdriver.remote.webelement.WebElement (session=\"ba0946e38280cb40f9a1000ef82ba47f\", element=\"7a04bbcb-eb95-4b2e-b53c-c501bd2c6e41\")>,\n",
       " <selenium.webdriver.remote.webelement.WebElement (session=\"ba0946e38280cb40f9a1000ef82ba47f\", element=\"6d5fa1c6-8c34-4328-a29a-ce502c26942d\")>,\n",
       " <selenium.webdriver.remote.webelement.WebElement (session=\"ba0946e38280cb40f9a1000ef82ba47f\", element=\"cba172c8-c2cd-46a8-8992-7c9de172770e\")>,\n",
       " <selenium.webdriver.remote.webelement.WebElement (session=\"ba0946e38280cb40f9a1000ef82ba47f\", element=\"7210b582-c2f9-48ce-9fde-2efcb8f68cbd\")>,\n",
       " <selenium.webdriver.remote.webelement.WebElement (session=\"ba0946e38280cb40f9a1000ef82ba47f\", element=\"04c9a9be-a8de-4aec-8054-3f7a819e58b3\")>]"
      ]
     },
     "execution_count": 148,
     "metadata": {},
     "output_type": "execute_result"
    }
   ],
   "source": [
    "company_tags=driver.find_elements_by_xpath(\"//div[@class='mt-7 companyInfo subheading lh16']\")\n",
    "company_tags"
   ]
  },
  {
   "cell_type": "code",
   "execution_count": 149,
   "metadata": {},
   "outputs": [
    {
     "data": {
      "text/plain": [
       "['Entune IT Consulting Private Limited\\n2.8\\n(11 Reviews)',\n",
       " 'inVentiv International Pharma Services Pvt. Ltd.\\n4.1\\n(29 Reviews)',\n",
       " 'IDS Infotech Ltd.\\n2.9\\n(127 Reviews)',\n",
       " 'IDS Infotech Ltd.\\n2.9\\n(127 Reviews)',\n",
       " 'Optum Global Solutions (India) Private Limited\\n4.1\\n(1235 Reviews)',\n",
       " 'CARS24\\n3.6\\n(679 Reviews)',\n",
       " 'GABA Consultancy services',\n",
       " 'Decimal Technologies Pvt Ltd.\\n3.8\\n(33 Reviews)',\n",
       " 'Inflexion Analytix Private Limited',\n",
       " 'R Systems International Ltd.\\n3.2\\n(314 Reviews)',\n",
       " 'TalPro',\n",
       " 'TalPro',\n",
       " 'AlgoScale Technologies Private Limited\\n3.2\\n(5 Reviews)',\n",
       " 'Fractal Analytics\\n3.9\\n(98 Reviews)',\n",
       " 'Ashkom Media India Private Limited\\n4.0\\n(14 Reviews)',\n",
       " 'BlackBuck\\n3.8\\n(625 Reviews)',\n",
       " 'Country Veggie',\n",
       " 'JUMBO CONSULTANTS',\n",
       " 'JUMBO CONSULTANTS',\n",
       " 'UrbanClap\\n3.5\\n(208 Reviews)']"
      ]
     },
     "execution_count": 149,
     "metadata": {},
     "output_type": "execute_result"
    }
   ],
   "source": [
    "company_names=[]\n",
    "for i in company_tags:\n",
    "    company_names.append(i.text)\n",
    "company_names    "
   ]
  },
  {
   "cell_type": "code",
   "execution_count": 150,
   "metadata": {},
   "outputs": [
    {
     "data": {
      "text/plain": [
       "['Entune IT Consulting Private Limited\\n2.8\\n(11 Reviews)',\n",
       " 'inVentiv International Pharma Services Pvt. Ltd.\\n4.1\\n(29 Reviews)',\n",
       " 'IDS Infotech Ltd.\\n2.9\\n(127 Reviews)',\n",
       " 'IDS Infotech Ltd.\\n2.9\\n(127 Reviews)',\n",
       " 'Optum Global Solutions (India) Private Limited\\n4.1\\n(1235 Reviews)',\n",
       " 'CARS24\\n3.6\\n(679 Reviews)',\n",
       " 'GABA Consultancy services',\n",
       " 'Decimal Technologies Pvt Ltd.\\n3.8\\n(33 Reviews)',\n",
       " 'Inflexion Analytix Private Limited',\n",
       " 'R Systems International Ltd.\\n3.2\\n(314 Reviews)']"
      ]
     },
     "execution_count": 150,
     "metadata": {},
     "output_type": "execute_result"
    }
   ],
   "source": [
    "company_names=company_names[:10]\n",
    "company_names"
   ]
  },
  {
   "cell_type": "code",
   "execution_count": 151,
   "metadata": {},
   "outputs": [
    {
     "data": {
      "text/plain": [
       "[<selenium.webdriver.remote.webelement.WebElement (session=\"ba0946e38280cb40f9a1000ef82ba47f\", element=\"f707259a-a4b9-404a-8659-2cc9e8d57468\")>,\n",
       " <selenium.webdriver.remote.webelement.WebElement (session=\"ba0946e38280cb40f9a1000ef82ba47f\", element=\"6c5632c3-1b44-48df-b90f-e4baa494c1aa\")>,\n",
       " <selenium.webdriver.remote.webelement.WebElement (session=\"ba0946e38280cb40f9a1000ef82ba47f\", element=\"4d368a8f-4efb-49d2-8c8d-7c48499040bc\")>,\n",
       " <selenium.webdriver.remote.webelement.WebElement (session=\"ba0946e38280cb40f9a1000ef82ba47f\", element=\"eba358ef-13c3-4d81-9e6e-8eb401b13942\")>,\n",
       " <selenium.webdriver.remote.webelement.WebElement (session=\"ba0946e38280cb40f9a1000ef82ba47f\", element=\"02854cff-371d-41df-aeeb-27022f6f82e1\")>,\n",
       " <selenium.webdriver.remote.webelement.WebElement (session=\"ba0946e38280cb40f9a1000ef82ba47f\", element=\"58d870d7-3a17-4545-a7cc-ef3167e076cd\")>,\n",
       " <selenium.webdriver.remote.webelement.WebElement (session=\"ba0946e38280cb40f9a1000ef82ba47f\", element=\"ae1188e6-4834-4c36-9061-24e1da164dc5\")>,\n",
       " <selenium.webdriver.remote.webelement.WebElement (session=\"ba0946e38280cb40f9a1000ef82ba47f\", element=\"027a5cb9-c5f3-470a-8ca6-6d1e5404a8ff\")>,\n",
       " <selenium.webdriver.remote.webelement.WebElement (session=\"ba0946e38280cb40f9a1000ef82ba47f\", element=\"7c043dc2-e57e-408a-8291-b1975f1523c0\")>,\n",
       " <selenium.webdriver.remote.webelement.WebElement (session=\"ba0946e38280cb40f9a1000ef82ba47f\", element=\"e0cd260f-dd6b-4f1b-b787-1e99d64decdd\")>,\n",
       " <selenium.webdriver.remote.webelement.WebElement (session=\"ba0946e38280cb40f9a1000ef82ba47f\", element=\"558c6b8d-3fb2-4e00-a56c-7fe46f75208a\")>,\n",
       " <selenium.webdriver.remote.webelement.WebElement (session=\"ba0946e38280cb40f9a1000ef82ba47f\", element=\"64f3f431-ae49-426c-9495-2617625cdf21\")>,\n",
       " <selenium.webdriver.remote.webelement.WebElement (session=\"ba0946e38280cb40f9a1000ef82ba47f\", element=\"ba4deae9-c58a-415c-b73d-6caddd27ccd6\")>,\n",
       " <selenium.webdriver.remote.webelement.WebElement (session=\"ba0946e38280cb40f9a1000ef82ba47f\", element=\"0faf7d1a-f65b-4882-929d-fa503d1ae34c\")>,\n",
       " <selenium.webdriver.remote.webelement.WebElement (session=\"ba0946e38280cb40f9a1000ef82ba47f\", element=\"42760d80-9cfd-4fbb-9303-fdfe3f01d897\")>,\n",
       " <selenium.webdriver.remote.webelement.WebElement (session=\"ba0946e38280cb40f9a1000ef82ba47f\", element=\"6ccc3b6b-dbd0-4fd2-b2ef-4f1d657f7290\")>,\n",
       " <selenium.webdriver.remote.webelement.WebElement (session=\"ba0946e38280cb40f9a1000ef82ba47f\", element=\"62d2f048-547a-4644-a966-f9bebc4ee958\")>,\n",
       " <selenium.webdriver.remote.webelement.WebElement (session=\"ba0946e38280cb40f9a1000ef82ba47f\", element=\"b3cac4c3-ecc7-426f-8723-62b529b2d4a3\")>,\n",
       " <selenium.webdriver.remote.webelement.WebElement (session=\"ba0946e38280cb40f9a1000ef82ba47f\", element=\"210ae394-d1e1-4af0-a5da-bd3d38ecc1bf\")>,\n",
       " <selenium.webdriver.remote.webelement.WebElement (session=\"ba0946e38280cb40f9a1000ef82ba47f\", element=\"080a93be-7dd3-428a-94d0-b17b0a5bcd66\")>]"
      ]
     },
     "execution_count": 151,
     "metadata": {},
     "output_type": "execute_result"
    }
   ],
   "source": [
    "experience_tags=driver.find_elements_by_xpath(\"//li[@class='fleft grey-text br2 placeHolderLi experience']//span[1]\")\n",
    "experience_tags"
   ]
  },
  {
   "cell_type": "code",
   "execution_count": 152,
   "metadata": {},
   "outputs": [
    {
     "data": {
      "text/plain": [
       "['5-8 Yrs',\n",
       " '3-6 Yrs',\n",
       " '5-10 Yrs',\n",
       " '5-10 Yrs',\n",
       " '2-6 Yrs',\n",
       " '1-5 Yrs',\n",
       " '0-0 Yrs',\n",
       " '1-3 Yrs',\n",
       " '0-3 Yrs',\n",
       " '5-10 Yrs',\n",
       " '2-6 Yrs',\n",
       " '2-4 Yrs',\n",
       " '2-6 Yrs',\n",
       " '3-7 Yrs',\n",
       " '3-8 Yrs',\n",
       " '3-7 Yrs',\n",
       " '1-3 Yrs',\n",
       " '4-9 Yrs',\n",
       " '4-9 Yrs',\n",
       " '1-3 Yrs']"
      ]
     },
     "execution_count": 152,
     "metadata": {},
     "output_type": "execute_result"
    }
   ],
   "source": [
    "experience_required=[]\n",
    "for i in experience_tags:\n",
    "    experience_required.append(i.text)\n",
    "experience_required    "
   ]
  },
  {
   "cell_type": "code",
   "execution_count": 153,
   "metadata": {},
   "outputs": [
    {
     "data": {
      "text/plain": [
       "['5-8 Yrs',\n",
       " '3-6 Yrs',\n",
       " '5-10 Yrs',\n",
       " '5-10 Yrs',\n",
       " '2-6 Yrs',\n",
       " '1-5 Yrs',\n",
       " '0-0 Yrs',\n",
       " '1-3 Yrs',\n",
       " '0-3 Yrs',\n",
       " '5-10 Yrs']"
      ]
     },
     "execution_count": 153,
     "metadata": {},
     "output_type": "execute_result"
    }
   ],
   "source": [
    "experience_required=experience_required[:10]\n",
    "experience_required"
   ]
  },
  {
   "cell_type": "code",
   "execution_count": 154,
   "metadata": {},
   "outputs": [
    {
     "name": "stdout",
     "output_type": "stream",
     "text": [
      "10 10 10 10\n"
     ]
    }
   ],
   "source": [
    "print(len(job_title),len(job_location),len(company_name),len(experience_required))"
   ]
  },
  {
   "cell_type": "code",
   "execution_count": 155,
   "metadata": {},
   "outputs": [
    {
     "data": {
      "text/html": [
       "<div>\n",
       "<style scoped>\n",
       "    .dataframe tbody tr th:only-of-type {\n",
       "        vertical-align: middle;\n",
       "    }\n",
       "\n",
       "    .dataframe tbody tr th {\n",
       "        vertical-align: top;\n",
       "    }\n",
       "\n",
       "    .dataframe thead th {\n",
       "        text-align: right;\n",
       "    }\n",
       "</style>\n",
       "<table border=\"1\" class=\"dataframe\">\n",
       "  <thead>\n",
       "    <tr style=\"text-align: right;\">\n",
       "      <th></th>\n",
       "      <th>titles</th>\n",
       "      <th>names</th>\n",
       "      <th>location</th>\n",
       "      <th>experience required</th>\n",
       "    </tr>\n",
       "  </thead>\n",
       "  <tbody>\n",
       "    <tr>\n",
       "      <th>0</th>\n",
       "      <td>Immediate Openings For DATA Scientist with 6 T...</td>\n",
       "      <td>Datamatics Global Services Ltd</td>\n",
       "      <td>Bangalore/Bengaluru</td>\n",
       "      <td>5-8 Yrs</td>\n",
       "    </tr>\n",
       "    <tr>\n",
       "      <th>1</th>\n",
       "      <td>Senior Data Scientist</td>\n",
       "      <td>ALTEN CALSOFT LABS (INDIA) PRIVATE LIMITED</td>\n",
       "      <td>Bangalore/Bengaluru(Dairy Circle)</td>\n",
       "      <td>3-6 Yrs</td>\n",
       "    </tr>\n",
       "    <tr>\n",
       "      <th>2</th>\n",
       "      <td>Hiring Data Scientist Develope || IDS Infotech...</td>\n",
       "      <td>Publicis Groupe</td>\n",
       "      <td>Bangalore/Bengaluru</td>\n",
       "      <td>5-10 Yrs</td>\n",
       "    </tr>\n",
       "    <tr>\n",
       "      <th>3</th>\n",
       "      <td>Hiring Data Scientist Develope || IDS Infotech...</td>\n",
       "      <td>Bidgely Technologies Private Limited</td>\n",
       "      <td>Bangalore/Bengaluru</td>\n",
       "      <td>5-10 Yrs</td>\n",
       "    </tr>\n",
       "    <tr>\n",
       "      <th>4</th>\n",
       "      <td>Senior Data Scientist - Noida</td>\n",
       "      <td>Goals 101 Data Solutions Pvt. Ltd.</td>\n",
       "      <td>New Delhi, Bangalore/Bengaluru, Delhi / NCR</td>\n",
       "      <td>2-6 Yrs</td>\n",
       "    </tr>\n",
       "    <tr>\n",
       "      <th>5</th>\n",
       "      <td>Data Scientist / Data Analyst</td>\n",
       "      <td>McAfee Software (India) Pvt. Ltd</td>\n",
       "      <td>(WFH during Covid)</td>\n",
       "      <td>1-5 Yrs</td>\n",
       "    </tr>\n",
       "    <tr>\n",
       "      <th>6</th>\n",
       "      <td>Only Fresher / Data Scientist / Data Analyst /...</td>\n",
       "      <td>Onward Technologies Limited</td>\n",
       "      <td>Bangalore/Bengaluru</td>\n",
       "      <td>0-0 Yrs</td>\n",
       "    </tr>\n",
       "    <tr>\n",
       "      <th>7</th>\n",
       "      <td>Data Scientist</td>\n",
       "      <td>Teamware Solutions</td>\n",
       "      <td>Hyderabad/Secunderabad, Chennai, Bangalore/Ben...</td>\n",
       "      <td>1-3 Yrs</td>\n",
       "    </tr>\n",
       "    <tr>\n",
       "      <th>8</th>\n",
       "      <td>Data Scientist/Data Analyst /Business Analyst</td>\n",
       "      <td>Mindtree Limited</td>\n",
       "      <td>Bangalore/Bengaluru</td>\n",
       "      <td>0-3 Yrs</td>\n",
       "    </tr>\n",
       "    <tr>\n",
       "      <th>9</th>\n",
       "      <td>Data Scientist</td>\n",
       "      <td>Western Digital</td>\n",
       "      <td>Bangalore/Bengaluru</td>\n",
       "      <td>5-10 Yrs</td>\n",
       "    </tr>\n",
       "  </tbody>\n",
       "</table>\n",
       "</div>"
      ],
      "text/plain": [
       "                                              titles  \\\n",
       "0  Immediate Openings For DATA Scientist with 6 T...   \n",
       "1                              Senior Data Scientist   \n",
       "2  Hiring Data Scientist Develope || IDS Infotech...   \n",
       "3  Hiring Data Scientist Develope || IDS Infotech...   \n",
       "4                      Senior Data Scientist - Noida   \n",
       "5                      Data Scientist / Data Analyst   \n",
       "6  Only Fresher / Data Scientist / Data Analyst /...   \n",
       "7                                     Data Scientist   \n",
       "8      Data Scientist/Data Analyst /Business Analyst   \n",
       "9                                     Data Scientist   \n",
       "\n",
       "                                        names  \\\n",
       "0              Datamatics Global Services Ltd   \n",
       "1  ALTEN CALSOFT LABS (INDIA) PRIVATE LIMITED   \n",
       "2                             Publicis Groupe   \n",
       "3        Bidgely Technologies Private Limited   \n",
       "4          Goals 101 Data Solutions Pvt. Ltd.   \n",
       "5            McAfee Software (India) Pvt. Ltd   \n",
       "6                 Onward Technologies Limited   \n",
       "7                          Teamware Solutions   \n",
       "8                            Mindtree Limited   \n",
       "9                             Western Digital   \n",
       "\n",
       "                                            location experience required  \n",
       "0                                Bangalore/Bengaluru             5-8 Yrs  \n",
       "1                  Bangalore/Bengaluru(Dairy Circle)             3-6 Yrs  \n",
       "2                                Bangalore/Bengaluru            5-10 Yrs  \n",
       "3                                Bangalore/Bengaluru            5-10 Yrs  \n",
       "4        New Delhi, Bangalore/Bengaluru, Delhi / NCR             2-6 Yrs  \n",
       "5                                 (WFH during Covid)             1-5 Yrs  \n",
       "6                                Bangalore/Bengaluru             0-0 Yrs  \n",
       "7  Hyderabad/Secunderabad, Chennai, Bangalore/Ben...             1-3 Yrs  \n",
       "8                                Bangalore/Bengaluru             0-3 Yrs  \n",
       "9                                Bangalore/Bengaluru            5-10 Yrs  "
      ]
     },
     "execution_count": 155,
     "metadata": {},
     "output_type": "execute_result"
    }
   ],
   "source": [
    "jobs=pd.DataFrame({})\n",
    "jobs['titles']=job_title\n",
    "jobs['names']=company_name\n",
    "jobs['location']=job_location\n",
    "jobs['experience required']=experience_required   \n",
    "jobs"
   ]
  },
  {
   "cell_type": "markdown",
   "metadata": {},
   "source": [
    "### 4 Python program to scrape data for first 10 job results for Data scientist Designation in Noida location"
   ]
  },
  {
   "cell_type": "markdown",
   "metadata": {},
   "source": [
    "***"
   ]
  },
  {
   "cell_type": "code",
   "execution_count": 6,
   "metadata": {},
   "outputs": [],
   "source": [
    "from selenium.common.exceptions import NoSuchElementException, ElementClickInterceptedException\n",
    "from selenium import webdriver\n",
    "import time\n",
    "import pandas as pd"
   ]
  },
  {
   "cell_type": "code",
   "execution_count": 11,
   "metadata": {},
   "outputs": [],
   "source": [
    "url = 'https://www.glassdoor.co.in/Job/noida-data-scientist-jobs-SRCH_IL.0,5_IC4477468_KO6,20.htm'\n",
    "driver.get(url)"
   ]
  },
  {
   "cell_type": "code",
   "execution_count": 12,
   "metadata": {
    "scrolled": true
   },
   "outputs": [
    {
     "data": {
      "text/plain": [
       "[<selenium.webdriver.remote.webelement.WebElement (session=\"ba9920fe762abd78e12424f2666dba8b\", element=\"5f23e494-ec27-41b2-9958-399d7f5230ad\")>,\n",
       " <selenium.webdriver.remote.webelement.WebElement (session=\"ba9920fe762abd78e12424f2666dba8b\", element=\"a138ad27-5cbf-4cd4-8447-8eb98bfc56f7\")>,\n",
       " <selenium.webdriver.remote.webelement.WebElement (session=\"ba9920fe762abd78e12424f2666dba8b\", element=\"3deabe6f-32d2-43f7-9531-1b80cf1c0f15\")>,\n",
       " <selenium.webdriver.remote.webelement.WebElement (session=\"ba9920fe762abd78e12424f2666dba8b\", element=\"8451899a-419c-4077-8274-caaa2fd23ade\")>,\n",
       " <selenium.webdriver.remote.webelement.WebElement (session=\"ba9920fe762abd78e12424f2666dba8b\", element=\"04a66e6e-3ca3-49ac-a022-1342feb2e53b\")>,\n",
       " <selenium.webdriver.remote.webelement.WebElement (session=\"ba9920fe762abd78e12424f2666dba8b\", element=\"4e84037d-319a-443a-a521-7c7548a99de7\")>,\n",
       " <selenium.webdriver.remote.webelement.WebElement (session=\"ba9920fe762abd78e12424f2666dba8b\", element=\"b6ee7da0-0171-442e-8e91-c27f8eb7acc8\")>,\n",
       " <selenium.webdriver.remote.webelement.WebElement (session=\"ba9920fe762abd78e12424f2666dba8b\", element=\"fddd5c93-33da-4f92-86e5-83b24656d37e\")>,\n",
       " <selenium.webdriver.remote.webelement.WebElement (session=\"ba9920fe762abd78e12424f2666dba8b\", element=\"dcd32859-4185-46d7-8b7c-262230672625\")>,\n",
       " <selenium.webdriver.remote.webelement.WebElement (session=\"ba9920fe762abd78e12424f2666dba8b\", element=\"86396499-97b4-47f0-8041-aebd6c773ea5\")>,\n",
       " <selenium.webdriver.remote.webelement.WebElement (session=\"ba9920fe762abd78e12424f2666dba8b\", element=\"2be66712-0b44-47e3-939e-322b92a1ade1\")>,\n",
       " <selenium.webdriver.remote.webelement.WebElement (session=\"ba9920fe762abd78e12424f2666dba8b\", element=\"9c47328b-88f4-43a7-933a-9d3979b4d433\")>,\n",
       " <selenium.webdriver.remote.webelement.WebElement (session=\"ba9920fe762abd78e12424f2666dba8b\", element=\"6572a07c-1eaf-4ca9-a214-36ea2831a13c\")>,\n",
       " <selenium.webdriver.remote.webelement.WebElement (session=\"ba9920fe762abd78e12424f2666dba8b\", element=\"f79da583-de63-44d2-87f2-c99c3600428a\")>,\n",
       " <selenium.webdriver.remote.webelement.WebElement (session=\"ba9920fe762abd78e12424f2666dba8b\", element=\"c83b6174-2835-49cb-aecb-b906de31c02f\")>,\n",
       " <selenium.webdriver.remote.webelement.WebElement (session=\"ba9920fe762abd78e12424f2666dba8b\", element=\"b195ed14-95ef-4e45-8f82-36317399dec8\")>,\n",
       " <selenium.webdriver.remote.webelement.WebElement (session=\"ba9920fe762abd78e12424f2666dba8b\", element=\"2eb90ed0-e7b8-43ff-8d35-116167ad157c\")>,\n",
       " <selenium.webdriver.remote.webelement.WebElement (session=\"ba9920fe762abd78e12424f2666dba8b\", element=\"2bc80c14-baa4-4a10-a606-45e4d3e8e20d\")>,\n",
       " <selenium.webdriver.remote.webelement.WebElement (session=\"ba9920fe762abd78e12424f2666dba8b\", element=\"5ca8f8de-19ea-4179-9197-d83004b0695b\")>,\n",
       " <selenium.webdriver.remote.webelement.WebElement (session=\"ba9920fe762abd78e12424f2666dba8b\", element=\"0afbd300-93b8-4ddb-864e-9c996acd8cee\")>,\n",
       " <selenium.webdriver.remote.webelement.WebElement (session=\"ba9920fe762abd78e12424f2666dba8b\", element=\"88a6990d-54b7-45d5-9665-f17b3db69e13\")>,\n",
       " <selenium.webdriver.remote.webelement.WebElement (session=\"ba9920fe762abd78e12424f2666dba8b\", element=\"6fc633e0-160b-46d0-af64-21d7354a40b9\")>,\n",
       " <selenium.webdriver.remote.webelement.WebElement (session=\"ba9920fe762abd78e12424f2666dba8b\", element=\"6189ee98-6e90-4e87-bdc1-96fce16a9189\")>,\n",
       " <selenium.webdriver.remote.webelement.WebElement (session=\"ba9920fe762abd78e12424f2666dba8b\", element=\"b308a71e-870a-4a55-ad65-b29b223ab8ed\")>,\n",
       " <selenium.webdriver.remote.webelement.WebElement (session=\"ba9920fe762abd78e12424f2666dba8b\", element=\"ee41d919-a60d-4a07-a6b3-c3c6f3ea1e8c\")>,\n",
       " <selenium.webdriver.remote.webelement.WebElement (session=\"ba9920fe762abd78e12424f2666dba8b\", element=\"c6b7cbd7-0182-4505-897f-6378937df1c4\")>,\n",
       " <selenium.webdriver.remote.webelement.WebElement (session=\"ba9920fe762abd78e12424f2666dba8b\", element=\"0d6b1a19-d465-49b7-b110-888334992ad1\")>,\n",
       " <selenium.webdriver.remote.webelement.WebElement (session=\"ba9920fe762abd78e12424f2666dba8b\", element=\"c8da2ae6-5f62-4aab-9bf3-e917ce39de6b\")>,\n",
       " <selenium.webdriver.remote.webelement.WebElement (session=\"ba9920fe762abd78e12424f2666dba8b\", element=\"dcc92a7e-fe1f-417d-aa02-7616414d9252\")>,\n",
       " <selenium.webdriver.remote.webelement.WebElement (session=\"ba9920fe762abd78e12424f2666dba8b\", element=\"8f5c4959-c119-49f0-b6b3-b2a5fcd81532\")>]"
      ]
     },
     "execution_count": 12,
     "metadata": {},
     "output_type": "execute_result"
    }
   ],
   "source": [
    "company_tags=driver.find_elements_by_xpath(\"//div[@class='d-flex justify-content-between align-items-start']\")\n",
    "company_tags"
   ]
  },
  {
   "cell_type": "code",
   "execution_count": 13,
   "metadata": {},
   "outputs": [
    {
     "data": {
      "text/plain": [
       "['Liberin Technologies Private Limited',\n",
       " 'Pixel Vision',\n",
       " 'Data Trained Education',\n",
       " 'Crowe',\n",
       " 'Ericsson',\n",
       " 'Salasar New Age Technologies',\n",
       " 'Newgen Software',\n",
       " 'Biz2Credit Inc',\n",
       " 'Uncodemy',\n",
       " 'Techlive',\n",
       " 'NEC Opportunities',\n",
       " 'Salasar New Age Technologies',\n",
       " 'SearchUrCollege',\n",
       " 'dunnhumby',\n",
       " 'Innovacer',\n",
       " 'Innovacer',\n",
       " 'Conduent',\n",
       " 'WishFin',\n",
       " 'Decision Tree Analytics And Services',\n",
       " 'Deciman',\n",
       " 'WhizHack Technologies Pvt Ltd',\n",
       " 'Emerging India Analytics',\n",
       " 'xtLytics',\n",
       " 'Microsoft',\n",
       " 'Decision Tree Analytics And Services',\n",
       " 'Priority Vendor',\n",
       " 'xtLytics',\n",
       " 'MasterCard',\n",
       " 'Extension Technologies',\n",
       " 'Adobe']"
      ]
     },
     "execution_count": 13,
     "metadata": {},
     "output_type": "execute_result"
    }
   ],
   "source": [
    "company_name=[]\n",
    "for i in company_tags:\n",
    "    company_name.append(i.text)\n",
    "company_name    "
   ]
  },
  {
   "cell_type": "code",
   "execution_count": 14,
   "metadata": {},
   "outputs": [
    {
     "data": {
      "text/plain": [
       "['Liberin Technologies Private Limited',\n",
       " 'Pixel Vision',\n",
       " 'Data Trained Education',\n",
       " 'Crowe',\n",
       " 'Ericsson',\n",
       " 'Salasar New Age Technologies',\n",
       " 'Newgen Software',\n",
       " 'Biz2Credit Inc',\n",
       " 'Uncodemy',\n",
       " 'Techlive']"
      ]
     },
     "execution_count": 14,
     "metadata": {},
     "output_type": "execute_result"
    }
   ],
   "source": [
    "company_name=company_name[:10]\n",
    "company_name"
   ]
  },
  {
   "cell_type": "code",
   "execution_count": 15,
   "metadata": {},
   "outputs": [
    {
     "data": {
      "text/plain": [
       "[<selenium.webdriver.remote.webelement.WebElement (session=\"ba9920fe762abd78e12424f2666dba8b\", element=\"f56f760d-b192-406b-9955-c407fb576df1\")>,\n",
       " <selenium.webdriver.remote.webelement.WebElement (session=\"ba9920fe762abd78e12424f2666dba8b\", element=\"2bdb595f-5ce5-48af-996d-f59857f5d2aa\")>,\n",
       " <selenium.webdriver.remote.webelement.WebElement (session=\"ba9920fe762abd78e12424f2666dba8b\", element=\"b9095e17-45c4-4e4c-9450-0a38c83326c1\")>,\n",
       " <selenium.webdriver.remote.webelement.WebElement (session=\"ba9920fe762abd78e12424f2666dba8b\", element=\"58767bc3-bc14-45d8-a854-59d8d917c773\")>,\n",
       " <selenium.webdriver.remote.webelement.WebElement (session=\"ba9920fe762abd78e12424f2666dba8b\", element=\"544764f9-a655-4163-973c-65a37141de6d\")>,\n",
       " <selenium.webdriver.remote.webelement.WebElement (session=\"ba9920fe762abd78e12424f2666dba8b\", element=\"3c3b6d86-eb5a-471a-a4d5-527d020191b2\")>,\n",
       " <selenium.webdriver.remote.webelement.WebElement (session=\"ba9920fe762abd78e12424f2666dba8b\", element=\"5c1dac23-0e14-45ea-af56-53c61c278ac8\")>,\n",
       " <selenium.webdriver.remote.webelement.WebElement (session=\"ba9920fe762abd78e12424f2666dba8b\", element=\"dbda57c8-c4d8-4c82-aed1-a3a8c78aea6f\")>,\n",
       " <selenium.webdriver.remote.webelement.WebElement (session=\"ba9920fe762abd78e12424f2666dba8b\", element=\"60ac0ed3-2f7d-4054-935d-997ab67fdec5\")>,\n",
       " <selenium.webdriver.remote.webelement.WebElement (session=\"ba9920fe762abd78e12424f2666dba8b\", element=\"6108d486-5cbb-4785-8b5c-670ca2380999\")>,\n",
       " <selenium.webdriver.remote.webelement.WebElement (session=\"ba9920fe762abd78e12424f2666dba8b\", element=\"1f69199f-dd67-40b0-b431-1e23cae3a02e\")>,\n",
       " <selenium.webdriver.remote.webelement.WebElement (session=\"ba9920fe762abd78e12424f2666dba8b\", element=\"ab7803ba-ba1b-425e-9da7-963e57fa6ca8\")>,\n",
       " <selenium.webdriver.remote.webelement.WebElement (session=\"ba9920fe762abd78e12424f2666dba8b\", element=\"eb8d0044-767e-43ba-b56b-1a023c0c646e\")>,\n",
       " <selenium.webdriver.remote.webelement.WebElement (session=\"ba9920fe762abd78e12424f2666dba8b\", element=\"63dc56dd-45f8-46e1-bd6f-12e41311566d\")>,\n",
       " <selenium.webdriver.remote.webelement.WebElement (session=\"ba9920fe762abd78e12424f2666dba8b\", element=\"8839d693-441f-4d84-97f9-dbb4bca847f4\")>,\n",
       " <selenium.webdriver.remote.webelement.WebElement (session=\"ba9920fe762abd78e12424f2666dba8b\", element=\"2ceb1c4d-35e2-49c9-a6d4-dde2717ae22e\")>,\n",
       " <selenium.webdriver.remote.webelement.WebElement (session=\"ba9920fe762abd78e12424f2666dba8b\", element=\"f007735a-b5b8-44de-9464-afa2e0b299a2\")>,\n",
       " <selenium.webdriver.remote.webelement.WebElement (session=\"ba9920fe762abd78e12424f2666dba8b\", element=\"e76adede-66c9-40d1-9869-a7bfaa869547\")>,\n",
       " <selenium.webdriver.remote.webelement.WebElement (session=\"ba9920fe762abd78e12424f2666dba8b\", element=\"0819e547-6b6b-44ae-9c47-e4f6874f2d82\")>,\n",
       " <selenium.webdriver.remote.webelement.WebElement (session=\"ba9920fe762abd78e12424f2666dba8b\", element=\"edf20c5e-f1d7-41d5-9e30-1396caa170d8\")>,\n",
       " <selenium.webdriver.remote.webelement.WebElement (session=\"ba9920fe762abd78e12424f2666dba8b\", element=\"74303b78-2eac-4da8-b6a3-1ed57237b325\")>,\n",
       " <selenium.webdriver.remote.webelement.WebElement (session=\"ba9920fe762abd78e12424f2666dba8b\", element=\"9708769f-e889-45d7-9d60-b5124abcd9b7\")>,\n",
       " <selenium.webdriver.remote.webelement.WebElement (session=\"ba9920fe762abd78e12424f2666dba8b\", element=\"7c072f80-9534-4513-923a-e526d917ca12\")>,\n",
       " <selenium.webdriver.remote.webelement.WebElement (session=\"ba9920fe762abd78e12424f2666dba8b\", element=\"46d5b384-bf06-47ca-af7d-cc83528b61c7\")>,\n",
       " <selenium.webdriver.remote.webelement.WebElement (session=\"ba9920fe762abd78e12424f2666dba8b\", element=\"f4bd6ade-442d-43ed-8512-1bd1eae7160d\")>,\n",
       " <selenium.webdriver.remote.webelement.WebElement (session=\"ba9920fe762abd78e12424f2666dba8b\", element=\"09c8034e-7854-4a8c-bbbe-7754b7b3b991\")>,\n",
       " <selenium.webdriver.remote.webelement.WebElement (session=\"ba9920fe762abd78e12424f2666dba8b\", element=\"578e11c1-e6ec-46c7-8543-5c5a30a73b8f\")>,\n",
       " <selenium.webdriver.remote.webelement.WebElement (session=\"ba9920fe762abd78e12424f2666dba8b\", element=\"dd2c4c3b-6090-44bd-aacc-333caf3419c0\")>,\n",
       " <selenium.webdriver.remote.webelement.WebElement (session=\"ba9920fe762abd78e12424f2666dba8b\", element=\"cbc5bb0e-af39-446c-b3b0-54cf9662c613\")>,\n",
       " <selenium.webdriver.remote.webelement.WebElement (session=\"ba9920fe762abd78e12424f2666dba8b\", element=\"07657330-df45-4514-b4ff-883f7e8ed05d\")>]"
      ]
     },
     "execution_count": 15,
     "metadata": {},
     "output_type": "execute_result"
    }
   ],
   "source": [
    "days_tags=driver.find_elements_by_xpath(\"//div[@class='d-flex align-items-end pl-std css-mi55ob']\")\n",
    "days_tags"
   ]
  },
  {
   "cell_type": "code",
   "execution_count": 16,
   "metadata": {},
   "outputs": [
    {
     "data": {
      "text/plain": [
       "['10d',\n",
       " '21d',\n",
       " '24h',\n",
       " '30d+',\n",
       " '5d',\n",
       " '30d+',\n",
       " '21d',\n",
       " '30d+',\n",
       " '1d',\n",
       " '30d+',\n",
       " '2d',\n",
       " '30d+',\n",
       " '30d+',\n",
       " '24h',\n",
       " '3d',\n",
       " '30d+',\n",
       " '30d+',\n",
       " '30d+',\n",
       " '24h',\n",
       " '9d',\n",
       " '25d',\n",
       " '1d',\n",
       " '30d+',\n",
       " '6d',\n",
       " '24h',\n",
       " '30d+',\n",
       " '30d+',\n",
       " '8d',\n",
       " '8d',\n",
       " '30d+']"
      ]
     },
     "execution_count": 16,
     "metadata": {},
     "output_type": "execute_result"
    }
   ],
   "source": [
    "posted_days=[]\n",
    "for i in days_tags:\n",
    "    posted_days.append(i.text)\n",
    "posted_days"
   ]
  },
  {
   "cell_type": "code",
   "execution_count": 17,
   "metadata": {},
   "outputs": [
    {
     "data": {
      "text/plain": [
       "['10d', '21d', '24h', '30d+', '5d', '30d+', '21d', '30d+', '1d', '30d+']"
      ]
     },
     "execution_count": 17,
     "metadata": {},
     "output_type": "execute_result"
    }
   ],
   "source": [
    "posted_days=posted_days[:10]\n",
    "posted_days"
   ]
  },
  {
   "cell_type": "code",
   "execution_count": 21,
   "metadata": {},
   "outputs": [
    {
     "data": {
      "text/plain": [
       "[<selenium.webdriver.remote.webelement.WebElement (session=\"ba9920fe762abd78e12424f2666dba8b\", element=\"54cf1a30-af0c-4a09-bdb0-397b05dc006e\")>,\n",
       " <selenium.webdriver.remote.webelement.WebElement (session=\"ba9920fe762abd78e12424f2666dba8b\", element=\"0088a637-0817-4348-88b7-17420f27e394\")>,\n",
       " <selenium.webdriver.remote.webelement.WebElement (session=\"ba9920fe762abd78e12424f2666dba8b\", element=\"6a1173ad-ba6a-40d5-9827-23f31265ffe3\")>,\n",
       " <selenium.webdriver.remote.webelement.WebElement (session=\"ba9920fe762abd78e12424f2666dba8b\", element=\"f5bc8d07-1982-48a1-a5d2-ff2885f7dfda\")>,\n",
       " <selenium.webdriver.remote.webelement.WebElement (session=\"ba9920fe762abd78e12424f2666dba8b\", element=\"3fcb7cac-f63b-4807-929a-d182632d34b2\")>,\n",
       " <selenium.webdriver.remote.webelement.WebElement (session=\"ba9920fe762abd78e12424f2666dba8b\", element=\"2a6378d2-b933-48e8-8ba0-5257002cd35d\")>,\n",
       " <selenium.webdriver.remote.webelement.WebElement (session=\"ba9920fe762abd78e12424f2666dba8b\", element=\"7d09b73b-1758-40ad-9f81-0f0549de4cee\")>,\n",
       " <selenium.webdriver.remote.webelement.WebElement (session=\"ba9920fe762abd78e12424f2666dba8b\", element=\"680abd73-8903-4e44-976e-61116998f97d\")>,\n",
       " <selenium.webdriver.remote.webelement.WebElement (session=\"ba9920fe762abd78e12424f2666dba8b\", element=\"3557745d-5b42-4cf0-8420-ec7eb6585b7c\")>,\n",
       " <selenium.webdriver.remote.webelement.WebElement (session=\"ba9920fe762abd78e12424f2666dba8b\", element=\"25e83579-f002-49a6-a211-67f534e091f3\")>,\n",
       " <selenium.webdriver.remote.webelement.WebElement (session=\"ba9920fe762abd78e12424f2666dba8b\", element=\"3431d96f-4fb2-47ed-8564-bd9f349a35bb\")>,\n",
       " <selenium.webdriver.remote.webelement.WebElement (session=\"ba9920fe762abd78e12424f2666dba8b\", element=\"de84f660-4dba-4215-b499-20bb2776b557\")>,\n",
       " <selenium.webdriver.remote.webelement.WebElement (session=\"ba9920fe762abd78e12424f2666dba8b\", element=\"3c02b9a8-92f8-4fac-99aa-58992f9de020\")>,\n",
       " <selenium.webdriver.remote.webelement.WebElement (session=\"ba9920fe762abd78e12424f2666dba8b\", element=\"b6cfdaca-844a-4c46-b849-455d4d695d2e\")>,\n",
       " <selenium.webdriver.remote.webelement.WebElement (session=\"ba9920fe762abd78e12424f2666dba8b\", element=\"e5b3617c-f39e-4320-aea0-1e2f4ef6c276\")>,\n",
       " <selenium.webdriver.remote.webelement.WebElement (session=\"ba9920fe762abd78e12424f2666dba8b\", element=\"8d862037-7379-4afb-8b9c-4d87b236c604\")>,\n",
       " <selenium.webdriver.remote.webelement.WebElement (session=\"ba9920fe762abd78e12424f2666dba8b\", element=\"5e8427c4-8ec9-422d-827e-ffec798f365d\")>,\n",
       " <selenium.webdriver.remote.webelement.WebElement (session=\"ba9920fe762abd78e12424f2666dba8b\", element=\"8931ded5-89dd-4c94-a1be-3a22d42e5846\")>,\n",
       " <selenium.webdriver.remote.webelement.WebElement (session=\"ba9920fe762abd78e12424f2666dba8b\", element=\"8e33a875-21e8-4cf0-beed-bf59f83b526d\")>]"
      ]
     },
     "execution_count": 21,
     "metadata": {},
     "output_type": "execute_result"
    }
   ],
   "source": [
    "rating_tags=driver.find_elements_by_xpath(\"//span[@class='css-19pjha7 e1cjmv6j1']\")\n",
    "rating_tags"
   ]
  },
  {
   "cell_type": "code",
   "execution_count": 22,
   "metadata": {},
   "outputs": [
    {
     "data": {
      "text/plain": [
       "['3.8',\n",
       " '4.1',\n",
       " '3.3',\n",
       " '4.1',\n",
       " '5.0',\n",
       " '4.1',\n",
       " '3.8',\n",
       " '3.8',\n",
       " '3.1',\n",
       " '3.8',\n",
       " '4.7',\n",
       " '3.7',\n",
       " '3.0',\n",
       " '4.4',\n",
       " '4.7',\n",
       " '3.7',\n",
       " '3.0',\n",
       " '4.2',\n",
       " '4.5']"
      ]
     },
     "execution_count": 22,
     "metadata": {},
     "output_type": "execute_result"
    }
   ],
   "source": [
    "company_rating=[]\n",
    "for i in rating_tags:\n",
    "    company_rating.append(i.text)\n",
    "company_rating    "
   ]
  },
  {
   "cell_type": "code",
   "execution_count": 23,
   "metadata": {},
   "outputs": [
    {
     "data": {
      "text/plain": [
       "['3.8', '4.1', '3.3', '4.1', '5.0', '4.1', '3.8', '3.8', '3.1', '3.8']"
      ]
     },
     "execution_count": 23,
     "metadata": {},
     "output_type": "execute_result"
    }
   ],
   "source": [
    "company_rating=company_rating[:10]\n",
    "company_rating"
   ]
  },
  {
   "cell_type": "code",
   "execution_count": 24,
   "metadata": {},
   "outputs": [
    {
     "name": "stdout",
     "output_type": "stream",
     "text": [
      "10 10 10\n"
     ]
    }
   ],
   "source": [
    "print(len(company_name),len(posted_days),len(company_rating))"
   ]
  },
  {
   "cell_type": "code",
   "execution_count": 25,
   "metadata": {},
   "outputs": [
    {
     "data": {
      "text/html": [
       "<div>\n",
       "<style scoped>\n",
       "    .dataframe tbody tr th:only-of-type {\n",
       "        vertical-align: middle;\n",
       "    }\n",
       "\n",
       "    .dataframe tbody tr th {\n",
       "        vertical-align: top;\n",
       "    }\n",
       "\n",
       "    .dataframe thead th {\n",
       "        text-align: right;\n",
       "    }\n",
       "</style>\n",
       "<table border=\"1\" class=\"dataframe\">\n",
       "  <thead>\n",
       "    <tr style=\"text-align: right;\">\n",
       "      <th></th>\n",
       "      <th>Comapny name</th>\n",
       "      <th>posted days</th>\n",
       "      <th>Comapny rating</th>\n",
       "    </tr>\n",
       "  </thead>\n",
       "  <tbody>\n",
       "    <tr>\n",
       "      <th>0</th>\n",
       "      <td>Liberin Technologies Private Limited</td>\n",
       "      <td>10d</td>\n",
       "      <td>3.8</td>\n",
       "    </tr>\n",
       "    <tr>\n",
       "      <th>1</th>\n",
       "      <td>Pixel Vision</td>\n",
       "      <td>21d</td>\n",
       "      <td>4.1</td>\n",
       "    </tr>\n",
       "    <tr>\n",
       "      <th>2</th>\n",
       "      <td>Data Trained Education</td>\n",
       "      <td>24h</td>\n",
       "      <td>3.3</td>\n",
       "    </tr>\n",
       "    <tr>\n",
       "      <th>3</th>\n",
       "      <td>Crowe</td>\n",
       "      <td>30d+</td>\n",
       "      <td>4.1</td>\n",
       "    </tr>\n",
       "    <tr>\n",
       "      <th>4</th>\n",
       "      <td>Ericsson</td>\n",
       "      <td>5d</td>\n",
       "      <td>5.0</td>\n",
       "    </tr>\n",
       "    <tr>\n",
       "      <th>5</th>\n",
       "      <td>Salasar New Age Technologies</td>\n",
       "      <td>30d+</td>\n",
       "      <td>4.1</td>\n",
       "    </tr>\n",
       "    <tr>\n",
       "      <th>6</th>\n",
       "      <td>Newgen Software</td>\n",
       "      <td>21d</td>\n",
       "      <td>3.8</td>\n",
       "    </tr>\n",
       "    <tr>\n",
       "      <th>7</th>\n",
       "      <td>Biz2Credit Inc</td>\n",
       "      <td>30d+</td>\n",
       "      <td>3.8</td>\n",
       "    </tr>\n",
       "    <tr>\n",
       "      <th>8</th>\n",
       "      <td>Uncodemy</td>\n",
       "      <td>1d</td>\n",
       "      <td>3.1</td>\n",
       "    </tr>\n",
       "    <tr>\n",
       "      <th>9</th>\n",
       "      <td>Techlive</td>\n",
       "      <td>30d+</td>\n",
       "      <td>3.8</td>\n",
       "    </tr>\n",
       "  </tbody>\n",
       "</table>\n",
       "</div>"
      ],
      "text/plain": [
       "                           Comapny name posted days Comapny rating\n",
       "0  Liberin Technologies Private Limited         10d            3.8\n",
       "1                          Pixel Vision         21d            4.1\n",
       "2                Data Trained Education         24h            3.3\n",
       "3                                 Crowe        30d+            4.1\n",
       "4                              Ericsson          5d            5.0\n",
       "5          Salasar New Age Technologies        30d+            4.1\n",
       "6                       Newgen Software         21d            3.8\n",
       "7                        Biz2Credit Inc        30d+            3.8\n",
       "8                              Uncodemy          1d            3.1\n",
       "9                              Techlive        30d+            3.8"
      ]
     },
     "execution_count": 25,
     "metadata": {},
     "output_type": "execute_result"
    }
   ],
   "source": [
    "jobs=pd.DataFrame({})\n",
    "jobs['Comapny name']=company_name\n",
    "jobs['posted days']=posted_days\n",
    "jobs['Comapny rating']=company_rating\n",
    "jobs"
   ]
  },
  {
   "cell_type": "markdown",
   "metadata": {},
   "source": [
    "### 5. Python program to scrape the salary data for Data Scientist designation in Noida location."
   ]
  },
  {
   "cell_type": "markdown",
   "metadata": {},
   "source": [
    "***"
   ]
  },
  {
   "cell_type": "code",
   "execution_count": 47,
   "metadata": {},
   "outputs": [],
   "source": [
    "url = 'https://www.glassdoor.co.in/Salaries/index.htm'\n",
    "driver.get(url)"
   ]
  },
  {
   "cell_type": "code",
   "execution_count": 48,
   "metadata": {},
   "outputs": [
    {
     "data": {
      "text/plain": [
       "<selenium.webdriver.remote.webelement.WebElement (session=\"ba9920fe762abd78e12424f2666dba8b\", element=\"c22c620e-fe93-413a-ae25-867101d927c3\")>"
      ]
     },
     "execution_count": 48,
     "metadata": {},
     "output_type": "execute_result"
    }
   ],
   "source": [
    "search_job = driver.find_element_by_id(\"KeywordSearch\")\n",
    "search_job"
   ]
  },
  {
   "cell_type": "code",
   "execution_count": 40,
   "metadata": {},
   "outputs": [],
   "source": [
    "search_job.send_keys(\"Data Scientist\")"
   ]
  },
  {
   "cell_type": "code",
   "execution_count": 41,
   "metadata": {},
   "outputs": [],
   "source": [
    "search_loc = driver.find_element_by_id(\"LocationSearch\")\n",
    "search_loc.send_keys(\"Noida\")"
   ]
  },
  {
   "cell_type": "code",
   "execution_count": 42,
   "metadata": {},
   "outputs": [
    {
     "data": {
      "text/plain": [
       "<selenium.webdriver.remote.webelement.WebElement (session=\"ba9920fe762abd78e12424f2666dba8b\", element=\"e3daba6d-33fc-462d-bf5a-9bd739013690\")>"
      ]
     },
     "execution_count": 42,
     "metadata": {},
     "output_type": "execute_result"
    }
   ],
   "source": [
    "search_btn = driver.find_element_by_xpath(\"//button[@class='gd-btn-mkt']\")\n",
    "search_btn"
   ]
  },
  {
   "cell_type": "code",
   "execution_count": 43,
   "metadata": {},
   "outputs": [],
   "source": [
    "search_btn.click()"
   ]
  },
  {
   "cell_type": "code",
   "execution_count": null,
   "metadata": {},
   "outputs": [],
   "source": []
  },
  {
   "cell_type": "code",
   "execution_count": null,
   "metadata": {},
   "outputs": [],
   "source": []
  },
  {
   "cell_type": "markdown",
   "metadata": {},
   "source": [
    "## 6.Python program to scrape data of first 100 sunglasses listings on flipkart.com."
   ]
  },
  {
   "cell_type": "markdown",
   "metadata": {},
   "source": [
    "***"
   ]
  },
  {
   "cell_type": "code",
   "execution_count": 3,
   "metadata": {},
   "outputs": [],
   "source": [
    "url = 'https://www.flipkart.com/'\n",
    "driver.get(url)"
   ]
  },
  {
   "cell_type": "code",
   "execution_count": 4,
   "metadata": {},
   "outputs": [
    {
     "data": {
      "text/plain": [
       "[<selenium.webdriver.remote.webelement.WebElement (session=\"e4f66511e268adaf9c4fac44f5d5ca37\", element=\"46ffe47b-c09a-4b73-b848-0a2c53c71929\")>,\n",
       " <selenium.webdriver.remote.webelement.WebElement (session=\"e4f66511e268adaf9c4fac44f5d5ca37\", element=\"0ef9827b-3312-4408-afae-9478e056c51b\")>,\n",
       " <selenium.webdriver.remote.webelement.WebElement (session=\"e4f66511e268adaf9c4fac44f5d5ca37\", element=\"06dcd03f-e1bf-45e4-ab12-9b66d2459667\")>,\n",
       " <selenium.webdriver.remote.webelement.WebElement (session=\"e4f66511e268adaf9c4fac44f5d5ca37\", element=\"5e75348f-369d-4a49-a47c-29911ca4876c\")>,\n",
       " <selenium.webdriver.remote.webelement.WebElement (session=\"e4f66511e268adaf9c4fac44f5d5ca37\", element=\"16f5337e-58e5-4dd5-8568-4ead86482e8b\")>,\n",
       " <selenium.webdriver.remote.webelement.WebElement (session=\"e4f66511e268adaf9c4fac44f5d5ca37\", element=\"ba06f413-2d06-468f-a40e-ba90e8f2f2e9\")>,\n",
       " <selenium.webdriver.remote.webelement.WebElement (session=\"e4f66511e268adaf9c4fac44f5d5ca37\", element=\"bedc68f9-3657-4c40-89af-8a5f7e7f4ffa\")>,\n",
       " <selenium.webdriver.remote.webelement.WebElement (session=\"e4f66511e268adaf9c4fac44f5d5ca37\", element=\"93d0bff3-99e9-43ac-97cb-33a5a47012cb\")>,\n",
       " <selenium.webdriver.remote.webelement.WebElement (session=\"e4f66511e268adaf9c4fac44f5d5ca37\", element=\"dfe79481-14e3-4526-9179-8a5acc826dc7\")>,\n",
       " <selenium.webdriver.remote.webelement.WebElement (session=\"e4f66511e268adaf9c4fac44f5d5ca37\", element=\"0359e518-492a-4f6f-8f17-10fdd3bdad18\")>,\n",
       " <selenium.webdriver.remote.webelement.WebElement (session=\"e4f66511e268adaf9c4fac44f5d5ca37\", element=\"fe8f03e3-a60e-48b8-984d-ece90fcb4cf0\")>,\n",
       " <selenium.webdriver.remote.webelement.WebElement (session=\"e4f66511e268adaf9c4fac44f5d5ca37\", element=\"bd040c55-14f5-471e-9b4b-3177d771de72\")>,\n",
       " <selenium.webdriver.remote.webelement.WebElement (session=\"e4f66511e268adaf9c4fac44f5d5ca37\", element=\"0163377e-e984-43f1-8fbc-179436dd9795\")>,\n",
       " <selenium.webdriver.remote.webelement.WebElement (session=\"e4f66511e268adaf9c4fac44f5d5ca37\", element=\"c88629a3-5dda-4bc2-a60f-e6af13ea67e9\")>,\n",
       " <selenium.webdriver.remote.webelement.WebElement (session=\"e4f66511e268adaf9c4fac44f5d5ca37\", element=\"6432d023-7e5a-47b9-b56e-0d869579da88\")>,\n",
       " <selenium.webdriver.remote.webelement.WebElement (session=\"e4f66511e268adaf9c4fac44f5d5ca37\", element=\"cd0fbca9-0b49-42e3-8783-e5706ed6af0f\")>,\n",
       " <selenium.webdriver.remote.webelement.WebElement (session=\"e4f66511e268adaf9c4fac44f5d5ca37\", element=\"aca54add-1eb5-4e8f-a290-a92b8ba28adb\")>,\n",
       " <selenium.webdriver.remote.webelement.WebElement (session=\"e4f66511e268adaf9c4fac44f5d5ca37\", element=\"3d07f28d-50e6-433d-b710-59469eab5873\")>,\n",
       " <selenium.webdriver.remote.webelement.WebElement (session=\"e4f66511e268adaf9c4fac44f5d5ca37\", element=\"fe6357d2-e3a1-413b-808d-81c907097a63\")>,\n",
       " <selenium.webdriver.remote.webelement.WebElement (session=\"e4f66511e268adaf9c4fac44f5d5ca37\", element=\"d2fc6d07-a379-4975-b01a-4540456da98a\")>,\n",
       " <selenium.webdriver.remote.webelement.WebElement (session=\"e4f66511e268adaf9c4fac44f5d5ca37\", element=\"312b6419-f602-4649-ada9-a0552ef5bbf1\")>,\n",
       " <selenium.webdriver.remote.webelement.WebElement (session=\"e4f66511e268adaf9c4fac44f5d5ca37\", element=\"ad232b39-78b2-405f-b932-bb80d41786e0\")>,\n",
       " <selenium.webdriver.remote.webelement.WebElement (session=\"e4f66511e268adaf9c4fac44f5d5ca37\", element=\"e7966bd1-069c-421d-ad1d-e44ea8cb9bd4\")>,\n",
       " <selenium.webdriver.remote.webelement.WebElement (session=\"e4f66511e268adaf9c4fac44f5d5ca37\", element=\"235e24ec-346d-41c7-b667-06347035a422\")>,\n",
       " <selenium.webdriver.remote.webelement.WebElement (session=\"e4f66511e268adaf9c4fac44f5d5ca37\", element=\"94a02272-98aa-4cbd-b4b0-428e27882bc8\")>,\n",
       " <selenium.webdriver.remote.webelement.WebElement (session=\"e4f66511e268adaf9c4fac44f5d5ca37\", element=\"3033b851-e004-4f63-ae04-a100bc6a2ec2\")>,\n",
       " <selenium.webdriver.remote.webelement.WebElement (session=\"e4f66511e268adaf9c4fac44f5d5ca37\", element=\"605a9bb8-f1ab-43a3-a17b-35994729d296\")>,\n",
       " <selenium.webdriver.remote.webelement.WebElement (session=\"e4f66511e268adaf9c4fac44f5d5ca37\", element=\"fef12533-ccca-4d82-8fa6-719359f5b2da\")>,\n",
       " <selenium.webdriver.remote.webelement.WebElement (session=\"e4f66511e268adaf9c4fac44f5d5ca37\", element=\"435d3419-d663-4e52-9b29-f60c930703f7\")>,\n",
       " <selenium.webdriver.remote.webelement.WebElement (session=\"e4f66511e268adaf9c4fac44f5d5ca37\", element=\"d829c2c6-b91e-4b34-9745-6452fd552116\")>,\n",
       " <selenium.webdriver.remote.webelement.WebElement (session=\"e4f66511e268adaf9c4fac44f5d5ca37\", element=\"73ab1cb0-f4bc-4a11-819f-435443f8c77a\")>,\n",
       " <selenium.webdriver.remote.webelement.WebElement (session=\"e4f66511e268adaf9c4fac44f5d5ca37\", element=\"fa91ed87-452f-41bd-b70a-a261e18f92f2\")>,\n",
       " <selenium.webdriver.remote.webelement.WebElement (session=\"e4f66511e268adaf9c4fac44f5d5ca37\", element=\"aef8bc6d-5743-4734-8a1a-6ae0d88aae9c\")>,\n",
       " <selenium.webdriver.remote.webelement.WebElement (session=\"e4f66511e268adaf9c4fac44f5d5ca37\", element=\"5baeaca1-3733-46c2-a17c-11b052cac5b9\")>,\n",
       " <selenium.webdriver.remote.webelement.WebElement (session=\"e4f66511e268adaf9c4fac44f5d5ca37\", element=\"5d75a27c-7737-4100-9f74-c151bf6dc609\")>,\n",
       " <selenium.webdriver.remote.webelement.WebElement (session=\"e4f66511e268adaf9c4fac44f5d5ca37\", element=\"7697a13a-1d3f-47ac-8397-1a735e46d18c\")>,\n",
       " <selenium.webdriver.remote.webelement.WebElement (session=\"e4f66511e268adaf9c4fac44f5d5ca37\", element=\"bc2a020c-81cf-421a-9b81-1a2256678664\")>,\n",
       " <selenium.webdriver.remote.webelement.WebElement (session=\"e4f66511e268adaf9c4fac44f5d5ca37\", element=\"e9cb34b9-8e44-40d1-a52c-eb95273ecbcc\")>,\n",
       " <selenium.webdriver.remote.webelement.WebElement (session=\"e4f66511e268adaf9c4fac44f5d5ca37\", element=\"ed9778bc-e854-4545-8906-1137e0c5bca4\")>,\n",
       " <selenium.webdriver.remote.webelement.WebElement (session=\"e4f66511e268adaf9c4fac44f5d5ca37\", element=\"6443b015-a962-4b66-8187-23bba6f116c5\")>]"
      ]
     },
     "execution_count": 4,
     "metadata": {},
     "output_type": "execute_result"
    }
   ],
   "source": [
    "brand_tags=driver.find_elements_by_xpath(\"//div[@class='_2WkVRV']\")\n",
    "brand_tags"
   ]
  },
  {
   "cell_type": "code",
   "execution_count": 5,
   "metadata": {},
   "outputs": [
    {
     "data": {
      "text/plain": [
       "['HAMIW COLLECTION',\n",
       " 'Wrogn',\n",
       " 'Elligator',\n",
       " 'Fastrack',\n",
       " 'Fastrack',\n",
       " 'Fastrack',\n",
       " 'kingsunglasses',\n",
       " 'LIZA ANGEL',\n",
       " 'PIRASO',\n",
       " 'Fastrack',\n",
       " 'PHENOMENAL',\n",
       " 'ROYAL SON',\n",
       " 'PIRASO',\n",
       " 'kingsunglasses',\n",
       " 'Fastrack',\n",
       " 'ROYAL SON',\n",
       " 'Fastrack',\n",
       " 'kingsunglasses',\n",
       " 'Fastrack',\n",
       " 'VINCENT CHASE',\n",
       " 'kingsunglasses',\n",
       " 'Fastrack',\n",
       " 'Silver Kartz',\n",
       " 'ROYAL SON',\n",
       " 'ROZZETTA CRAFT',\n",
       " 'hipe',\n",
       " 'Singco India',\n",
       " 'ROYAL SON',\n",
       " 'Elligator',\n",
       " 'Fastrack',\n",
       " 'Elligator',\n",
       " 'ROYAL SON',\n",
       " 'PIRASO',\n",
       " 'Fastrack',\n",
       " 'kingsunglasses',\n",
       " 'ROYAL SON',\n",
       " 'Fastrack',\n",
       " 'ROYAL SON',\n",
       " 'GANSTA',\n",
       " 'Wrogn']"
      ]
     },
     "execution_count": 5,
     "metadata": {},
     "output_type": "execute_result"
    }
   ],
   "source": [
    "brand_name=[]\n",
    "for i in brand_tags:\n",
    "    brand_name.append(i.text)\n",
    "brand_name    "
   ]
  },
  {
   "cell_type": "code",
   "execution_count": 6,
   "metadata": {
    "scrolled": true
   },
   "outputs": [
    {
     "name": "stdout",
     "output_type": "stream",
     "text": [
      "40\n"
     ]
    }
   ],
   "source": [
    "print(len(brand_name))"
   ]
  },
  {
   "cell_type": "code",
   "execution_count": 7,
   "metadata": {},
   "outputs": [
    {
     "data": {
      "text/plain": [
       "[<selenium.webdriver.remote.webelement.WebElement (session=\"e4f66511e268adaf9c4fac44f5d5ca37\", element=\"f111c58b-74e7-4c99-8f4f-75a91cbaa7d0\")>,\n",
       " <selenium.webdriver.remote.webelement.WebElement (session=\"e4f66511e268adaf9c4fac44f5d5ca37\", element=\"2da275c6-6db5-4968-bcfb-a97a6c8e382f\")>,\n",
       " <selenium.webdriver.remote.webelement.WebElement (session=\"e4f66511e268adaf9c4fac44f5d5ca37\", element=\"78054c7a-4a07-41db-962e-dc7632f87b9e\")>,\n",
       " <selenium.webdriver.remote.webelement.WebElement (session=\"e4f66511e268adaf9c4fac44f5d5ca37\", element=\"78b5cc0b-5c23-47f4-94cd-6d03956f1870\")>,\n",
       " <selenium.webdriver.remote.webelement.WebElement (session=\"e4f66511e268adaf9c4fac44f5d5ca37\", element=\"97158a16-c892-4c3a-b930-a28dde06b50a\")>,\n",
       " <selenium.webdriver.remote.webelement.WebElement (session=\"e4f66511e268adaf9c4fac44f5d5ca37\", element=\"f2969965-8922-4006-b198-97a6411df5cc\")>,\n",
       " <selenium.webdriver.remote.webelement.WebElement (session=\"e4f66511e268adaf9c4fac44f5d5ca37\", element=\"67b36a5a-e965-43d6-9c73-4d702370c99e\")>,\n",
       " <selenium.webdriver.remote.webelement.WebElement (session=\"e4f66511e268adaf9c4fac44f5d5ca37\", element=\"a5041345-235b-4aa7-8c2b-0268647bb061\")>,\n",
       " <selenium.webdriver.remote.webelement.WebElement (session=\"e4f66511e268adaf9c4fac44f5d5ca37\", element=\"3f72a9e8-1d12-4c6d-8169-da42dfda1ad1\")>,\n",
       " <selenium.webdriver.remote.webelement.WebElement (session=\"e4f66511e268adaf9c4fac44f5d5ca37\", element=\"17353f9c-e2c6-43be-af1b-f3ae0a4b121a\")>,\n",
       " <selenium.webdriver.remote.webelement.WebElement (session=\"e4f66511e268adaf9c4fac44f5d5ca37\", element=\"792f94fc-bc33-4fff-baf0-0fc68bfc6de3\")>,\n",
       " <selenium.webdriver.remote.webelement.WebElement (session=\"e4f66511e268adaf9c4fac44f5d5ca37\", element=\"14b297ff-8029-4a63-a066-d39597d56348\")>,\n",
       " <selenium.webdriver.remote.webelement.WebElement (session=\"e4f66511e268adaf9c4fac44f5d5ca37\", element=\"814fe8ea-5e6d-4edb-b3f9-cd888cba9fd7\")>,\n",
       " <selenium.webdriver.remote.webelement.WebElement (session=\"e4f66511e268adaf9c4fac44f5d5ca37\", element=\"f4015d9a-60ea-4698-8c56-3cdd7d5fe14b\")>,\n",
       " <selenium.webdriver.remote.webelement.WebElement (session=\"e4f66511e268adaf9c4fac44f5d5ca37\", element=\"d37361c5-99f5-4a47-b614-cdae274d7262\")>,\n",
       " <selenium.webdriver.remote.webelement.WebElement (session=\"e4f66511e268adaf9c4fac44f5d5ca37\", element=\"cc8c6a8e-0de2-425c-96b0-47f9e73adb9a\")>,\n",
       " <selenium.webdriver.remote.webelement.WebElement (session=\"e4f66511e268adaf9c4fac44f5d5ca37\", element=\"3245ddb4-2915-4bbe-8b26-db83c8423e1d\")>,\n",
       " <selenium.webdriver.remote.webelement.WebElement (session=\"e4f66511e268adaf9c4fac44f5d5ca37\", element=\"675b8a4a-b396-4cdf-b6ed-f15f9cd03f71\")>,\n",
       " <selenium.webdriver.remote.webelement.WebElement (session=\"e4f66511e268adaf9c4fac44f5d5ca37\", element=\"94df0333-df49-4841-b788-3bb8d728e68d\")>,\n",
       " <selenium.webdriver.remote.webelement.WebElement (session=\"e4f66511e268adaf9c4fac44f5d5ca37\", element=\"97188bf9-6976-455e-b295-fa4988558f75\")>,\n",
       " <selenium.webdriver.remote.webelement.WebElement (session=\"e4f66511e268adaf9c4fac44f5d5ca37\", element=\"8690e781-a75b-454e-9e03-cdee49e24a44\")>,\n",
       " <selenium.webdriver.remote.webelement.WebElement (session=\"e4f66511e268adaf9c4fac44f5d5ca37\", element=\"9de9c3cd-dc7c-4614-b6f3-f8266107b44a\")>,\n",
       " <selenium.webdriver.remote.webelement.WebElement (session=\"e4f66511e268adaf9c4fac44f5d5ca37\", element=\"dd1ea2e7-10c5-4f03-978d-d287b0d499e9\")>,\n",
       " <selenium.webdriver.remote.webelement.WebElement (session=\"e4f66511e268adaf9c4fac44f5d5ca37\", element=\"65616c7b-3778-4a87-93ff-4dca73e2f339\")>,\n",
       " <selenium.webdriver.remote.webelement.WebElement (session=\"e4f66511e268adaf9c4fac44f5d5ca37\", element=\"4057c9f5-da68-47bf-8174-c1b2438d1d1e\")>,\n",
       " <selenium.webdriver.remote.webelement.WebElement (session=\"e4f66511e268adaf9c4fac44f5d5ca37\", element=\"cfe88389-8445-48a1-8443-568826a9a1eb\")>,\n",
       " <selenium.webdriver.remote.webelement.WebElement (session=\"e4f66511e268adaf9c4fac44f5d5ca37\", element=\"a86aa05b-b046-4f7a-b5c5-d65562bfab87\")>,\n",
       " <selenium.webdriver.remote.webelement.WebElement (session=\"e4f66511e268adaf9c4fac44f5d5ca37\", element=\"f93b7e99-8fe2-473e-bf5e-dc1dca6feea6\")>,\n",
       " <selenium.webdriver.remote.webelement.WebElement (session=\"e4f66511e268adaf9c4fac44f5d5ca37\", element=\"02541202-82e3-4eba-9c10-4326e3efcabd\")>,\n",
       " <selenium.webdriver.remote.webelement.WebElement (session=\"e4f66511e268adaf9c4fac44f5d5ca37\", element=\"403ce695-46c6-41a5-98fb-78a962794713\")>,\n",
       " <selenium.webdriver.remote.webelement.WebElement (session=\"e4f66511e268adaf9c4fac44f5d5ca37\", element=\"ab4ac89e-3e30-410f-9690-a97b1ccd92c9\")>,\n",
       " <selenium.webdriver.remote.webelement.WebElement (session=\"e4f66511e268adaf9c4fac44f5d5ca37\", element=\"b7a89b86-fb85-4863-a8a8-38d119402b93\")>,\n",
       " <selenium.webdriver.remote.webelement.WebElement (session=\"e4f66511e268adaf9c4fac44f5d5ca37\", element=\"2113a333-0a06-4496-baed-243a65cc63e8\")>,\n",
       " <selenium.webdriver.remote.webelement.WebElement (session=\"e4f66511e268adaf9c4fac44f5d5ca37\", element=\"2f794225-5d8d-4b90-ad84-e361a7c8a922\")>,\n",
       " <selenium.webdriver.remote.webelement.WebElement (session=\"e4f66511e268adaf9c4fac44f5d5ca37\", element=\"58f3e299-7e59-4bcd-b944-9a7a24d599ee\")>,\n",
       " <selenium.webdriver.remote.webelement.WebElement (session=\"e4f66511e268adaf9c4fac44f5d5ca37\", element=\"086286b1-209a-449c-9855-a0e0842ebb98\")>,\n",
       " <selenium.webdriver.remote.webelement.WebElement (session=\"e4f66511e268adaf9c4fac44f5d5ca37\", element=\"4f45c06a-5b5a-44ba-8c69-8879ee7aeefe\")>,\n",
       " <selenium.webdriver.remote.webelement.WebElement (session=\"e4f66511e268adaf9c4fac44f5d5ca37\", element=\"0c7e94d3-3418-4ff6-9593-9355590812d1\")>,\n",
       " <selenium.webdriver.remote.webelement.WebElement (session=\"e4f66511e268adaf9c4fac44f5d5ca37\", element=\"222f1a64-6de8-4049-be48-7dc0aa634972\")>,\n",
       " <selenium.webdriver.remote.webelement.WebElement (session=\"e4f66511e268adaf9c4fac44f5d5ca37\", element=\"8462447b-3ab3-4aaa-9d2f-1e6b422ae415\")>]"
      ]
     },
     "execution_count": 7,
     "metadata": {},
     "output_type": "execute_result"
    }
   ],
   "source": [
    "brand_tags1=driver.find_elements_by_xpath(\"//div[@class='_2WkVRV']\")\n",
    "brand_tags1"
   ]
  },
  {
   "cell_type": "code",
   "execution_count": 8,
   "metadata": {},
   "outputs": [
    {
     "data": {
      "text/plain": [
       "['PIRASO',\n",
       " 'Fastrack',\n",
       " 'ROZZETTA CRAFT',\n",
       " 'HAMIW COLLECTION',\n",
       " 'HIPPON',\n",
       " 'Elligator',\n",
       " 'Fastrack',\n",
       " 'Wrogn',\n",
       " 'Singco India',\n",
       " 'PHENOMENAL',\n",
       " 'Fravy',\n",
       " 'LIZA ANGEL',\n",
       " 'kingsunglasses',\n",
       " 'ROZZETTA CRAFT',\n",
       " 'SRPM',\n",
       " 'ROYAL SON',\n",
       " 'Fastrack',\n",
       " 'Fravy',\n",
       " 'kingsunglasses',\n",
       " 'ROYAL SON',\n",
       " 'NuVew',\n",
       " 'NuVew',\n",
       " 'kingsunglasses',\n",
       " 'VINCENT CHASE',\n",
       " 'Fastrack',\n",
       " 'Fastrack',\n",
       " 'DEIXELS',\n",
       " 'ROYAL SON',\n",
       " 'Elligator',\n",
       " 'Singco',\n",
       " 'ROZZETTA CRAFT',\n",
       " 'ROYAL SON',\n",
       " 'Singco India',\n",
       " 'DEIXELS',\n",
       " 'PIRASO',\n",
       " 'ROYAL SON',\n",
       " 'ROYAL SON',\n",
       " 'Fastrack',\n",
       " 'Fastrack',\n",
       " 'ROYAL SON']"
      ]
     },
     "execution_count": 8,
     "metadata": {},
     "output_type": "execute_result"
    }
   ],
   "source": [
    "brand_name1=[]\n",
    "for i in brand_tags1:\n",
    "    brand_name1.append(i.text)\n",
    "brand_name1  "
   ]
  },
  {
   "cell_type": "code",
   "execution_count": 9,
   "metadata": {},
   "outputs": [
    {
     "name": "stdout",
     "output_type": "stream",
     "text": [
      "40\n"
     ]
    }
   ],
   "source": [
    "print(len(brand_name1 ))"
   ]
  },
  {
   "cell_type": "code",
   "execution_count": 10,
   "metadata": {},
   "outputs": [
    {
     "data": {
      "text/plain": [
       "[<selenium.webdriver.remote.webelement.WebElement (session=\"e4f66511e268adaf9c4fac44f5d5ca37\", element=\"f0bf0070-13ad-4061-b9a4-c1f65c6200d3\")>,\n",
       " <selenium.webdriver.remote.webelement.WebElement (session=\"e4f66511e268adaf9c4fac44f5d5ca37\", element=\"d9857f06-b628-4041-94eb-5c2e8e166b5f\")>,\n",
       " <selenium.webdriver.remote.webelement.WebElement (session=\"e4f66511e268adaf9c4fac44f5d5ca37\", element=\"5d9cb31d-502a-496e-9ea3-f8dfad0ade9d\")>,\n",
       " <selenium.webdriver.remote.webelement.WebElement (session=\"e4f66511e268adaf9c4fac44f5d5ca37\", element=\"83f7a6ba-e42c-4c2c-9b66-0a5a5f2574fd\")>,\n",
       " <selenium.webdriver.remote.webelement.WebElement (session=\"e4f66511e268adaf9c4fac44f5d5ca37\", element=\"58f3beb9-6992-4dd2-89f4-936064794956\")>,\n",
       " <selenium.webdriver.remote.webelement.WebElement (session=\"e4f66511e268adaf9c4fac44f5d5ca37\", element=\"4e5ee5b8-8a33-4ad1-bc4c-fd1044ec297a\")>,\n",
       " <selenium.webdriver.remote.webelement.WebElement (session=\"e4f66511e268adaf9c4fac44f5d5ca37\", element=\"fd70a98f-a9be-4eb9-a1bc-8c1d66e4d9ce\")>,\n",
       " <selenium.webdriver.remote.webelement.WebElement (session=\"e4f66511e268adaf9c4fac44f5d5ca37\", element=\"6167f905-15e0-4765-b694-aaf950c23d02\")>,\n",
       " <selenium.webdriver.remote.webelement.WebElement (session=\"e4f66511e268adaf9c4fac44f5d5ca37\", element=\"8841c382-a889-4c7a-ac4f-4ca1bf463948\")>,\n",
       " <selenium.webdriver.remote.webelement.WebElement (session=\"e4f66511e268adaf9c4fac44f5d5ca37\", element=\"ed402a66-0545-42e9-9092-7cb67d83f593\")>,\n",
       " <selenium.webdriver.remote.webelement.WebElement (session=\"e4f66511e268adaf9c4fac44f5d5ca37\", element=\"2cfcdf75-5384-4cc9-8991-632ef1ca635b\")>,\n",
       " <selenium.webdriver.remote.webelement.WebElement (session=\"e4f66511e268adaf9c4fac44f5d5ca37\", element=\"392f8090-a52b-422a-8a5f-50d7a2fa8e1a\")>,\n",
       " <selenium.webdriver.remote.webelement.WebElement (session=\"e4f66511e268adaf9c4fac44f5d5ca37\", element=\"ef18de53-7036-401e-a158-e26b1b3adadf\")>,\n",
       " <selenium.webdriver.remote.webelement.WebElement (session=\"e4f66511e268adaf9c4fac44f5d5ca37\", element=\"bfecb150-bcfd-4226-8cf2-e85fb9e66e00\")>,\n",
       " <selenium.webdriver.remote.webelement.WebElement (session=\"e4f66511e268adaf9c4fac44f5d5ca37\", element=\"d3d05d4f-579b-49c4-b8e9-1433c32b1207\")>,\n",
       " <selenium.webdriver.remote.webelement.WebElement (session=\"e4f66511e268adaf9c4fac44f5d5ca37\", element=\"41f3ac11-7152-4f0a-847e-17d30b4251e3\")>,\n",
       " <selenium.webdriver.remote.webelement.WebElement (session=\"e4f66511e268adaf9c4fac44f5d5ca37\", element=\"9ef6e921-7fe9-4331-9b47-f627846bbb6d\")>,\n",
       " <selenium.webdriver.remote.webelement.WebElement (session=\"e4f66511e268adaf9c4fac44f5d5ca37\", element=\"3592db0f-cb3e-4add-a6ff-a8edf1dd61f5\")>,\n",
       " <selenium.webdriver.remote.webelement.WebElement (session=\"e4f66511e268adaf9c4fac44f5d5ca37\", element=\"ecb30fbf-dafa-4bd7-a879-fbfd696fb1f5\")>,\n",
       " <selenium.webdriver.remote.webelement.WebElement (session=\"e4f66511e268adaf9c4fac44f5d5ca37\", element=\"483485c9-e546-4060-aeec-bbc9a1e28b80\")>,\n",
       " <selenium.webdriver.remote.webelement.WebElement (session=\"e4f66511e268adaf9c4fac44f5d5ca37\", element=\"0deefb1b-ce3c-4f3b-af19-350b205ac183\")>,\n",
       " <selenium.webdriver.remote.webelement.WebElement (session=\"e4f66511e268adaf9c4fac44f5d5ca37\", element=\"b49c831a-d088-49f1-977a-e38595304515\")>,\n",
       " <selenium.webdriver.remote.webelement.WebElement (session=\"e4f66511e268adaf9c4fac44f5d5ca37\", element=\"38433d3f-e2fd-498b-9305-c18bf235be0d\")>,\n",
       " <selenium.webdriver.remote.webelement.WebElement (session=\"e4f66511e268adaf9c4fac44f5d5ca37\", element=\"45f42a53-9ed5-479d-a21c-3b30abd3386c\")>,\n",
       " <selenium.webdriver.remote.webelement.WebElement (session=\"e4f66511e268adaf9c4fac44f5d5ca37\", element=\"50bac189-6b3e-452b-8640-3695309ab74d\")>,\n",
       " <selenium.webdriver.remote.webelement.WebElement (session=\"e4f66511e268adaf9c4fac44f5d5ca37\", element=\"45abac38-3395-49f7-9d06-d35b2541b86f\")>,\n",
       " <selenium.webdriver.remote.webelement.WebElement (session=\"e4f66511e268adaf9c4fac44f5d5ca37\", element=\"24b3d91f-abd1-46e0-b72f-47b4bd81c938\")>,\n",
       " <selenium.webdriver.remote.webelement.WebElement (session=\"e4f66511e268adaf9c4fac44f5d5ca37\", element=\"73d3e742-720f-413f-9192-f39715e414f4\")>,\n",
       " <selenium.webdriver.remote.webelement.WebElement (session=\"e4f66511e268adaf9c4fac44f5d5ca37\", element=\"eb33c433-894d-4011-a373-34355d9323a2\")>,\n",
       " <selenium.webdriver.remote.webelement.WebElement (session=\"e4f66511e268adaf9c4fac44f5d5ca37\", element=\"c0161819-e881-4d91-918f-59e0d8372970\")>,\n",
       " <selenium.webdriver.remote.webelement.WebElement (session=\"e4f66511e268adaf9c4fac44f5d5ca37\", element=\"fde78f6e-1520-42c7-91d5-783d15545848\")>,\n",
       " <selenium.webdriver.remote.webelement.WebElement (session=\"e4f66511e268adaf9c4fac44f5d5ca37\", element=\"86aefa8e-69f1-497d-b677-0fc35d6aabea\")>,\n",
       " <selenium.webdriver.remote.webelement.WebElement (session=\"e4f66511e268adaf9c4fac44f5d5ca37\", element=\"9be209b0-0801-4a85-8445-6bb95ab16c3f\")>,\n",
       " <selenium.webdriver.remote.webelement.WebElement (session=\"e4f66511e268adaf9c4fac44f5d5ca37\", element=\"566f5962-9bf2-4cde-b7b6-2577fa140fc0\")>,\n",
       " <selenium.webdriver.remote.webelement.WebElement (session=\"e4f66511e268adaf9c4fac44f5d5ca37\", element=\"ce07bfb0-f5ae-4025-a57c-ba3c5e67f517\")>,\n",
       " <selenium.webdriver.remote.webelement.WebElement (session=\"e4f66511e268adaf9c4fac44f5d5ca37\", element=\"a18f32a3-acea-484f-b669-3869c8878140\")>,\n",
       " <selenium.webdriver.remote.webelement.WebElement (session=\"e4f66511e268adaf9c4fac44f5d5ca37\", element=\"92b00824-3400-4d5d-a87e-ba18a2eb1f91\")>,\n",
       " <selenium.webdriver.remote.webelement.WebElement (session=\"e4f66511e268adaf9c4fac44f5d5ca37\", element=\"3290915a-9f7b-4a4b-8ee0-1bd6db7ec2f7\")>,\n",
       " <selenium.webdriver.remote.webelement.WebElement (session=\"e4f66511e268adaf9c4fac44f5d5ca37\", element=\"26b8fbf7-bdaa-4592-a821-0cf6f09b1532\")>,\n",
       " <selenium.webdriver.remote.webelement.WebElement (session=\"e4f66511e268adaf9c4fac44f5d5ca37\", element=\"2a420393-911d-4148-aa7a-bdd37640aaa7\")>]"
      ]
     },
     "execution_count": 10,
     "metadata": {},
     "output_type": "execute_result"
    }
   ],
   "source": [
    "brand_tags2=driver.find_elements_by_xpath(\"//div[@class='_2WkVRV']\")\n",
    "brand_tags2"
   ]
  },
  {
   "cell_type": "code",
   "execution_count": 11,
   "metadata": {},
   "outputs": [
    {
     "data": {
      "text/plain": [
       "['PIRASO',\n",
       " 'AISLIN',\n",
       " 'GANSTA',\n",
       " 'ROYAL SON',\n",
       " 'Villain',\n",
       " 'GANSTA',\n",
       " 'Fastrack',\n",
       " 'VINCENT CHASE',\n",
       " 'SUNBEE',\n",
       " 'hipe',\n",
       " 'NuVew',\n",
       " 'PIRASO',\n",
       " 'PHENOMENAL',\n",
       " 'kingsunglasses',\n",
       " 'Fastrack',\n",
       " 'ROYAL SON',\n",
       " 'Fastrack',\n",
       " 'ROYAL SON',\n",
       " 'ROYAL SON',\n",
       " 'ROYAL SON',\n",
       " 'Fastrack',\n",
       " 'Elligator',\n",
       " 'GANSTA',\n",
       " 'ROYAL SON',\n",
       " 'Fastrack',\n",
       " 'elegante',\n",
       " 'Singco India',\n",
       " 'ROYAL SON',\n",
       " 'PIRASO',\n",
       " 'Fastrack',\n",
       " 'ROZZETTA CRAFT',\n",
       " 'ROZZETTA CRAFT',\n",
       " 'PHENOMENAL',\n",
       " 'PHENOMENAL',\n",
       " 'Badfella',\n",
       " 'PIRASO',\n",
       " 'hipe',\n",
       " 'Fastrack',\n",
       " 'kingsunglasses',\n",
       " 'ROYAL SON']"
      ]
     },
     "execution_count": 11,
     "metadata": {},
     "output_type": "execute_result"
    }
   ],
   "source": [
    "brand_name2=[]\n",
    "for i in brand_tags2:\n",
    "    brand_name2.append(i.text)\n",
    "brand_name2  "
   ]
  },
  {
   "cell_type": "code",
   "execution_count": 12,
   "metadata": {},
   "outputs": [
    {
     "data": {
      "text/plain": [
       "['PIRASO',\n",
       " 'AISLIN',\n",
       " 'GANSTA',\n",
       " 'ROYAL SON',\n",
       " 'Villain',\n",
       " 'GANSTA',\n",
       " 'Fastrack',\n",
       " 'VINCENT CHASE',\n",
       " 'SUNBEE',\n",
       " 'hipe',\n",
       " 'NuVew',\n",
       " 'PIRASO',\n",
       " 'PHENOMENAL',\n",
       " 'kingsunglasses',\n",
       " 'Fastrack',\n",
       " 'ROYAL SON',\n",
       " 'Fastrack',\n",
       " 'ROYAL SON',\n",
       " 'ROYAL SON',\n",
       " 'ROYAL SON']"
      ]
     },
     "execution_count": 12,
     "metadata": {},
     "output_type": "execute_result"
    }
   ],
   "source": [
    "brand_name2=brand_name2[:20]\n",
    "brand_name2"
   ]
  },
  {
   "cell_type": "code",
   "execution_count": 13,
   "metadata": {},
   "outputs": [
    {
     "name": "stdout",
     "output_type": "stream",
     "text": [
      "20\n"
     ]
    }
   ],
   "source": [
    "print(len(brand_name2))  "
   ]
  },
  {
   "cell_type": "code",
   "execution_count": 127,
   "metadata": {},
   "outputs": [
    {
     "data": {
      "text/plain": [
       "['HAMIW COLLECTION',\n",
       " 'Wrogn',\n",
       " 'Elligator',\n",
       " 'Fastrack',\n",
       " 'Fastrack',\n",
       " 'Fastrack',\n",
       " 'kingsunglasses',\n",
       " 'LIZA ANGEL',\n",
       " 'PIRASO',\n",
       " 'Fastrack',\n",
       " 'PHENOMENAL',\n",
       " 'ROYAL SON',\n",
       " 'PIRASO',\n",
       " 'kingsunglasses',\n",
       " 'Fastrack',\n",
       " 'ROYAL SON',\n",
       " 'Fastrack',\n",
       " 'kingsunglasses',\n",
       " 'Fastrack',\n",
       " 'VINCENT CHASE',\n",
       " 'kingsunglasses',\n",
       " 'Fastrack',\n",
       " 'Silver Kartz',\n",
       " 'ROYAL SON',\n",
       " 'ROZZETTA CRAFT',\n",
       " 'hipe',\n",
       " 'Singco India',\n",
       " 'ROYAL SON',\n",
       " 'Elligator',\n",
       " 'Fastrack',\n",
       " 'Elligator',\n",
       " 'ROYAL SON',\n",
       " 'PIRASO',\n",
       " 'Fastrack',\n",
       " 'kingsunglasses',\n",
       " 'ROYAL SON',\n",
       " 'Fastrack',\n",
       " 'ROYAL SON',\n",
       " 'GANSTA',\n",
       " 'Wrogn',\n",
       " 'PIRASO',\n",
       " 'Fastrack',\n",
       " 'ROZZETTA CRAFT',\n",
       " 'HAMIW COLLECTION',\n",
       " 'HIPPON',\n",
       " 'Elligator',\n",
       " 'Fastrack',\n",
       " 'Wrogn',\n",
       " 'Singco India',\n",
       " 'PHENOMENAL',\n",
       " 'Fravy',\n",
       " 'LIZA ANGEL',\n",
       " 'kingsunglasses',\n",
       " 'ROZZETTA CRAFT',\n",
       " 'SRPM',\n",
       " 'ROYAL SON',\n",
       " 'Fastrack',\n",
       " 'Fravy',\n",
       " 'kingsunglasses',\n",
       " 'ROYAL SON',\n",
       " 'NuVew',\n",
       " 'NuVew',\n",
       " 'kingsunglasses',\n",
       " 'VINCENT CHASE',\n",
       " 'Fastrack',\n",
       " 'Fastrack',\n",
       " 'DEIXELS',\n",
       " 'ROYAL SON',\n",
       " 'Elligator',\n",
       " 'Singco',\n",
       " 'ROZZETTA CRAFT',\n",
       " 'ROYAL SON',\n",
       " 'Singco India',\n",
       " 'DEIXELS',\n",
       " 'PIRASO',\n",
       " 'ROYAL SON',\n",
       " 'ROYAL SON',\n",
       " 'Fastrack',\n",
       " 'Fastrack',\n",
       " 'ROYAL SON',\n",
       " 'PIRASO',\n",
       " 'AISLIN',\n",
       " 'GANSTA',\n",
       " 'ROYAL SON',\n",
       " 'Villain',\n",
       " 'GANSTA',\n",
       " 'Fastrack',\n",
       " 'VINCENT CHASE',\n",
       " 'SUNBEE',\n",
       " 'hipe',\n",
       " 'NuVew',\n",
       " 'PIRASO',\n",
       " 'PHENOMENAL',\n",
       " 'kingsunglasses',\n",
       " 'Fastrack',\n",
       " 'ROYAL SON',\n",
       " 'Fastrack',\n",
       " 'ROYAL SON',\n",
       " 'ROYAL SON',\n",
       " 'ROYAL SON']"
      ]
     },
     "execution_count": 127,
     "metadata": {},
     "output_type": "execute_result"
    }
   ],
   "source": [
    "Brands = brand_name+brand_name1+brand_name2\n",
    "Brands"
   ]
  },
  {
   "cell_type": "code",
   "execution_count": null,
   "metadata": {},
   "outputs": [],
   "source": []
  },
  {
   "cell_type": "code",
   "execution_count": 24,
   "metadata": {},
   "outputs": [
    {
     "data": {
      "text/plain": [
       "[<selenium.webdriver.remote.webelement.WebElement (session=\"e4f66511e268adaf9c4fac44f5d5ca37\", element=\"f193f3cb-75ad-4fcb-913d-cd06d62e93eb\")>,\n",
       " <selenium.webdriver.remote.webelement.WebElement (session=\"e4f66511e268adaf9c4fac44f5d5ca37\", element=\"49070774-2d86-41e3-8a73-b75ef8676f9b\")>,\n",
       " <selenium.webdriver.remote.webelement.WebElement (session=\"e4f66511e268adaf9c4fac44f5d5ca37\", element=\"781ab603-8554-4a97-9b31-c89a8c30b2f7\")>,\n",
       " <selenium.webdriver.remote.webelement.WebElement (session=\"e4f66511e268adaf9c4fac44f5d5ca37\", element=\"71f9fe18-6b71-4e37-a399-d83c047824bc\")>,\n",
       " <selenium.webdriver.remote.webelement.WebElement (session=\"e4f66511e268adaf9c4fac44f5d5ca37\", element=\"466c856a-5b91-420a-9b47-f117ee9c1d96\")>,\n",
       " <selenium.webdriver.remote.webelement.WebElement (session=\"e4f66511e268adaf9c4fac44f5d5ca37\", element=\"53deb419-1d0b-4a2c-86d4-a6ad13d080e2\")>,\n",
       " <selenium.webdriver.remote.webelement.WebElement (session=\"e4f66511e268adaf9c4fac44f5d5ca37\", element=\"2b43d98e-3098-4c76-8a5c-de6b9a1275bf\")>,\n",
       " <selenium.webdriver.remote.webelement.WebElement (session=\"e4f66511e268adaf9c4fac44f5d5ca37\", element=\"92b93a03-5b6c-454d-9b81-43b6f15b5928\")>,\n",
       " <selenium.webdriver.remote.webelement.WebElement (session=\"e4f66511e268adaf9c4fac44f5d5ca37\", element=\"ab0c319d-63e9-480f-a225-5b981d103193\")>,\n",
       " <selenium.webdriver.remote.webelement.WebElement (session=\"e4f66511e268adaf9c4fac44f5d5ca37\", element=\"0d314480-1cbb-4e7a-85ac-fd707813831c\")>,\n",
       " <selenium.webdriver.remote.webelement.WebElement (session=\"e4f66511e268adaf9c4fac44f5d5ca37\", element=\"4329ff98-7e85-4fe3-85d3-91e51ac3af69\")>,\n",
       " <selenium.webdriver.remote.webelement.WebElement (session=\"e4f66511e268adaf9c4fac44f5d5ca37\", element=\"cfae6311-0926-46d9-9757-6ebed2e3ea25\")>,\n",
       " <selenium.webdriver.remote.webelement.WebElement (session=\"e4f66511e268adaf9c4fac44f5d5ca37\", element=\"cb16d9a6-3865-4dd2-a8d5-5db3eb31680f\")>,\n",
       " <selenium.webdriver.remote.webelement.WebElement (session=\"e4f66511e268adaf9c4fac44f5d5ca37\", element=\"b3a06018-513f-4fef-9749-966b7eceba36\")>,\n",
       " <selenium.webdriver.remote.webelement.WebElement (session=\"e4f66511e268adaf9c4fac44f5d5ca37\", element=\"86c3427f-c6dd-4f5c-b659-a6a0c8fc5bbe\")>,\n",
       " <selenium.webdriver.remote.webelement.WebElement (session=\"e4f66511e268adaf9c4fac44f5d5ca37\", element=\"7de2877e-1a24-4481-8b95-edb6e5042b33\")>,\n",
       " <selenium.webdriver.remote.webelement.WebElement (session=\"e4f66511e268adaf9c4fac44f5d5ca37\", element=\"bb9d5edb-b089-4141-82aa-f30bce13d3dd\")>,\n",
       " <selenium.webdriver.remote.webelement.WebElement (session=\"e4f66511e268adaf9c4fac44f5d5ca37\", element=\"3b5b534c-ff69-4d5d-8b52-7c64321d2694\")>,\n",
       " <selenium.webdriver.remote.webelement.WebElement (session=\"e4f66511e268adaf9c4fac44f5d5ca37\", element=\"8d9c29f1-f51e-4db3-a3b1-118acffe8d43\")>,\n",
       " <selenium.webdriver.remote.webelement.WebElement (session=\"e4f66511e268adaf9c4fac44f5d5ca37\", element=\"7952fa24-8599-44e9-b3cb-2af3647bd3d5\")>,\n",
       " <selenium.webdriver.remote.webelement.WebElement (session=\"e4f66511e268adaf9c4fac44f5d5ca37\", element=\"81da7110-a714-43c3-9a1c-b4a5b5acc903\")>,\n",
       " <selenium.webdriver.remote.webelement.WebElement (session=\"e4f66511e268adaf9c4fac44f5d5ca37\", element=\"b635bda1-88e2-408b-b697-71394f1ccbb3\")>,\n",
       " <selenium.webdriver.remote.webelement.WebElement (session=\"e4f66511e268adaf9c4fac44f5d5ca37\", element=\"d531764e-1996-4f48-9214-790bad31637f\")>,\n",
       " <selenium.webdriver.remote.webelement.WebElement (session=\"e4f66511e268adaf9c4fac44f5d5ca37\", element=\"01bf0763-8a91-458c-8757-81da580d4773\")>,\n",
       " <selenium.webdriver.remote.webelement.WebElement (session=\"e4f66511e268adaf9c4fac44f5d5ca37\", element=\"952b685f-8a29-4821-80e9-abe60f287396\")>,\n",
       " <selenium.webdriver.remote.webelement.WebElement (session=\"e4f66511e268adaf9c4fac44f5d5ca37\", element=\"eafffbca-54b3-4f6f-8481-c745840081e3\")>,\n",
       " <selenium.webdriver.remote.webelement.WebElement (session=\"e4f66511e268adaf9c4fac44f5d5ca37\", element=\"04b9a091-f7d1-46fe-a579-08272e07edb1\")>,\n",
       " <selenium.webdriver.remote.webelement.WebElement (session=\"e4f66511e268adaf9c4fac44f5d5ca37\", element=\"ea3afb2f-2626-4808-8dd4-e69b6dc3f733\")>,\n",
       " <selenium.webdriver.remote.webelement.WebElement (session=\"e4f66511e268adaf9c4fac44f5d5ca37\", element=\"d157fde2-c317-4a07-8d81-9f0c8dbdaa88\")>,\n",
       " <selenium.webdriver.remote.webelement.WebElement (session=\"e4f66511e268adaf9c4fac44f5d5ca37\", element=\"3f305a0a-d839-4399-904b-e2010ebb9f4b\")>,\n",
       " <selenium.webdriver.remote.webelement.WebElement (session=\"e4f66511e268adaf9c4fac44f5d5ca37\", element=\"7b56198b-7d7b-4977-a4f3-5ff1a87c01bc\")>,\n",
       " <selenium.webdriver.remote.webelement.WebElement (session=\"e4f66511e268adaf9c4fac44f5d5ca37\", element=\"0085150b-21d4-41e8-9371-0e6ced125e68\")>,\n",
       " <selenium.webdriver.remote.webelement.WebElement (session=\"e4f66511e268adaf9c4fac44f5d5ca37\", element=\"31e28357-f6b0-402c-a0f2-111b9315664f\")>,\n",
       " <selenium.webdriver.remote.webelement.WebElement (session=\"e4f66511e268adaf9c4fac44f5d5ca37\", element=\"89186124-dda5-4ef0-af0a-1734f419c16c\")>,\n",
       " <selenium.webdriver.remote.webelement.WebElement (session=\"e4f66511e268adaf9c4fac44f5d5ca37\", element=\"eac06a86-4afa-4357-82c9-b54b78a768a8\")>,\n",
       " <selenium.webdriver.remote.webelement.WebElement (session=\"e4f66511e268adaf9c4fac44f5d5ca37\", element=\"968d3b62-0f8f-4b01-a269-99558f212274\")>,\n",
       " <selenium.webdriver.remote.webelement.WebElement (session=\"e4f66511e268adaf9c4fac44f5d5ca37\", element=\"353b0909-895a-4971-b7f3-e32600ddff5b\")>,\n",
       " <selenium.webdriver.remote.webelement.WebElement (session=\"e4f66511e268adaf9c4fac44f5d5ca37\", element=\"28b619fa-2f52-4577-ba1d-abfa28c257b7\")>,\n",
       " <selenium.webdriver.remote.webelement.WebElement (session=\"e4f66511e268adaf9c4fac44f5d5ca37\", element=\"6a9012f0-a0a1-434e-b0b1-b04d9e091d18\")>,\n",
       " <selenium.webdriver.remote.webelement.WebElement (session=\"e4f66511e268adaf9c4fac44f5d5ca37\", element=\"dd5cc9a4-07ec-44b0-bfa8-0d59d5ff4191\")>]"
      ]
     },
     "execution_count": 24,
     "metadata": {},
     "output_type": "execute_result"
    }
   ],
   "source": [
    "price_tags=driver.find_elements_by_xpath(\"//div[@class='_30jeq3']\")\n",
    "price_tags"
   ]
  },
  {
   "cell_type": "code",
   "execution_count": 25,
   "metadata": {},
   "outputs": [
    {
     "data": {
      "text/plain": [
       "['₹199',\n",
       " '₹739',\n",
       " '₹295',\n",
       " '₹599',\n",
       " '₹499',\n",
       " '₹699',\n",
       " '₹299',\n",
       " '₹799',\n",
       " '₹225',\n",
       " '₹225',\n",
       " '₹379',\n",
       " '₹664',\n",
       " '₹599',\n",
       " '₹599',\n",
       " '₹210',\n",
       " '₹664',\n",
       " '₹299',\n",
       " '₹969',\n",
       " '₹949',\n",
       " '₹699',\n",
       " '₹225',\n",
       " '₹629',\n",
       " '₹246',\n",
       " '₹1,009',\n",
       " '₹331',\n",
       " '₹499',\n",
       " '₹204',\n",
       " '₹599',\n",
       " '₹331',\n",
       " '₹210',\n",
       " '₹214',\n",
       " '₹664',\n",
       " '₹334',\n",
       " '₹312',\n",
       " '₹609',\n",
       " '₹426',\n",
       " '₹1,479',\n",
       " '₹239',\n",
       " '₹284',\n",
       " '₹305']"
      ]
     },
     "execution_count": 25,
     "metadata": {},
     "output_type": "execute_result"
    }
   ],
   "source": [
    "price_amount=[]\n",
    "for i in price_tags:\n",
    "    price_amount.append(i.text)\n",
    "price_amount       "
   ]
  },
  {
   "cell_type": "code",
   "execution_count": 26,
   "metadata": {},
   "outputs": [
    {
     "name": "stdout",
     "output_type": "stream",
     "text": [
      "40\n"
     ]
    }
   ],
   "source": [
    "print(len(price_amount))"
   ]
  },
  {
   "cell_type": "code",
   "execution_count": 28,
   "metadata": {},
   "outputs": [
    {
     "data": {
      "text/plain": [
       "[<selenium.webdriver.remote.webelement.WebElement (session=\"e4f66511e268adaf9c4fac44f5d5ca37\", element=\"ae490a09-f8b4-405f-b08e-e3941ac389eb\")>,\n",
       " <selenium.webdriver.remote.webelement.WebElement (session=\"e4f66511e268adaf9c4fac44f5d5ca37\", element=\"4650a150-73af-4e94-b758-d42bc739ca27\")>,\n",
       " <selenium.webdriver.remote.webelement.WebElement (session=\"e4f66511e268adaf9c4fac44f5d5ca37\", element=\"aae61d10-c532-4d22-8ae4-872ef483a8f1\")>,\n",
       " <selenium.webdriver.remote.webelement.WebElement (session=\"e4f66511e268adaf9c4fac44f5d5ca37\", element=\"59159b9a-be8e-405e-a8be-4d758496cf2e\")>,\n",
       " <selenium.webdriver.remote.webelement.WebElement (session=\"e4f66511e268adaf9c4fac44f5d5ca37\", element=\"20fcecfc-300e-48cc-bcc1-bd3531866700\")>,\n",
       " <selenium.webdriver.remote.webelement.WebElement (session=\"e4f66511e268adaf9c4fac44f5d5ca37\", element=\"c73718d3-83c5-406d-ad88-fa530d4608e9\")>,\n",
       " <selenium.webdriver.remote.webelement.WebElement (session=\"e4f66511e268adaf9c4fac44f5d5ca37\", element=\"c46250b9-b74c-439b-8729-f6bdbcccce59\")>,\n",
       " <selenium.webdriver.remote.webelement.WebElement (session=\"e4f66511e268adaf9c4fac44f5d5ca37\", element=\"cde63805-12c7-43bb-a033-101f896f38c1\")>,\n",
       " <selenium.webdriver.remote.webelement.WebElement (session=\"e4f66511e268adaf9c4fac44f5d5ca37\", element=\"bd569546-bcc7-4b1b-a8ef-53390afd7103\")>,\n",
       " <selenium.webdriver.remote.webelement.WebElement (session=\"e4f66511e268adaf9c4fac44f5d5ca37\", element=\"d87ba17a-1645-4f0b-832a-a795d7a7908a\")>,\n",
       " <selenium.webdriver.remote.webelement.WebElement (session=\"e4f66511e268adaf9c4fac44f5d5ca37\", element=\"fc489bb9-bf88-4eb2-a687-33eda4e9c925\")>,\n",
       " <selenium.webdriver.remote.webelement.WebElement (session=\"e4f66511e268adaf9c4fac44f5d5ca37\", element=\"0546b791-2b1c-4f10-a26e-2f2dd69e0db0\")>,\n",
       " <selenium.webdriver.remote.webelement.WebElement (session=\"e4f66511e268adaf9c4fac44f5d5ca37\", element=\"dd61a673-fe43-4678-8dc8-32ee4289a3c3\")>,\n",
       " <selenium.webdriver.remote.webelement.WebElement (session=\"e4f66511e268adaf9c4fac44f5d5ca37\", element=\"861a9418-ea81-41d4-9087-689d1d6264bd\")>,\n",
       " <selenium.webdriver.remote.webelement.WebElement (session=\"e4f66511e268adaf9c4fac44f5d5ca37\", element=\"90174482-f637-42c0-9efc-fc0a314d7afb\")>,\n",
       " <selenium.webdriver.remote.webelement.WebElement (session=\"e4f66511e268adaf9c4fac44f5d5ca37\", element=\"0206b45d-9546-47d9-90fa-972b091fdc8a\")>,\n",
       " <selenium.webdriver.remote.webelement.WebElement (session=\"e4f66511e268adaf9c4fac44f5d5ca37\", element=\"4a2982bf-c5c6-4334-9bbf-7cdcc49673e0\")>,\n",
       " <selenium.webdriver.remote.webelement.WebElement (session=\"e4f66511e268adaf9c4fac44f5d5ca37\", element=\"74d55936-4b2c-499e-a0b0-cd211e700886\")>,\n",
       " <selenium.webdriver.remote.webelement.WebElement (session=\"e4f66511e268adaf9c4fac44f5d5ca37\", element=\"99756d45-4e7f-4773-bef0-b21a25d0eb8a\")>,\n",
       " <selenium.webdriver.remote.webelement.WebElement (session=\"e4f66511e268adaf9c4fac44f5d5ca37\", element=\"027de436-9c8e-496f-9c37-2050b2ec737b\")>,\n",
       " <selenium.webdriver.remote.webelement.WebElement (session=\"e4f66511e268adaf9c4fac44f5d5ca37\", element=\"208b9555-7d33-41e8-9520-b27d37e562b8\")>,\n",
       " <selenium.webdriver.remote.webelement.WebElement (session=\"e4f66511e268adaf9c4fac44f5d5ca37\", element=\"450f0afe-87f6-417a-99be-f306abbec118\")>,\n",
       " <selenium.webdriver.remote.webelement.WebElement (session=\"e4f66511e268adaf9c4fac44f5d5ca37\", element=\"6638f150-bd47-4c98-9758-e952fae676b6\")>,\n",
       " <selenium.webdriver.remote.webelement.WebElement (session=\"e4f66511e268adaf9c4fac44f5d5ca37\", element=\"290cefa4-1c35-4983-af32-ab72a9195c96\")>,\n",
       " <selenium.webdriver.remote.webelement.WebElement (session=\"e4f66511e268adaf9c4fac44f5d5ca37\", element=\"fa65c30b-ed69-42f9-9898-e858ab96d983\")>,\n",
       " <selenium.webdriver.remote.webelement.WebElement (session=\"e4f66511e268adaf9c4fac44f5d5ca37\", element=\"69169701-ed2c-49b8-b09c-7dbecd4cdaa6\")>,\n",
       " <selenium.webdriver.remote.webelement.WebElement (session=\"e4f66511e268adaf9c4fac44f5d5ca37\", element=\"97b3fa94-c17d-4072-a815-f3f3fd4f415f\")>,\n",
       " <selenium.webdriver.remote.webelement.WebElement (session=\"e4f66511e268adaf9c4fac44f5d5ca37\", element=\"4cbac364-fc66-4258-9841-15fdd23a6110\")>,\n",
       " <selenium.webdriver.remote.webelement.WebElement (session=\"e4f66511e268adaf9c4fac44f5d5ca37\", element=\"2e20a7b6-ab96-41b1-bbf8-a56984c8be17\")>,\n",
       " <selenium.webdriver.remote.webelement.WebElement (session=\"e4f66511e268adaf9c4fac44f5d5ca37\", element=\"e85edc93-71dc-4cc6-8c43-66f52dd998aa\")>,\n",
       " <selenium.webdriver.remote.webelement.WebElement (session=\"e4f66511e268adaf9c4fac44f5d5ca37\", element=\"2da34759-7df6-4a7b-ad7b-48cb16a546c4\")>,\n",
       " <selenium.webdriver.remote.webelement.WebElement (session=\"e4f66511e268adaf9c4fac44f5d5ca37\", element=\"edc91104-76f4-4573-ad4c-40c0e4a1871b\")>,\n",
       " <selenium.webdriver.remote.webelement.WebElement (session=\"e4f66511e268adaf9c4fac44f5d5ca37\", element=\"85c97a77-a221-4da4-a1cc-d715777b886e\")>,\n",
       " <selenium.webdriver.remote.webelement.WebElement (session=\"e4f66511e268adaf9c4fac44f5d5ca37\", element=\"797cbc7e-b491-4c7f-81d7-e5f4044860ce\")>,\n",
       " <selenium.webdriver.remote.webelement.WebElement (session=\"e4f66511e268adaf9c4fac44f5d5ca37\", element=\"d5c5ce39-e6af-4ea8-ad2c-e7d97bf16fbb\")>,\n",
       " <selenium.webdriver.remote.webelement.WebElement (session=\"e4f66511e268adaf9c4fac44f5d5ca37\", element=\"c3358c2f-3a0c-428e-ba3c-48b87aa885e2\")>,\n",
       " <selenium.webdriver.remote.webelement.WebElement (session=\"e4f66511e268adaf9c4fac44f5d5ca37\", element=\"cb0e43dd-38eb-4b92-9148-ac0ba57b3959\")>,\n",
       " <selenium.webdriver.remote.webelement.WebElement (session=\"e4f66511e268adaf9c4fac44f5d5ca37\", element=\"52c364f3-2944-4926-becb-d20c3de2d18a\")>,\n",
       " <selenium.webdriver.remote.webelement.WebElement (session=\"e4f66511e268adaf9c4fac44f5d5ca37\", element=\"bbda6dc3-00c0-47c5-a3dc-5c9ece75a954\")>,\n",
       " <selenium.webdriver.remote.webelement.WebElement (session=\"e4f66511e268adaf9c4fac44f5d5ca37\", element=\"2b888725-374b-44a0-8a96-0adbf1fd8a40\")>]"
      ]
     },
     "execution_count": 28,
     "metadata": {},
     "output_type": "execute_result"
    }
   ],
   "source": [
    "price_tags1=driver.find_elements_by_xpath(\"//div[@class='_30jeq3']\")\n",
    "price_tags1"
   ]
  },
  {
   "cell_type": "code",
   "execution_count": 29,
   "metadata": {},
   "outputs": [
    {
     "data": {
      "text/plain": [
       "['₹284',\n",
       " '₹257',\n",
       " '₹539',\n",
       " '₹664',\n",
       " '₹404',\n",
       " '₹312',\n",
       " '₹169',\n",
       " '₹237',\n",
       " '₹379',\n",
       " '₹426',\n",
       " '₹334',\n",
       " '₹664',\n",
       " '₹379',\n",
       " '₹328',\n",
       " '₹246',\n",
       " '₹219',\n",
       " '₹269',\n",
       " '₹232',\n",
       " '₹398',\n",
       " '₹549',\n",
       " '₹609',\n",
       " '₹529',\n",
       " '₹224',\n",
       " '₹854',\n",
       " '₹474',\n",
       " '₹249',\n",
       " '₹229',\n",
       " '₹487',\n",
       " '₹559',\n",
       " '₹969',\n",
       " '₹474',\n",
       " '₹303',\n",
       " '₹295',\n",
       " '₹202',\n",
       " '₹314',\n",
       " '₹664',\n",
       " '₹331',\n",
       " '₹203',\n",
       " '₹309',\n",
       " '₹533']"
      ]
     },
     "execution_count": 29,
     "metadata": {},
     "output_type": "execute_result"
    }
   ],
   "source": [
    "price_amount1=[]\n",
    "for i in price_tags1:\n",
    "    price_amount1.append(i.text)\n",
    "price_amount1     "
   ]
  },
  {
   "cell_type": "code",
   "execution_count": 30,
   "metadata": {},
   "outputs": [
    {
     "name": "stdout",
     "output_type": "stream",
     "text": [
      "40\n"
     ]
    }
   ],
   "source": [
    "print(len(price_amount1))"
   ]
  },
  {
   "cell_type": "code",
   "execution_count": 31,
   "metadata": {},
   "outputs": [
    {
     "data": {
      "text/plain": [
       "[<selenium.webdriver.remote.webelement.WebElement (session=\"e4f66511e268adaf9c4fac44f5d5ca37\", element=\"8fbeab16-5c07-4c31-905c-39020360b8eb\")>,\n",
       " <selenium.webdriver.remote.webelement.WebElement (session=\"e4f66511e268adaf9c4fac44f5d5ca37\", element=\"c36e308b-303e-47e3-b475-a4e098b09b3d\")>,\n",
       " <selenium.webdriver.remote.webelement.WebElement (session=\"e4f66511e268adaf9c4fac44f5d5ca37\", element=\"8a204d74-fece-4a4c-8729-a620c43bfc3d\")>,\n",
       " <selenium.webdriver.remote.webelement.WebElement (session=\"e4f66511e268adaf9c4fac44f5d5ca37\", element=\"22097aa2-d1c9-4331-a8e2-9f64d7360509\")>,\n",
       " <selenium.webdriver.remote.webelement.WebElement (session=\"e4f66511e268adaf9c4fac44f5d5ca37\", element=\"cc9d7396-8aec-4e2c-a961-bef859d27d7f\")>,\n",
       " <selenium.webdriver.remote.webelement.WebElement (session=\"e4f66511e268adaf9c4fac44f5d5ca37\", element=\"2c7d1dbc-20a4-49f8-81f2-074a8a4b4f7a\")>,\n",
       " <selenium.webdriver.remote.webelement.WebElement (session=\"e4f66511e268adaf9c4fac44f5d5ca37\", element=\"3c3e89f3-d89d-470e-b37c-46b354727ef8\")>,\n",
       " <selenium.webdriver.remote.webelement.WebElement (session=\"e4f66511e268adaf9c4fac44f5d5ca37\", element=\"c6924554-4b70-47f5-b01d-b78941d6697c\")>,\n",
       " <selenium.webdriver.remote.webelement.WebElement (session=\"e4f66511e268adaf9c4fac44f5d5ca37\", element=\"5e959c04-76e8-4f65-b922-32037139e469\")>,\n",
       " <selenium.webdriver.remote.webelement.WebElement (session=\"e4f66511e268adaf9c4fac44f5d5ca37\", element=\"85b86328-4e94-4dca-b45a-aebdd5e341e2\")>,\n",
       " <selenium.webdriver.remote.webelement.WebElement (session=\"e4f66511e268adaf9c4fac44f5d5ca37\", element=\"58b2f5e6-7833-4ddb-8397-b080d8dabb4c\")>,\n",
       " <selenium.webdriver.remote.webelement.WebElement (session=\"e4f66511e268adaf9c4fac44f5d5ca37\", element=\"12ad00d4-fc10-4a7b-9cd0-c6a545d92ca0\")>,\n",
       " <selenium.webdriver.remote.webelement.WebElement (session=\"e4f66511e268adaf9c4fac44f5d5ca37\", element=\"13876e4e-2d73-4895-a7f1-5524817fa897\")>,\n",
       " <selenium.webdriver.remote.webelement.WebElement (session=\"e4f66511e268adaf9c4fac44f5d5ca37\", element=\"83691a47-9089-4639-98e6-6b3135f28a6f\")>,\n",
       " <selenium.webdriver.remote.webelement.WebElement (session=\"e4f66511e268adaf9c4fac44f5d5ca37\", element=\"380abfbb-5926-4fbc-88a2-3022ed399d09\")>,\n",
       " <selenium.webdriver.remote.webelement.WebElement (session=\"e4f66511e268adaf9c4fac44f5d5ca37\", element=\"d30535b6-c634-4989-863b-43981cd88256\")>,\n",
       " <selenium.webdriver.remote.webelement.WebElement (session=\"e4f66511e268adaf9c4fac44f5d5ca37\", element=\"7601c037-7236-4f0f-80c9-833b4a140e3a\")>,\n",
       " <selenium.webdriver.remote.webelement.WebElement (session=\"e4f66511e268adaf9c4fac44f5d5ca37\", element=\"f6c9b87e-aabf-4aed-8376-772ed5bfc7e0\")>,\n",
       " <selenium.webdriver.remote.webelement.WebElement (session=\"e4f66511e268adaf9c4fac44f5d5ca37\", element=\"5060d21a-a11b-4391-9554-3634c2a50394\")>,\n",
       " <selenium.webdriver.remote.webelement.WebElement (session=\"e4f66511e268adaf9c4fac44f5d5ca37\", element=\"53591f4a-12be-47c5-8b9e-d9d32593c284\")>,\n",
       " <selenium.webdriver.remote.webelement.WebElement (session=\"e4f66511e268adaf9c4fac44f5d5ca37\", element=\"aab859f8-3bc9-4c41-83d9-5bb4d2f08fcb\")>,\n",
       " <selenium.webdriver.remote.webelement.WebElement (session=\"e4f66511e268adaf9c4fac44f5d5ca37\", element=\"dd26a6ee-42bd-4502-8697-940682dcbe84\")>,\n",
       " <selenium.webdriver.remote.webelement.WebElement (session=\"e4f66511e268adaf9c4fac44f5d5ca37\", element=\"4647b994-3b40-4ecb-8660-e8b9d2da43db\")>,\n",
       " <selenium.webdriver.remote.webelement.WebElement (session=\"e4f66511e268adaf9c4fac44f5d5ca37\", element=\"f9660ebc-c637-49a9-9428-e972374d6ec1\")>,\n",
       " <selenium.webdriver.remote.webelement.WebElement (session=\"e4f66511e268adaf9c4fac44f5d5ca37\", element=\"7190d0c3-f11c-4cab-80ab-c5bd37910533\")>,\n",
       " <selenium.webdriver.remote.webelement.WebElement (session=\"e4f66511e268adaf9c4fac44f5d5ca37\", element=\"aea39af1-6bc0-431f-8c91-d1592ce214b3\")>,\n",
       " <selenium.webdriver.remote.webelement.WebElement (session=\"e4f66511e268adaf9c4fac44f5d5ca37\", element=\"fab50f9b-21fc-422a-996f-afb9539730a6\")>,\n",
       " <selenium.webdriver.remote.webelement.WebElement (session=\"e4f66511e268adaf9c4fac44f5d5ca37\", element=\"b6cbf3d9-6bc0-453c-b152-cc759b4ec938\")>,\n",
       " <selenium.webdriver.remote.webelement.WebElement (session=\"e4f66511e268adaf9c4fac44f5d5ca37\", element=\"7c4695f2-d3a6-467f-837a-7023c5b7c661\")>,\n",
       " <selenium.webdriver.remote.webelement.WebElement (session=\"e4f66511e268adaf9c4fac44f5d5ca37\", element=\"fd74fd81-e37a-4943-9382-03a7cb0f614d\")>,\n",
       " <selenium.webdriver.remote.webelement.WebElement (session=\"e4f66511e268adaf9c4fac44f5d5ca37\", element=\"8805878a-d0fb-49e8-9719-104bd6e9ddee\")>,\n",
       " <selenium.webdriver.remote.webelement.WebElement (session=\"e4f66511e268adaf9c4fac44f5d5ca37\", element=\"de7b4dd8-bc11-43bf-8da3-dcab8e2c183b\")>,\n",
       " <selenium.webdriver.remote.webelement.WebElement (session=\"e4f66511e268adaf9c4fac44f5d5ca37\", element=\"2ce519a0-90d5-4a59-8591-b0f7e932c4c0\")>,\n",
       " <selenium.webdriver.remote.webelement.WebElement (session=\"e4f66511e268adaf9c4fac44f5d5ca37\", element=\"4e927db2-b482-42f6-a227-5dd6422c3e4d\")>,\n",
       " <selenium.webdriver.remote.webelement.WebElement (session=\"e4f66511e268adaf9c4fac44f5d5ca37\", element=\"dde32901-5858-482b-99ed-fa426a34a8ad\")>,\n",
       " <selenium.webdriver.remote.webelement.WebElement (session=\"e4f66511e268adaf9c4fac44f5d5ca37\", element=\"31c3f769-1649-4c34-8236-e1ded98c0741\")>,\n",
       " <selenium.webdriver.remote.webelement.WebElement (session=\"e4f66511e268adaf9c4fac44f5d5ca37\", element=\"9f1b3734-c400-40f5-8484-30864185ce03\")>,\n",
       " <selenium.webdriver.remote.webelement.WebElement (session=\"e4f66511e268adaf9c4fac44f5d5ca37\", element=\"56663f03-4e5a-4513-9f49-d9ef926df85b\")>,\n",
       " <selenium.webdriver.remote.webelement.WebElement (session=\"e4f66511e268adaf9c4fac44f5d5ca37\", element=\"8b88c961-4bb7-4bd4-892d-6e3ec774d56f\")>,\n",
       " <selenium.webdriver.remote.webelement.WebElement (session=\"e4f66511e268adaf9c4fac44f5d5ca37\", element=\"2340d572-e2a4-482f-b6b0-84097f492bed\")>]"
      ]
     },
     "execution_count": 31,
     "metadata": {},
     "output_type": "execute_result"
    }
   ],
   "source": [
    "price_tags2=driver.find_elements_by_xpath(\"//div[@class='_30jeq3']\")\n",
    "price_tags2"
   ]
  },
  {
   "cell_type": "code",
   "execution_count": 32,
   "metadata": {},
   "outputs": [
    {
     "data": {
      "text/plain": [
       "['₹669',\n",
       " '₹669',\n",
       " '₹225',\n",
       " '₹426',\n",
       " '₹331',\n",
       " '₹579',\n",
       " '₹319',\n",
       " '₹904',\n",
       " '₹599',\n",
       " '₹599',\n",
       " '₹211',\n",
       " '₹274',\n",
       " '₹516',\n",
       " '₹331',\n",
       " '₹425',\n",
       " '₹759',\n",
       " '₹379',\n",
       " '₹225',\n",
       " '₹599',\n",
       " '₹759',\n",
       " '₹239',\n",
       " '₹599',\n",
       " '₹399',\n",
       " '₹568',\n",
       " '₹209',\n",
       " '₹295',\n",
       " '₹189',\n",
       " '₹711',\n",
       " '₹210',\n",
       " '₹255',\n",
       " '₹699',\n",
       " '₹399',\n",
       " '₹579',\n",
       " '₹303',\n",
       " '₹210',\n",
       " '₹380',\n",
       " '₹609',\n",
       " '₹299',\n",
       " '₹282',\n",
       " '₹472']"
      ]
     },
     "execution_count": 32,
     "metadata": {},
     "output_type": "execute_result"
    }
   ],
   "source": [
    "price_amount2=[]\n",
    "for i in price_tags2:\n",
    "    price_amount2.append(i.text)\n",
    "price_amount2     "
   ]
  },
  {
   "cell_type": "code",
   "execution_count": 33,
   "metadata": {},
   "outputs": [
    {
     "name": "stdout",
     "output_type": "stream",
     "text": [
      "40\n"
     ]
    }
   ],
   "source": [
    "print(len(price_amount2))"
   ]
  },
  {
   "cell_type": "code",
   "execution_count": 34,
   "metadata": {},
   "outputs": [],
   "source": [
    "price_amount2=price_amount2 [:20]"
   ]
  },
  {
   "cell_type": "code",
   "execution_count": 35,
   "metadata": {},
   "outputs": [
    {
     "data": {
      "text/plain": [
       "['₹669',\n",
       " '₹669',\n",
       " '₹225',\n",
       " '₹426',\n",
       " '₹331',\n",
       " '₹579',\n",
       " '₹319',\n",
       " '₹904',\n",
       " '₹599',\n",
       " '₹599',\n",
       " '₹211',\n",
       " '₹274',\n",
       " '₹516',\n",
       " '₹331',\n",
       " '₹425',\n",
       " '₹759',\n",
       " '₹379',\n",
       " '₹225',\n",
       " '₹599',\n",
       " '₹759']"
      ]
     },
     "execution_count": 35,
     "metadata": {},
     "output_type": "execute_result"
    }
   ],
   "source": [
    "price_amount2"
   ]
  },
  {
   "cell_type": "code",
   "execution_count": 36,
   "metadata": {},
   "outputs": [
    {
     "name": "stdout",
     "output_type": "stream",
     "text": [
      "20\n"
     ]
    }
   ],
   "source": [
    "print(len(price_amount2))"
   ]
  },
  {
   "cell_type": "code",
   "execution_count": 125,
   "metadata": {},
   "outputs": [
    {
     "data": {
      "text/plain": [
       "['₹199',\n",
       " '₹739',\n",
       " '₹295',\n",
       " '₹599',\n",
       " '₹499',\n",
       " '₹699',\n",
       " '₹299',\n",
       " '₹799',\n",
       " '₹225',\n",
       " '₹225',\n",
       " '₹379',\n",
       " '₹664',\n",
       " '₹599',\n",
       " '₹599',\n",
       " '₹210',\n",
       " '₹664',\n",
       " '₹299',\n",
       " '₹969',\n",
       " '₹949',\n",
       " '₹699',\n",
       " '₹225',\n",
       " '₹629',\n",
       " '₹246',\n",
       " '₹1,009',\n",
       " '₹331',\n",
       " '₹499',\n",
       " '₹204',\n",
       " '₹599',\n",
       " '₹331',\n",
       " '₹210',\n",
       " '₹214',\n",
       " '₹664',\n",
       " '₹334',\n",
       " '₹312',\n",
       " '₹609',\n",
       " '₹426',\n",
       " '₹1,479',\n",
       " '₹239',\n",
       " '₹284',\n",
       " '₹305',\n",
       " '₹284',\n",
       " '₹257',\n",
       " '₹539',\n",
       " '₹664',\n",
       " '₹404',\n",
       " '₹312',\n",
       " '₹169',\n",
       " '₹237',\n",
       " '₹379',\n",
       " '₹426',\n",
       " '₹334',\n",
       " '₹664',\n",
       " '₹379',\n",
       " '₹328',\n",
       " '₹246',\n",
       " '₹219',\n",
       " '₹269',\n",
       " '₹232',\n",
       " '₹398',\n",
       " '₹549',\n",
       " '₹609',\n",
       " '₹529',\n",
       " '₹224',\n",
       " '₹854',\n",
       " '₹474',\n",
       " '₹249',\n",
       " '₹229',\n",
       " '₹487',\n",
       " '₹559',\n",
       " '₹969',\n",
       " '₹474',\n",
       " '₹303',\n",
       " '₹295',\n",
       " '₹202',\n",
       " '₹314',\n",
       " '₹664',\n",
       " '₹331',\n",
       " '₹203',\n",
       " '₹309',\n",
       " '₹533',\n",
       " '₹669',\n",
       " '₹669',\n",
       " '₹225',\n",
       " '₹426',\n",
       " '₹331',\n",
       " '₹579',\n",
       " '₹319',\n",
       " '₹904',\n",
       " '₹599',\n",
       " '₹599',\n",
       " '₹211',\n",
       " '₹274',\n",
       " '₹516',\n",
       " '₹331',\n",
       " '₹425',\n",
       " '₹759',\n",
       " '₹379',\n",
       " '₹225',\n",
       " '₹599',\n",
       " '₹759']"
      ]
     },
     "execution_count": 125,
     "metadata": {},
     "output_type": "execute_result"
    }
   ],
   "source": [
    "Prices = price_amount + price_amount1 + price_amount2\n",
    "\n",
    "Prices"
   ]
  },
  {
   "cell_type": "code",
   "execution_count": 126,
   "metadata": {},
   "outputs": [
    {
     "name": "stdout",
     "output_type": "stream",
     "text": [
      "100\n"
     ]
    }
   ],
   "source": [
    "print(len(Prices))"
   ]
  },
  {
   "cell_type": "code",
   "execution_count": 37,
   "metadata": {},
   "outputs": [
    {
     "data": {
      "text/plain": [
       "[<selenium.webdriver.remote.webelement.WebElement (session=\"e4f66511e268adaf9c4fac44f5d5ca37\", element=\"10911de9-39f6-491d-b68f-0fd7df05fef2\")>,\n",
       " <selenium.webdriver.remote.webelement.WebElement (session=\"e4f66511e268adaf9c4fac44f5d5ca37\", element=\"71924480-543d-405d-bf8f-e5c84677cccb\")>,\n",
       " <selenium.webdriver.remote.webelement.WebElement (session=\"e4f66511e268adaf9c4fac44f5d5ca37\", element=\"787b9563-f8cb-4dc4-acba-518ddf811f02\")>,\n",
       " <selenium.webdriver.remote.webelement.WebElement (session=\"e4f66511e268adaf9c4fac44f5d5ca37\", element=\"0108d600-8968-4280-b014-6e7cc75af177\")>,\n",
       " <selenium.webdriver.remote.webelement.WebElement (session=\"e4f66511e268adaf9c4fac44f5d5ca37\", element=\"497c3bca-c760-4fdb-99ab-f2d722146e5a\")>,\n",
       " <selenium.webdriver.remote.webelement.WebElement (session=\"e4f66511e268adaf9c4fac44f5d5ca37\", element=\"b0a0b063-af79-47b7-8453-f1ab1555e493\")>,\n",
       " <selenium.webdriver.remote.webelement.WebElement (session=\"e4f66511e268adaf9c4fac44f5d5ca37\", element=\"b7f5b00d-bdc0-4a1b-81d1-ac98141132f8\")>,\n",
       " <selenium.webdriver.remote.webelement.WebElement (session=\"e4f66511e268adaf9c4fac44f5d5ca37\", element=\"3412c13a-08fd-47fb-bbb1-0cdf5415e339\")>,\n",
       " <selenium.webdriver.remote.webelement.WebElement (session=\"e4f66511e268adaf9c4fac44f5d5ca37\", element=\"1d91895a-3e9e-4b81-bd30-95bd4bbf2ab6\")>,\n",
       " <selenium.webdriver.remote.webelement.WebElement (session=\"e4f66511e268adaf9c4fac44f5d5ca37\", element=\"b0a1b9c2-cfc4-49c9-8175-df9ccaabb250\")>,\n",
       " <selenium.webdriver.remote.webelement.WebElement (session=\"e4f66511e268adaf9c4fac44f5d5ca37\", element=\"d4a7f9ff-f393-46c2-9a8a-fd31b371d4e1\")>,\n",
       " <selenium.webdriver.remote.webelement.WebElement (session=\"e4f66511e268adaf9c4fac44f5d5ca37\", element=\"a662598a-479f-4fde-a250-3f55b55dd87a\")>,\n",
       " <selenium.webdriver.remote.webelement.WebElement (session=\"e4f66511e268adaf9c4fac44f5d5ca37\", element=\"126764af-d5cb-4daa-8cd4-ffdcbbee2c24\")>,\n",
       " <selenium.webdriver.remote.webelement.WebElement (session=\"e4f66511e268adaf9c4fac44f5d5ca37\", element=\"ddd50c7c-c6fb-4ffe-b3c0-a25037d823a8\")>,\n",
       " <selenium.webdriver.remote.webelement.WebElement (session=\"e4f66511e268adaf9c4fac44f5d5ca37\", element=\"5c832f4e-1bd8-4eea-bb04-a4960d5edff4\")>,\n",
       " <selenium.webdriver.remote.webelement.WebElement (session=\"e4f66511e268adaf9c4fac44f5d5ca37\", element=\"8d006c42-7799-468c-b2d6-4c006d5c7f40\")>,\n",
       " <selenium.webdriver.remote.webelement.WebElement (session=\"e4f66511e268adaf9c4fac44f5d5ca37\", element=\"ec479314-750a-40e4-bddb-71e778aafc25\")>,\n",
       " <selenium.webdriver.remote.webelement.WebElement (session=\"e4f66511e268adaf9c4fac44f5d5ca37\", element=\"39660694-af72-4584-833a-9ee02d67020f\")>,\n",
       " <selenium.webdriver.remote.webelement.WebElement (session=\"e4f66511e268adaf9c4fac44f5d5ca37\", element=\"3aa7f044-ccfd-48df-b596-bc778aa9ce8b\")>,\n",
       " <selenium.webdriver.remote.webelement.WebElement (session=\"e4f66511e268adaf9c4fac44f5d5ca37\", element=\"3e0d3b6b-f8e9-4ef2-8441-b564f998005a\")>,\n",
       " <selenium.webdriver.remote.webelement.WebElement (session=\"e4f66511e268adaf9c4fac44f5d5ca37\", element=\"bf601687-4d9c-44be-a80b-b585186d9bab\")>,\n",
       " <selenium.webdriver.remote.webelement.WebElement (session=\"e4f66511e268adaf9c4fac44f5d5ca37\", element=\"0459a379-f39f-42d6-ac61-72f4aa13cf66\")>,\n",
       " <selenium.webdriver.remote.webelement.WebElement (session=\"e4f66511e268adaf9c4fac44f5d5ca37\", element=\"45f57c95-1286-4171-9b47-7f343c3c966d\")>,\n",
       " <selenium.webdriver.remote.webelement.WebElement (session=\"e4f66511e268adaf9c4fac44f5d5ca37\", element=\"96388c7c-de85-4ce0-93ca-422e043d8ab8\")>,\n",
       " <selenium.webdriver.remote.webelement.WebElement (session=\"e4f66511e268adaf9c4fac44f5d5ca37\", element=\"0d86b469-823e-421d-a326-8a842d433ada\")>,\n",
       " <selenium.webdriver.remote.webelement.WebElement (session=\"e4f66511e268adaf9c4fac44f5d5ca37\", element=\"ac80f075-25a0-4d39-8d7f-036d7bbf68f3\")>,\n",
       " <selenium.webdriver.remote.webelement.WebElement (session=\"e4f66511e268adaf9c4fac44f5d5ca37\", element=\"8f299905-0982-42ce-87b6-e65b2a3fe9af\")>,\n",
       " <selenium.webdriver.remote.webelement.WebElement (session=\"e4f66511e268adaf9c4fac44f5d5ca37\", element=\"22b0a854-fffe-42ce-91af-da80756cd93c\")>,\n",
       " <selenium.webdriver.remote.webelement.WebElement (session=\"e4f66511e268adaf9c4fac44f5d5ca37\", element=\"92155ecf-0b6b-48f4-b85e-6223261897f3\")>,\n",
       " <selenium.webdriver.remote.webelement.WebElement (session=\"e4f66511e268adaf9c4fac44f5d5ca37\", element=\"8e31e016-7504-479d-bd94-a8951e8e307e\")>,\n",
       " <selenium.webdriver.remote.webelement.WebElement (session=\"e4f66511e268adaf9c4fac44f5d5ca37\", element=\"ae62a0d1-011e-4ee3-874b-830d6a8723aa\")>,\n",
       " <selenium.webdriver.remote.webelement.WebElement (session=\"e4f66511e268adaf9c4fac44f5d5ca37\", element=\"2dfd0d75-8509-4e64-b7fb-06716c4d04d8\")>,\n",
       " <selenium.webdriver.remote.webelement.WebElement (session=\"e4f66511e268adaf9c4fac44f5d5ca37\", element=\"7d1c03aa-ffeb-4294-9d91-9830ede86d56\")>,\n",
       " <selenium.webdriver.remote.webelement.WebElement (session=\"e4f66511e268adaf9c4fac44f5d5ca37\", element=\"ca5c7c28-1473-4a08-919d-80dffc788707\")>,\n",
       " <selenium.webdriver.remote.webelement.WebElement (session=\"e4f66511e268adaf9c4fac44f5d5ca37\", element=\"bbffc078-a52e-4313-8837-13799db8f6f9\")>,\n",
       " <selenium.webdriver.remote.webelement.WebElement (session=\"e4f66511e268adaf9c4fac44f5d5ca37\", element=\"d96aa29a-b70e-4d24-bdca-cc9637e47488\")>,\n",
       " <selenium.webdriver.remote.webelement.WebElement (session=\"e4f66511e268adaf9c4fac44f5d5ca37\", element=\"f16ccd1c-8bb4-4a22-9f4f-61603efdaac7\")>,\n",
       " <selenium.webdriver.remote.webelement.WebElement (session=\"e4f66511e268adaf9c4fac44f5d5ca37\", element=\"349949d2-0ca1-45cb-ae00-a0b9234b433f\")>,\n",
       " <selenium.webdriver.remote.webelement.WebElement (session=\"e4f66511e268adaf9c4fac44f5d5ca37\", element=\"5a092bac-923c-49ff-b7b1-900f714a943c\")>,\n",
       " <selenium.webdriver.remote.webelement.WebElement (session=\"e4f66511e268adaf9c4fac44f5d5ca37\", element=\"8e4ef791-603c-4160-8e9c-ee4dd5bc7796\")>]"
      ]
     },
     "execution_count": 37,
     "metadata": {},
     "output_type": "execute_result"
    }
   ],
   "source": [
    "discount_tags=driver.find_elements_by_xpath(\"//div[@class='_3Ay6Sb']\")\n",
    "discount_tags"
   ]
  },
  {
   "cell_type": "code",
   "execution_count": 38,
   "metadata": {},
   "outputs": [
    {
     "data": {
      "text/plain": [
       "['86% off',\n",
       " '71% off',\n",
       " '88% off',\n",
       " '25% off',\n",
       " '37% off',\n",
       " '22% off',\n",
       " '88% off',\n",
       " '66% off',\n",
       " '85% off',\n",
       " '85% off',\n",
       " '81% off',\n",
       " '60% off',\n",
       " '33% off',\n",
       " '33% off',\n",
       " '82% off',\n",
       " '66% off',\n",
       " '88% off',\n",
       " '25% off',\n",
       " '79% off',\n",
       " '53% off',\n",
       " '26% off',\n",
       " '77% off',\n",
       " '83% off',\n",
       " '70% off',\n",
       " '30% off',\n",
       " '77% off',\n",
       " '74% off',\n",
       " '68% off',\n",
       " '85% off',\n",
       " '74% off',\n",
       " '69% off',\n",
       " '55% off',\n",
       " '32% off',\n",
       " '77% off',\n",
       " '29% off',\n",
       " '78% off',\n",
       " '85% off',\n",
       " '26% off',\n",
       " '76% off',\n",
       " '72% off']"
      ]
     },
     "execution_count": 38,
     "metadata": {},
     "output_type": "execute_result"
    }
   ],
   "source": [
    "discount=[]\n",
    "for i in discount_tags:\n",
    "    discount.append(i.text)\n",
    "discount     "
   ]
  },
  {
   "cell_type": "code",
   "execution_count": 39,
   "metadata": {},
   "outputs": [
    {
     "name": "stdout",
     "output_type": "stream",
     "text": [
      "40\n"
     ]
    }
   ],
   "source": [
    "print(len(discount))"
   ]
  },
  {
   "cell_type": "code",
   "execution_count": 57,
   "metadata": {},
   "outputs": [
    {
     "data": {
      "text/plain": [
       "[<selenium.webdriver.remote.webelement.WebElement (session=\"e4f66511e268adaf9c4fac44f5d5ca37\", element=\"7334deb0-8051-440d-8b95-bdf56f1dd64a\")>,\n",
       " <selenium.webdriver.remote.webelement.WebElement (session=\"e4f66511e268adaf9c4fac44f5d5ca37\", element=\"848f3c64-a100-4415-a5ff-3ca0955a93c6\")>,\n",
       " <selenium.webdriver.remote.webelement.WebElement (session=\"e4f66511e268adaf9c4fac44f5d5ca37\", element=\"dd2e3b12-0267-40c8-a16e-de28b3ef1eee\")>,\n",
       " <selenium.webdriver.remote.webelement.WebElement (session=\"e4f66511e268adaf9c4fac44f5d5ca37\", element=\"3aa45691-c1ea-4727-9774-3a316d72177c\")>,\n",
       " <selenium.webdriver.remote.webelement.WebElement (session=\"e4f66511e268adaf9c4fac44f5d5ca37\", element=\"f6868882-ba69-4f4b-8738-f297fbb3a48f\")>,\n",
       " <selenium.webdriver.remote.webelement.WebElement (session=\"e4f66511e268adaf9c4fac44f5d5ca37\", element=\"ecb05d8c-7e52-4bf1-8e9a-279fe46a72cb\")>,\n",
       " <selenium.webdriver.remote.webelement.WebElement (session=\"e4f66511e268adaf9c4fac44f5d5ca37\", element=\"7ca8a9ad-7053-48df-9397-8b9ce021387e\")>,\n",
       " <selenium.webdriver.remote.webelement.WebElement (session=\"e4f66511e268adaf9c4fac44f5d5ca37\", element=\"9e0fb256-868c-4d7a-8e59-3de8054e9fb0\")>,\n",
       " <selenium.webdriver.remote.webelement.WebElement (session=\"e4f66511e268adaf9c4fac44f5d5ca37\", element=\"784883cc-88d6-4595-9148-d6b589641d98\")>,\n",
       " <selenium.webdriver.remote.webelement.WebElement (session=\"e4f66511e268adaf9c4fac44f5d5ca37\", element=\"f5f17c75-74d5-40b3-bce1-8d520057056f\")>,\n",
       " <selenium.webdriver.remote.webelement.WebElement (session=\"e4f66511e268adaf9c4fac44f5d5ca37\", element=\"b8685a16-7197-4b5d-8c0b-0df7b7abf4d0\")>,\n",
       " <selenium.webdriver.remote.webelement.WebElement (session=\"e4f66511e268adaf9c4fac44f5d5ca37\", element=\"797b8cb8-4d3d-4a7b-8d08-fb985675b923\")>,\n",
       " <selenium.webdriver.remote.webelement.WebElement (session=\"e4f66511e268adaf9c4fac44f5d5ca37\", element=\"44a498a0-7ca9-45c8-8b72-b1011e8e1239\")>,\n",
       " <selenium.webdriver.remote.webelement.WebElement (session=\"e4f66511e268adaf9c4fac44f5d5ca37\", element=\"4569ee34-a480-44d9-ae9e-30d8901e86db\")>,\n",
       " <selenium.webdriver.remote.webelement.WebElement (session=\"e4f66511e268adaf9c4fac44f5d5ca37\", element=\"e0870afd-69fd-46c1-b765-c39f22314510\")>,\n",
       " <selenium.webdriver.remote.webelement.WebElement (session=\"e4f66511e268adaf9c4fac44f5d5ca37\", element=\"43f915e2-1fa1-46a5-8843-f38009a31168\")>,\n",
       " <selenium.webdriver.remote.webelement.WebElement (session=\"e4f66511e268adaf9c4fac44f5d5ca37\", element=\"b348f071-d206-4ec5-928f-5d89b667e992\")>,\n",
       " <selenium.webdriver.remote.webelement.WebElement (session=\"e4f66511e268adaf9c4fac44f5d5ca37\", element=\"33840206-a559-45ff-b4a2-e1b384aa8638\")>,\n",
       " <selenium.webdriver.remote.webelement.WebElement (session=\"e4f66511e268adaf9c4fac44f5d5ca37\", element=\"59fdc669-dff0-47de-9724-24e7b0f7f62a\")>,\n",
       " <selenium.webdriver.remote.webelement.WebElement (session=\"e4f66511e268adaf9c4fac44f5d5ca37\", element=\"6e9d92cb-82f7-4022-9a63-c43655691e14\")>,\n",
       " <selenium.webdriver.remote.webelement.WebElement (session=\"e4f66511e268adaf9c4fac44f5d5ca37\", element=\"6d76d9f5-0b34-43c6-9c37-e5162834c2cb\")>,\n",
       " <selenium.webdriver.remote.webelement.WebElement (session=\"e4f66511e268adaf9c4fac44f5d5ca37\", element=\"7854fb29-0b06-4f9c-b913-c5b7124bbc3d\")>,\n",
       " <selenium.webdriver.remote.webelement.WebElement (session=\"e4f66511e268adaf9c4fac44f5d5ca37\", element=\"d296efc1-05e7-484a-932a-bdc03d9ae79a\")>,\n",
       " <selenium.webdriver.remote.webelement.WebElement (session=\"e4f66511e268adaf9c4fac44f5d5ca37\", element=\"0628742c-2b05-43fe-89db-95411c525f26\")>,\n",
       " <selenium.webdriver.remote.webelement.WebElement (session=\"e4f66511e268adaf9c4fac44f5d5ca37\", element=\"e3b1528d-6b97-4ac0-9fd2-5099c29d7a95\")>,\n",
       " <selenium.webdriver.remote.webelement.WebElement (session=\"e4f66511e268adaf9c4fac44f5d5ca37\", element=\"e727447d-c7e4-4c9f-98ac-221da7936819\")>,\n",
       " <selenium.webdriver.remote.webelement.WebElement (session=\"e4f66511e268adaf9c4fac44f5d5ca37\", element=\"3d790f5f-9a29-4295-b014-547900d1fb1e\")>,\n",
       " <selenium.webdriver.remote.webelement.WebElement (session=\"e4f66511e268adaf9c4fac44f5d5ca37\", element=\"0c41ec30-0620-47f6-b906-ce348b79f78e\")>,\n",
       " <selenium.webdriver.remote.webelement.WebElement (session=\"e4f66511e268adaf9c4fac44f5d5ca37\", element=\"c449a5e5-839b-4bfb-9b09-b92beda6b90b\")>,\n",
       " <selenium.webdriver.remote.webelement.WebElement (session=\"e4f66511e268adaf9c4fac44f5d5ca37\", element=\"06293040-3fd6-4f2e-8cd6-367ec49b7534\")>,\n",
       " <selenium.webdriver.remote.webelement.WebElement (session=\"e4f66511e268adaf9c4fac44f5d5ca37\", element=\"aae093af-893c-41b9-9880-32015774e171\")>,\n",
       " <selenium.webdriver.remote.webelement.WebElement (session=\"e4f66511e268adaf9c4fac44f5d5ca37\", element=\"ed671bbf-17b6-45f6-be56-8d698c472aca\")>,\n",
       " <selenium.webdriver.remote.webelement.WebElement (session=\"e4f66511e268adaf9c4fac44f5d5ca37\", element=\"0a5c1061-6ba9-4041-87fa-9c71fd30f513\")>,\n",
       " <selenium.webdriver.remote.webelement.WebElement (session=\"e4f66511e268adaf9c4fac44f5d5ca37\", element=\"74d273a7-ce7e-42ab-b96b-2c6e02e0c57d\")>,\n",
       " <selenium.webdriver.remote.webelement.WebElement (session=\"e4f66511e268adaf9c4fac44f5d5ca37\", element=\"8532e4e3-1282-4516-8897-94ab9fa1be96\")>,\n",
       " <selenium.webdriver.remote.webelement.WebElement (session=\"e4f66511e268adaf9c4fac44f5d5ca37\", element=\"c2347a9c-c313-41e1-bce4-f71847804a1a\")>,\n",
       " <selenium.webdriver.remote.webelement.WebElement (session=\"e4f66511e268adaf9c4fac44f5d5ca37\", element=\"624d79c5-6e0f-499c-9660-b95ec278cc58\")>,\n",
       " <selenium.webdriver.remote.webelement.WebElement (session=\"e4f66511e268adaf9c4fac44f5d5ca37\", element=\"931cd2de-6087-45c6-8c59-36c7a6fecd6c\")>,\n",
       " <selenium.webdriver.remote.webelement.WebElement (session=\"e4f66511e268adaf9c4fac44f5d5ca37\", element=\"882a8b06-804c-4634-a1f6-768e512de501\")>,\n",
       " <selenium.webdriver.remote.webelement.WebElement (session=\"e4f66511e268adaf9c4fac44f5d5ca37\", element=\"a7addb7b-9598-4960-830e-f05e8fce9a9b\")>]"
      ]
     },
     "execution_count": 57,
     "metadata": {},
     "output_type": "execute_result"
    }
   ],
   "source": [
    "discount_tags1=driver.find_elements_by_xpath(\"//div[@class='_3Ay6Sb']\")\n",
    "discount_tags1"
   ]
  },
  {
   "cell_type": "code",
   "execution_count": 58,
   "metadata": {},
   "outputs": [
    {
     "data": {
      "text/plain": [
       "['75% off',\n",
       " '82% off',\n",
       " '76% off',\n",
       " '71% off',\n",
       " '73% off',\n",
       " '32% off',\n",
       " '33% off',\n",
       " '60% off',\n",
       " '62% off',\n",
       " '68% off',\n",
       " '79% off',\n",
       " '66% off',\n",
       " '80% off',\n",
       " '30% off',\n",
       " '25% off',\n",
       " '53% off',\n",
       " '78% off',\n",
       " '85% off',\n",
       " '83% off',\n",
       " '68% off',\n",
       " '80% off',\n",
       " '83% off',\n",
       " '79% off',\n",
       " '74% off',\n",
       " '66% off',\n",
       " '25% off',\n",
       " '25% off',\n",
       " '55% off',\n",
       " '85% off',\n",
       " '80% off',\n",
       " '35% off',\n",
       " '70% off',\n",
       " '83% off',\n",
       " '20% off',\n",
       " '25% off',\n",
       " '60% off',\n",
       " '78% off',\n",
       " '66% off',\n",
       " '79% off',\n",
       " '78% off']"
      ]
     },
     "execution_count": 58,
     "metadata": {},
     "output_type": "execute_result"
    }
   ],
   "source": [
    "discount1=[]\n",
    "for i in discount_tags1:\n",
    "    discount1.append(i.text)\n",
    "discount1"
   ]
  },
  {
   "cell_type": "code",
   "execution_count": 59,
   "metadata": {},
   "outputs": [
    {
     "name": "stdout",
     "output_type": "stream",
     "text": [
      "40\n"
     ]
    }
   ],
   "source": [
    "print(len(discount1))"
   ]
  },
  {
   "cell_type": "code",
   "execution_count": 60,
   "metadata": {},
   "outputs": [
    {
     "data": {
      "text/plain": [
       "[<selenium.webdriver.remote.webelement.WebElement (session=\"e4f66511e268adaf9c4fac44f5d5ca37\", element=\"89442850-1983-4dea-8a31-7e549834923d\")>,\n",
       " <selenium.webdriver.remote.webelement.WebElement (session=\"e4f66511e268adaf9c4fac44f5d5ca37\", element=\"8601e7aa-56dd-4011-9564-8a0e5c1cef11\")>,\n",
       " <selenium.webdriver.remote.webelement.WebElement (session=\"e4f66511e268adaf9c4fac44f5d5ca37\", element=\"6d5f9724-3008-4c8c-a2e6-22ba0edb4094\")>,\n",
       " <selenium.webdriver.remote.webelement.WebElement (session=\"e4f66511e268adaf9c4fac44f5d5ca37\", element=\"3b69e48d-9431-4507-bc83-80ec95076f12\")>,\n",
       " <selenium.webdriver.remote.webelement.WebElement (session=\"e4f66511e268adaf9c4fac44f5d5ca37\", element=\"bdd3c956-5836-4926-b8ef-63c088ac1c5b\")>,\n",
       " <selenium.webdriver.remote.webelement.WebElement (session=\"e4f66511e268adaf9c4fac44f5d5ca37\", element=\"67c0f7bc-492a-43ec-92e6-9bb04ab69fe6\")>,\n",
       " <selenium.webdriver.remote.webelement.WebElement (session=\"e4f66511e268adaf9c4fac44f5d5ca37\", element=\"067d0172-f414-4019-944e-3760f7eb39db\")>,\n",
       " <selenium.webdriver.remote.webelement.WebElement (session=\"e4f66511e268adaf9c4fac44f5d5ca37\", element=\"aaff66ac-0ca6-42f4-b5b7-50a74c1e0d98\")>,\n",
       " <selenium.webdriver.remote.webelement.WebElement (session=\"e4f66511e268adaf9c4fac44f5d5ca37\", element=\"751d7e5d-7410-4a1e-9cf7-c27a831f8422\")>,\n",
       " <selenium.webdriver.remote.webelement.WebElement (session=\"e4f66511e268adaf9c4fac44f5d5ca37\", element=\"82fb61bb-6aee-4908-8d9d-018328e8ff32\")>,\n",
       " <selenium.webdriver.remote.webelement.WebElement (session=\"e4f66511e268adaf9c4fac44f5d5ca37\", element=\"d54b9878-86d5-46e9-bee8-ba9af4107fb6\")>,\n",
       " <selenium.webdriver.remote.webelement.WebElement (session=\"e4f66511e268adaf9c4fac44f5d5ca37\", element=\"015572a4-19f0-44ce-8a6e-8ea8877579e6\")>,\n",
       " <selenium.webdriver.remote.webelement.WebElement (session=\"e4f66511e268adaf9c4fac44f5d5ca37\", element=\"d47e386d-9f97-4cb6-9c65-ac6dcf4bf402\")>,\n",
       " <selenium.webdriver.remote.webelement.WebElement (session=\"e4f66511e268adaf9c4fac44f5d5ca37\", element=\"144d0fe8-403e-4dd3-8cdf-7651a9305268\")>,\n",
       " <selenium.webdriver.remote.webelement.WebElement (session=\"e4f66511e268adaf9c4fac44f5d5ca37\", element=\"0c215a43-8cd8-4801-83e8-34166746b401\")>,\n",
       " <selenium.webdriver.remote.webelement.WebElement (session=\"e4f66511e268adaf9c4fac44f5d5ca37\", element=\"d2bdda05-b175-4e58-9904-232a186216b7\")>,\n",
       " <selenium.webdriver.remote.webelement.WebElement (session=\"e4f66511e268adaf9c4fac44f5d5ca37\", element=\"eae4fd1b-3285-4896-b3d0-84105f1b49cb\")>,\n",
       " <selenium.webdriver.remote.webelement.WebElement (session=\"e4f66511e268adaf9c4fac44f5d5ca37\", element=\"03f23e9e-5fce-4fee-a28a-168ad77f40c8\")>,\n",
       " <selenium.webdriver.remote.webelement.WebElement (session=\"e4f66511e268adaf9c4fac44f5d5ca37\", element=\"08605ed7-fd7f-4968-b4db-f61edf19e4c8\")>,\n",
       " <selenium.webdriver.remote.webelement.WebElement (session=\"e4f66511e268adaf9c4fac44f5d5ca37\", element=\"ff775ea7-9d81-483f-a2ce-069a0de54c0e\")>,\n",
       " <selenium.webdriver.remote.webelement.WebElement (session=\"e4f66511e268adaf9c4fac44f5d5ca37\", element=\"92156124-e129-4b23-acf7-e46b93cd8671\")>,\n",
       " <selenium.webdriver.remote.webelement.WebElement (session=\"e4f66511e268adaf9c4fac44f5d5ca37\", element=\"27647f97-be0d-4d08-b84f-3d9b406e4cc9\")>,\n",
       " <selenium.webdriver.remote.webelement.WebElement (session=\"e4f66511e268adaf9c4fac44f5d5ca37\", element=\"393eb309-9b16-4e9f-b2e8-14799afcb428\")>,\n",
       " <selenium.webdriver.remote.webelement.WebElement (session=\"e4f66511e268adaf9c4fac44f5d5ca37\", element=\"92fe8df4-77b0-476f-be69-6fc89ff0e70d\")>,\n",
       " <selenium.webdriver.remote.webelement.WebElement (session=\"e4f66511e268adaf9c4fac44f5d5ca37\", element=\"58fec1c6-b009-4a4d-a645-16e1c6b4cafc\")>,\n",
       " <selenium.webdriver.remote.webelement.WebElement (session=\"e4f66511e268adaf9c4fac44f5d5ca37\", element=\"458a6e96-1c71-4cfe-b4e7-9fb165e36aba\")>,\n",
       " <selenium.webdriver.remote.webelement.WebElement (session=\"e4f66511e268adaf9c4fac44f5d5ca37\", element=\"4e884b39-fc98-4cf2-b75d-26d189579ec6\")>,\n",
       " <selenium.webdriver.remote.webelement.WebElement (session=\"e4f66511e268adaf9c4fac44f5d5ca37\", element=\"c45ba3ab-4b70-4a0e-8c74-653c9d643085\")>,\n",
       " <selenium.webdriver.remote.webelement.WebElement (session=\"e4f66511e268adaf9c4fac44f5d5ca37\", element=\"ddc38567-4624-4de0-8228-62e349d94a78\")>,\n",
       " <selenium.webdriver.remote.webelement.WebElement (session=\"e4f66511e268adaf9c4fac44f5d5ca37\", element=\"74906316-ad6b-463d-8c10-2f8e8b67b02a\")>,\n",
       " <selenium.webdriver.remote.webelement.WebElement (session=\"e4f66511e268adaf9c4fac44f5d5ca37\", element=\"40b8194c-05f3-4a27-b479-e7a2f7749517\")>,\n",
       " <selenium.webdriver.remote.webelement.WebElement (session=\"e4f66511e268adaf9c4fac44f5d5ca37\", element=\"7748c504-5fa8-4d05-a73e-da1844a4e291\")>,\n",
       " <selenium.webdriver.remote.webelement.WebElement (session=\"e4f66511e268adaf9c4fac44f5d5ca37\", element=\"3339c5f9-2031-4b3a-8885-d3e5c3bb6a84\")>,\n",
       " <selenium.webdriver.remote.webelement.WebElement (session=\"e4f66511e268adaf9c4fac44f5d5ca37\", element=\"d6c61608-1770-499d-b3c5-ced7ef081138\")>,\n",
       " <selenium.webdriver.remote.webelement.WebElement (session=\"e4f66511e268adaf9c4fac44f5d5ca37\", element=\"b92142a3-9249-471c-a7be-1c1047c2a223\")>,\n",
       " <selenium.webdriver.remote.webelement.WebElement (session=\"e4f66511e268adaf9c4fac44f5d5ca37\", element=\"751ccecb-a0ab-4719-a5da-8ee5184765c7\")>,\n",
       " <selenium.webdriver.remote.webelement.WebElement (session=\"e4f66511e268adaf9c4fac44f5d5ca37\", element=\"b323542c-2e2b-484d-8e9c-f02e534b2931\")>,\n",
       " <selenium.webdriver.remote.webelement.WebElement (session=\"e4f66511e268adaf9c4fac44f5d5ca37\", element=\"4254d7c2-bd79-496d-976b-dc53a613596f\")>,\n",
       " <selenium.webdriver.remote.webelement.WebElement (session=\"e4f66511e268adaf9c4fac44f5d5ca37\", element=\"1715eebf-53f8-475b-8aba-998c04644012\")>,\n",
       " <selenium.webdriver.remote.webelement.WebElement (session=\"e4f66511e268adaf9c4fac44f5d5ca37\", element=\"eeef4a68-a3fd-484f-9344-57097296a43b\")>]"
      ]
     },
     "execution_count": 60,
     "metadata": {},
     "output_type": "execute_result"
    }
   ],
   "source": [
    "discount_tags2=driver.find_elements_by_xpath(\"//div[@class='_3Ay6Sb']\")\n",
    "discount_tags2"
   ]
  },
  {
   "cell_type": "code",
   "execution_count": 50,
   "metadata": {},
   "outputs": [
    {
     "data": {
      "text/plain": [
       "['25% off',\n",
       " '25% off',\n",
       " '85% off',\n",
       " '85% off',\n",
       " '80% off',\n",
       " '35% off',\n",
       " '83% off',\n",
       " '78% off',\n",
       " '20% off',\n",
       " '25% off',\n",
       " '78% off',\n",
       " '45% off',\n",
       " '66% off',\n",
       " '79% off',\n",
       " '70% off',\n",
       " '57% off',\n",
       " '81% off',\n",
       " '85% off',\n",
       " '25% off',\n",
       " '68% off']"
      ]
     },
     "execution_count": 50,
     "metadata": {},
     "output_type": "execute_result"
    }
   ],
   "source": [
    "discount2=[]\n",
    "for i in discount_tags2:\n",
    "    discount2.append(i.text)\n",
    "discount2=discount2 [:20]  \n",
    "discount2"
   ]
  },
  {
   "cell_type": "code",
   "execution_count": 51,
   "metadata": {},
   "outputs": [
    {
     "name": "stdout",
     "output_type": "stream",
     "text": [
      "20\n"
     ]
    }
   ],
   "source": [
    "print(len(discount2))"
   ]
  },
  {
   "cell_type": "code",
   "execution_count": 120,
   "metadata": {},
   "outputs": [
    {
     "data": {
      "text/plain": [
       "['86% off',\n",
       " '71% off',\n",
       " '88% off',\n",
       " '25% off',\n",
       " '37% off',\n",
       " '22% off',\n",
       " '88% off',\n",
       " '66% off',\n",
       " '85% off',\n",
       " '85% off',\n",
       " '81% off',\n",
       " '60% off',\n",
       " '33% off',\n",
       " '33% off',\n",
       " '82% off',\n",
       " '66% off',\n",
       " '88% off',\n",
       " '25% off',\n",
       " '79% off',\n",
       " '53% off',\n",
       " '26% off',\n",
       " '77% off',\n",
       " '83% off',\n",
       " '70% off',\n",
       " '30% off',\n",
       " '77% off',\n",
       " '74% off',\n",
       " '68% off',\n",
       " '85% off',\n",
       " '74% off',\n",
       " '69% off',\n",
       " '55% off',\n",
       " '32% off',\n",
       " '77% off',\n",
       " '29% off',\n",
       " '78% off',\n",
       " '85% off',\n",
       " '26% off',\n",
       " '76% off',\n",
       " '72% off',\n",
       " '75% off',\n",
       " '82% off',\n",
       " '76% off',\n",
       " '71% off',\n",
       " '73% off',\n",
       " '32% off',\n",
       " '33% off',\n",
       " '60% off',\n",
       " '62% off',\n",
       " '68% off',\n",
       " '79% off',\n",
       " '66% off',\n",
       " '80% off',\n",
       " '30% off',\n",
       " '25% off',\n",
       " '53% off',\n",
       " '78% off',\n",
       " '85% off',\n",
       " '83% off',\n",
       " '68% off',\n",
       " '80% off',\n",
       " '83% off',\n",
       " '79% off',\n",
       " '74% off',\n",
       " '66% off',\n",
       " '25% off',\n",
       " '25% off',\n",
       " '55% off',\n",
       " '85% off',\n",
       " '80% off',\n",
       " '35% off',\n",
       " '70% off',\n",
       " '83% off',\n",
       " '20% off',\n",
       " '25% off',\n",
       " '60% off',\n",
       " '78% off',\n",
       " '66% off',\n",
       " '79% off',\n",
       " '78% off',\n",
       " '25% off',\n",
       " '25% off',\n",
       " '85% off',\n",
       " '85% off',\n",
       " '80% off',\n",
       " '35% off',\n",
       " '83% off',\n",
       " '78% off',\n",
       " '20% off',\n",
       " '25% off',\n",
       " '78% off',\n",
       " '45% off',\n",
       " '66% off',\n",
       " '79% off',\n",
       " '70% off',\n",
       " '57% off',\n",
       " '81% off',\n",
       " '85% off',\n",
       " '25% off',\n",
       " '68% off']"
      ]
     },
     "execution_count": 120,
     "metadata": {},
     "output_type": "execute_result"
    }
   ],
   "source": [
    "Discounts = discount + discount1 + discount2\n",
    "\n",
    "Discounts"
   ]
  },
  {
   "cell_type": "code",
   "execution_count": 121,
   "metadata": {},
   "outputs": [
    {
     "name": "stdout",
     "output_type": "stream",
     "text": [
      "100\n"
     ]
    }
   ],
   "source": [
    "print(len(Discounts))"
   ]
  },
  {
   "cell_type": "code",
   "execution_count": 128,
   "metadata": {},
   "outputs": [
    {
     "data": {
      "text/html": [
       "<div>\n",
       "<style scoped>\n",
       "    .dataframe tbody tr th:only-of-type {\n",
       "        vertical-align: middle;\n",
       "    }\n",
       "\n",
       "    .dataframe tbody tr th {\n",
       "        vertical-align: top;\n",
       "    }\n",
       "\n",
       "    .dataframe thead th {\n",
       "        text-align: right;\n",
       "    }\n",
       "</style>\n",
       "<table border=\"1\" class=\"dataframe\">\n",
       "  <thead>\n",
       "    <tr style=\"text-align: right;\">\n",
       "      <th></th>\n",
       "      <th>Brands</th>\n",
       "      <th>Prices</th>\n",
       "      <th>Discounts</th>\n",
       "    </tr>\n",
       "  </thead>\n",
       "  <tbody>\n",
       "    <tr>\n",
       "      <th>0</th>\n",
       "      <td>HAMIW COLLECTION</td>\n",
       "      <td>₹199</td>\n",
       "      <td>86% off</td>\n",
       "    </tr>\n",
       "    <tr>\n",
       "      <th>1</th>\n",
       "      <td>Wrogn</td>\n",
       "      <td>₹739</td>\n",
       "      <td>71% off</td>\n",
       "    </tr>\n",
       "    <tr>\n",
       "      <th>2</th>\n",
       "      <td>Elligator</td>\n",
       "      <td>₹295</td>\n",
       "      <td>88% off</td>\n",
       "    </tr>\n",
       "    <tr>\n",
       "      <th>3</th>\n",
       "      <td>Fastrack</td>\n",
       "      <td>₹599</td>\n",
       "      <td>25% off</td>\n",
       "    </tr>\n",
       "    <tr>\n",
       "      <th>4</th>\n",
       "      <td>Fastrack</td>\n",
       "      <td>₹499</td>\n",
       "      <td>37% off</td>\n",
       "    </tr>\n",
       "    <tr>\n",
       "      <th>...</th>\n",
       "      <td>...</td>\n",
       "      <td>...</td>\n",
       "      <td>...</td>\n",
       "    </tr>\n",
       "    <tr>\n",
       "      <th>95</th>\n",
       "      <td>ROYAL SON</td>\n",
       "      <td>₹759</td>\n",
       "      <td>57% off</td>\n",
       "    </tr>\n",
       "    <tr>\n",
       "      <th>96</th>\n",
       "      <td>Fastrack</td>\n",
       "      <td>₹379</td>\n",
       "      <td>81% off</td>\n",
       "    </tr>\n",
       "    <tr>\n",
       "      <th>97</th>\n",
       "      <td>ROYAL SON</td>\n",
       "      <td>₹225</td>\n",
       "      <td>85% off</td>\n",
       "    </tr>\n",
       "    <tr>\n",
       "      <th>98</th>\n",
       "      <td>ROYAL SON</td>\n",
       "      <td>₹599</td>\n",
       "      <td>25% off</td>\n",
       "    </tr>\n",
       "    <tr>\n",
       "      <th>99</th>\n",
       "      <td>ROYAL SON</td>\n",
       "      <td>₹759</td>\n",
       "      <td>68% off</td>\n",
       "    </tr>\n",
       "  </tbody>\n",
       "</table>\n",
       "<p>100 rows × 3 columns</p>\n",
       "</div>"
      ],
      "text/plain": [
       "              Brands Prices Discounts\n",
       "0   HAMIW COLLECTION   ₹199   86% off\n",
       "1              Wrogn   ₹739   71% off\n",
       "2          Elligator   ₹295   88% off\n",
       "3           Fastrack   ₹599   25% off\n",
       "4           Fastrack   ₹499   37% off\n",
       "..               ...    ...       ...\n",
       "95         ROYAL SON   ₹759   57% off\n",
       "96          Fastrack   ₹379   81% off\n",
       "97         ROYAL SON   ₹225   85% off\n",
       "98         ROYAL SON   ₹599   25% off\n",
       "99         ROYAL SON   ₹759   68% off\n",
       "\n",
       "[100 rows x 3 columns]"
      ]
     },
     "execution_count": 128,
     "metadata": {},
     "output_type": "execute_result"
    }
   ],
   "source": [
    "jobs=pd.DataFrame({})\n",
    "jobs['Brands']=Brands\n",
    "jobs['Prices']=Prices\n",
    "jobs['Discounts']=Discounts\n",
    "jobs"
   ]
  },
  {
   "cell_type": "markdown",
   "metadata": {},
   "source": [
    "## 7 Scrape 100 reviews data from flipkart.com for iphone11 phone"
   ]
  },
  {
   "cell_type": "markdown",
   "metadata": {},
   "source": [
    "***"
   ]
  },
  {
   "cell_type": "code",
   "execution_count": 97,
   "metadata": {},
   "outputs": [],
   "source": [
    "url = 'https://www.flipkart.com/apple-iphone-11-black-64-gb-includes-earpods-power-adapter/p/itm0f37c2240b217?pid=MOBFKCTSVZAXUHGR&lid=LSTMOBFKCTSVZAXUHGREPBFGI&marketplace'\n",
    "driver.get(url)"
   ]
  },
  {
   "cell_type": "code",
   "execution_count": 98,
   "metadata": {},
   "outputs": [
    {
     "data": {
      "text/plain": [
       "<selenium.webdriver.remote.webelement.WebElement (session=\"0b28c448991642fb31e41a2a573a1360\", element=\"6fa4281e-b39b-4caf-8d86-1f9137e715ee\")>"
      ]
     },
     "execution_count": 98,
     "metadata": {},
     "output_type": "execute_result"
    }
   ],
   "source": [
    "rating_btn=driver.find_element_by_xpath('//div[@class=\"_3UAT2v _16PBlm\"]')\n",
    "rating_btn                     "
   ]
  },
  {
   "cell_type": "code",
   "execution_count": 99,
   "metadata": {},
   "outputs": [],
   "source": [
    "rating_btn.click()"
   ]
  },
  {
   "cell_type": "code",
   "execution_count": 100,
   "metadata": {},
   "outputs": [],
   "source": [
    "url1=\"https://www.flipkart.com/apple-iphone-11-black-64-gb-includes-earpods-power-adapter/product-reviews/itm0f37c2240b217?pid=MOBFKCTSVZAXUHGR&lid=LSTMOBFKCTSVZAXUHGREPBFGI&marketplace=FLIPKART\"\n",
    "driver.get(url1)"
   ]
  },
  {
   "cell_type": "code",
   "execution_count": 101,
   "metadata": {},
   "outputs": [],
   "source": [
    "urls=[]\n",
    "urls_1=driver.find_elements_by_xpath(\"//a[@class='ge-49M _2Kfbh8']\")\n",
    "for i in urls_1:\n",
    "    urls.append(i.get_attribute('href'))\n",
    "urls_2=driver.find_elements_by_xpath(\"//a[@class='ge-49M']\")\n",
    "for i in urls_2:\n",
    "    urls.append(i.get_attribute('href'))"
   ]
  },
  {
   "cell_type": "code",
   "execution_count": 118,
   "metadata": {},
   "outputs": [],
   "source": [
    "Ratings=[]\n",
    "Summary=[]\n",
    "Complete_review=[]\n",
    "\n",
    "for i in urls:\n",
    "    driver.get(i)\n",
    "    for j in driver.find_elements_by_xpath(\"//div[@class='_3LWZlK _1BLPMq']\"):\n",
    "        Ratings.append(j.text)\n",
    "    for k in driver.find_elements_by_xpath(\"//p[@class='_2-N8zT']\"):\n",
    "        Summary.append(k.text)\n",
    "    for l in driver.find_elements_by_xpath(\"//div[@class='t-ZTKy']\"):\n",
    "        Complete_review.append(l.text)    "
   ]
  },
  {
   "cell_type": "code",
   "execution_count": 119,
   "metadata": {},
   "outputs": [
    {
     "name": "stdout",
     "output_type": "stream",
     "text": [
      "98 100 100\n"
     ]
    }
   ],
   "source": [
    "print(len(Ratings),len(Summary),len(Complete_review))"
   ]
  },
  {
   "cell_type": "markdown",
   "metadata": {},
   "source": [
    "Unable to draft the dataframe due to unequla lenth of ratings."
   ]
  },
  {
   "cell_type": "markdown",
   "metadata": {},
   "source": [
    "## 9 Scrapping the shoes features"
   ]
  },
  {
   "cell_type": "code",
   "execution_count": null,
   "metadata": {},
   "outputs": [],
   "source": [
    "url = 'https://www.myntra.com/shoes'\n",
    "driver.get(url)\n",
    "\n",
    "price_filter = driver.find_element_by_xpath('/html/body/div[2]/div/div[1]/main/div[3]/div[1]/section/div/div[5]/ul/li[3]/label')\n",
    "price_filter.click()                                             \n",
    "\n",
    "color_filter = driver.find_element_by_xpath('/html/body/div[2]/div/div[1]/main/div[3]/div[1]/section/div/div[6]/ul/li[1]/label')\n",
    "color_filter.click()                                             \n",
    "\n",
    "brand_tags=driver.find_elements_by_xpath(\"//h3[@class='product-brand']\")\n",
    "brand_tags\n",
    "\n",
    "brand_name = []\n",
    "for i in brand_tags:\n",
    "    brand_name.append(i.text)\n",
    "brand_name\n",
    "\n",
    "print(len(brand_name))\n",
    "\n",
    "second_page = driver.find_element_by_xpath('/html/body/div[2]/div/div[1]/main/div[3]/div[2]/div/div[2]/section/div[2]/ul/li[3]')\n",
    "second_page.click() \n",
    "\n",
    "brand_tags2=driver.find_elements_by_xpath(\"//h3[@class='product-brand']\")\n",
    "brand_tags2\n",
    "\n",
    "brand_name2 = []\n",
    "for i in brand_tags2:\n",
    "    brand_name2.append(i.text)\n",
    "brand_name2\n",
    "\n",
    "print(len(brand_name2))\n",
    "\n",
    "description_tags=driver.find_elements_by_xpath(\"//h4[@class='product-product']\")\n",
    "description_tags\n",
    "\n",
    "brand_description = []\n",
    "for i in description_tags:\n",
    "    brand_description.append(i.text)\n",
    "brand_description    \n",
    "\n",
    "print(len(brand_description)) \n",
    "\n",
    "second_page_description = driver.find_element_by_xpath('/html/body/div[2]/div/div[1]/main/div[3]/div[2]/div/div[2]/section/div[2]/ul/li[3]')\n",
    "second_page_description.click()\n",
    "\n",
    "description_tags2=driver.find_elements_by_xpath(\"//h4[@class='product-product']\")\n",
    "description_tags2\n",
    "\n",
    "brand_description2 = []\n",
    "for i in description_tags2:\n",
    "    brand_description2.append(i.text)\n",
    "brand_description2  \n",
    "\n",
    "print(len(brand_description2)) \n",
    "\n",
    "price_tags=driver.find_elements_by_xpath(\"//div[@class='product-price']\")\n",
    "price_tags\n",
    "\n",
    "price_amount = []\n",
    "for i in price_tags:\n",
    "    price_amount.append(i.text)\n",
    "price_amount    \n",
    "\n",
    "print(len(price_amount))\n",
    "\n",
    "second_page_prices = driver.find_element_by_xpath('/html/body/div[2]/div/div[1]/main/div[3]/div[2]/div/div[2]/section/div[2]/ul/li[3]')\n",
    "second_page_prices.click()\n",
    "\n",
    "price_tags2=driver.find_elements_by_xpath(\"//div[@class='product-price']\")\n",
    "price_tags2\n",
    "\n",
    "price_amount2 = []\n",
    "for i in price_tags2:\n",
    "    price_amount2.append(i.text)\n",
    "price_amount2\n",
    "\n",
    "print(len(price_amount2))\n",
    "\n",
    "Discounts = discount + discount1 + discount2\n",
    "\n",
    "Discounts\n",
    "\n",
    "Brand_names = brand_name + brand_name2\n",
    "Brand_names\n",
    "\n",
    "print(len(Brand_names))\n",
    "\n",
    "Brand_descriptions = brand_description + brand_description \n",
    "Brand_descriptions\n",
    "\n",
    "print(len(Brand_descriptions))\n",
    "\n",
    "Total_Prices = price_amount + price_amount2\n",
    "Total_Prices\n",
    "\n",
    "print(len(Total_Prices))\n",
    "\n",
    "Shoes=pd.DataFrame({})\n",
    "Shoes['Brands']=Brand_names\n",
    "Shoes['Prices']=Total_Prices\n",
    "Shoes['Descriptions']=Brand_descriptions\n",
    "Shoes"
   ]
  },
  {
   "cell_type": "code",
   "execution_count": null,
   "metadata": {},
   "outputs": [],
   "source": []
  },
  {
   "cell_type": "code",
   "execution_count": null,
   "metadata": {},
   "outputs": [],
   "source": []
  },
  {
   "cell_type": "code",
   "execution_count": null,
   "metadata": {},
   "outputs": [],
   "source": []
  },
  {
   "cell_type": "code",
   "execution_count": null,
   "metadata": {},
   "outputs": [],
   "source": []
  },
  {
   "cell_type": "code",
   "execution_count": null,
   "metadata": {},
   "outputs": [],
   "source": []
  },
  {
   "cell_type": "code",
   "execution_count": null,
   "metadata": {},
   "outputs": [],
   "source": []
  },
  {
   "cell_type": "code",
   "execution_count": null,
   "metadata": {},
   "outputs": [],
   "source": []
  },
  {
   "cell_type": "code",
   "execution_count": null,
   "metadata": {},
   "outputs": [],
   "source": []
  },
  {
   "cell_type": "code",
   "execution_count": null,
   "metadata": {},
   "outputs": [],
   "source": []
  }
 ],
 "metadata": {
  "kernelspec": {
   "display_name": "Python 3",
   "language": "python",
   "name": "python3"
  },
  "language_info": {
   "codemirror_mode": {
    "name": "ipython",
    "version": 3
   },
   "file_extension": ".py",
   "mimetype": "text/x-python",
   "name": "python",
   "nbconvert_exporter": "python",
   "pygments_lexer": "ipython3",
   "version": "3.8.5"
  }
 },
 "nbformat": 4,
 "nbformat_minor": 4
}
